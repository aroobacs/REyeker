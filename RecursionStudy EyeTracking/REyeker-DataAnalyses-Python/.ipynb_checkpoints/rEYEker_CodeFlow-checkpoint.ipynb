{
 "cells": [
  {
   "cell_type": "markdown",
   "metadata": {},
   "source": [
    "<h2>Helper Notebook for Creating Code Flow Data</h2>"
   ]
  },
  {
   "cell_type": "code",
   "execution_count": null,
   "metadata": {},
   "outputs": [],
   "source": [
    "# REYeker lib\n",
    "import modules.rEYEkerAnalysis as rEYEker\n",
    "\n",
    "# lib for dataframes\n",
    "import pandas as pd\n",
    "\n",
    "# lib for plotting\n",
    "from matplotlib import pyplot as plt\n",
    "\n",
    "# lib for crerating paths\n",
    "from pathlib import Path"
   ]
  },
  {
   "cell_type": "markdown",
   "metadata": {},
   "source": [
    "<h3>Config</h3>"
   ]
  },
  {
   "cell_type": "code",
   "execution_count": null,
   "metadata": {},
   "outputs": [],
   "source": [
    "#image to load\n",
    "image_path = 'images/TI/TI_Factorial.png'\n",
    "\n",
    "#name for excel file saved in ./data/code_flow folder\n",
    "save_as = 'TI_Factorial'\n",
    "\n",
    "#use input for code sequence, otherwise eddit code\n",
    "get_input = True\n",
    "\n",
    "#show lines in the visualization of code flow\n",
    "show_lines = True\n"
   ]
  },
  {
   "cell_type": "code",
   "execution_count": null,
   "metadata": {},
   "outputs": [],
   "source": [
    "# config\n",
    "offset = 1\n",
    "height_of_line = 28\n",
    "fontsize = 12\n",
    "\n",
    "# calculation\n",
    "ranges = []\n",
    "\n",
    "img = rEYEker.load_image(image_path)\n",
    "height = img.shape[0]\n",
    "width = img.shape[1]\n",
    "\n",
    "rEYEker.display(img, normal_size=True, should_plot=False)\n",
    "\n",
    "i=0\n",
    "dirty = 0\n",
    "if offset>0:\n",
    "    ranges.append((0, offset))\n",
    "    plt.text(0, offset-height_of_line/2, str(i), fontsize=fontsize)\n",
    "    i+=1\n",
    "    dirty = 1\n",
    "    \n",
    "for idx, val in enumerate(range(offset, height, height_of_line)):\n",
    "    plt.text(0, val+height_of_line/2, str(idx+i))\n",
    "    plt.plot([0, width], [val, val], color='grey')\n",
    "    ranges.append((val+dirty, min(val+height_of_line, height -1)))\n",
    "    dirty = 1\n",
    "\n",
    "plt.show()"
   ]
  },
  {
   "cell_type": "markdown",
   "metadata": {},
   "source": [
    "Set Code flow based on lines"
   ]
  },
  {
   "cell_type": "code",
   "execution_count": null,
   "metadata": {},
   "outputs": [],
   "source": [
    "code_flow_input = []\n",
    "\n",
    "if get_input:\n",
    "    code_flow_input = input(\"Pleas Input the Line numbers of Codeflow with a space:\")\n",
    "else:\n",
    "    code_flow_input = \"3 5 8 11 8 11 8 11 8 11 8 11 9 10\"\n",
    "    \n",
    "code_flow_array = [int(x) for x in code_flow_input.strip().split(' ')]"
   ]
  },
  {
   "cell_type": "markdown",
   "metadata": {},
   "source": [
    "Make test visiualization for checking"
   ]
  },
  {
   "cell_type": "code",
   "execution_count": null,
   "metadata": {},
   "outputs": [],
   "source": [
    "visualization_data = [(0, int((ranges[num][0]+ranges[num][1])/2)) for num in code_flow_array]\n",
    "visualization_img = rEYEker.draw_vertical_line_diagram(img, visualization_data, should_copy=True)\n",
    "\n",
    "rEYEker.display(visualization_img, normal_size=True, should_plot=False)\n",
    "if show_lines:\n",
    "    for tup in ranges:\n",
    "        plt.plot([0, width], [tup[1], tup[1]], color='grey')\n",
    "plt.show()"
   ]
  },
  {
   "cell_type": "markdown",
   "metadata": {},
   "source": [
    "save Data to Excel"
   ]
  },
  {
   "cell_type": "code",
   "execution_count": 29,
   "metadata": {},
   "outputs": [],
   "source": [
    "cols = [\"start\", \"stop\"]\n",
    "tmp_list = []\n",
    "for (start, stop) in ranges:\n",
    "    tmp_list.append([start, stop])\n",
    "    \n",
    "df_config = pd.DataFrame(tmp_list, columns=cols)\n",
    "df_values = pd.DataFrame(code_flow_array, columns=['code flow'])\n",
    "\n",
    "folder = \"./data/code_flow/\"\n",
    "Path(folder).mkdir(parents=True, exist_ok=True)\n",
    "\n",
    "writer = pd.ExcelWriter(folder + save_as + '.xlsx', engine='xlsxwriter')\n",
    "df_config.to_excel(writer, sheet_name=\"config\", index=False)\n",
    "df_values.to_excel(writer, sheet_name=\"values\", index=False)\n",
    "\n",
    "writer.save()"
   ]
  },
  {
   "cell_type": "code",
   "execution_count": null,
   "metadata": {},
   "outputs": [],
   "source": []
  },
  {
   "cell_type": "code",
   "execution_count": null,
   "metadata": {},
   "outputs": [],
   "source": []
  }
 ],
 "metadata": {
  "kernelspec": {
   "display_name": "Python 3",
   "language": "python",
   "name": "python3"
  },
  "language_info": {
   "codemirror_mode": {
    "name": "ipython",
    "version": 3
   },
   "file_extension": ".py",
   "mimetype": "text/x-python",
   "name": "python",
   "nbconvert_exporter": "python",
   "pygments_lexer": "ipython3",
   "version": "3.8.5"
  }
 },
 "nbformat": 4,
 "nbformat_minor": 4
}
