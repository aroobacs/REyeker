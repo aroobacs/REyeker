{
 "cells": [
  {
   "cell_type": "markdown",
   "metadata": {},
   "source": [
    "<h1> Data Analysis for REYeker</h1>"
   ]
  },
  {
   "cell_type": "code",
   "execution_count": 1,
   "metadata": {},
   "outputs": [],
   "source": [
    "import pandas as pd\n",
    "from PIL import Image\n",
    "import numpy as np\n",
    "import re"
   ]
  },
  {
   "cell_type": "markdown",
   "metadata": {},
   "source": [
    "<h2> Select Rows for Analysis</h2>\n",
    "\n",
    "Setup the columns"
   ]
  },
  {
   "cell_type": "code",
   "execution_count": 2,
   "metadata": {},
   "outputs": [],
   "source": [
    "path_to_data = r'./data/Book4.xlsx'\n",
    "\n",
    "# columns with visual stimulus data\n",
    "visual_stimulus_data = ['TR20_01', 'TI20_01', 'BR20_01', 'BI20_01']\n",
    "\n",
    "# columns with time data of visual stimulus\n",
    "time_data = []\n",
    "\n",
    "# columns with the given answers of the studen\n",
    "answer_fields = ['TR10_01', 'TI10_01', 'BR10_01', 'BI10_01']\n",
    "\n",
    "# regex pattern for correct answer\n",
    "right_answer_patterns = ['2', '2','2','2']\n",
    "\n",
    "# colums of response time\n",
    "response_time_data = ['TIME042', 'TIME008', 'TIME059', 'TIME023']\n",
    "\n",
    "total_colums = []\n",
    "\n",
    "# create all dataframe headers\n",
    "for i in range(len(visual_stimulus_data)):\n",
    "    tmp_list = []\n",
    "    tmp_list.append(visual_stimulus_data[i])\n",
    "    \n",
    "    if len(time_data) != 0:\n",
    "        tmp_list.append(time_data[i])\n",
    "    tmp_list.append(answer_fields[i])\n",
    "    tmp_list.append(response_time_data[i])\n",
    "    total_colums.append(tmp_list)"
   ]
  },
  {
   "cell_type": "markdown",
   "metadata": {},
   "source": [
    "Import the columns and create dataframe"
   ]
  },
  {
   "cell_type": "code",
   "execution_count": 3,
   "metadata": {},
   "outputs": [],
   "source": [
    "dataframes = []\n",
    "raw = pd.read_excel(path_to_data)\n",
    "\n",
    "# read all dataframes\n",
    "for data_set in total_colums:\n",
    "    dataframe = pd.DataFrame(raw, columns = data_set)\n",
    "    dataframe = dataframe.iloc[1:]\n",
    "    dataframe = dataframe.dropna()\n",
    "    dataframes.append(dataframe)"
   ]
  },
  {
   "cell_type": "markdown",
   "metadata": {},
   "source": [
    "Splitting Dataframes in right and wrong answers."
   ]
  },
  {
   "cell_type": "code",
   "execution_count": 4,
   "metadata": {},
   "outputs": [],
   "source": [
    "dataframes_right = []\n",
    "dataframes_wrong = []\n",
    "\n",
    "# iter over every dataframe\n",
    "for idx, dataframe in enumerate(dataframes):\n",
    "    right_answer_pattern = right_answer_patterns[i]\n",
    "    regex = re.compile(right_answer_pattern)\n",
    "    answer_field = answer_fields[idx]\n",
    "    \n",
    "    dataframe_right = pd.DataFrame(columns = total_colums[idx])\n",
    "    dataframe_wrong = pd.DataFrame(columns = total_colums[idx])\n",
    "    \n",
    "    # iter over every row and check if the result is rightr\n",
    "    for _index, row  in dataframe.iterrows():\n",
    "        result = regex.match(str(row[answer_field]))\n",
    "        if result is not None:\n",
    "            dataframe_right = dataframe_right.append(row)\n",
    "        else:\n",
    "            dataframe_wrong = dataframe_wrong.append(row)\n",
    "    \n",
    "    \n",
    "    \n",
    "    dataframes_right.append(dataframe_right)\n",
    "    dataframes_wrong.append(dataframe_wrong)"
   ]
  },
  {
   "cell_type": "markdown",
   "metadata": {},
   "source": [
    "<h3> Select Outlier and other things </h3>\n",
    "\n",
    "TODO"
   ]
  },
  {
   "cell_type": "markdown",
   "metadata": {},
   "source": [
    "<h3>Import REYeker Settings</h3>"
   ]
  },
  {
   "cell_type": "markdown",
   "metadata": {},
   "source": [
    "Import Settings"
   ]
  },
  {
   "cell_type": "code",
   "execution_count": 5,
   "metadata": {},
   "outputs": [],
   "source": [
    "import modules.rEYEkerAnalysis as rEYEker"
   ]
  },
  {
   "cell_type": "code",
   "execution_count": 6,
   "metadata": {},
   "outputs": [],
   "source": [
    "settings_file = \"data/example.json\""
   ]
  },
  {
   "cell_type": "code",
   "execution_count": 7,
   "metadata": {},
   "outputs": [],
   "source": [
    "(_data, _times, click_setting) = rEYEker.load_data_from_json(\"data/example.json\")"
   ]
  },
  {
   "cell_type": "markdown",
   "metadata": {},
   "source": [
    "Import Images"
   ]
  },
  {
   "cell_type": "code",
   "execution_count": 8,
   "metadata": {},
   "outputs": [],
   "source": [
    "image_paths = ['images/TR/TR_Fibonacci.png',\n",
    "               'images/TI/TI_Fibonacci.png',\n",
    "               'images/BR/BR_Fibonacci.png',\n",
    "               'images/BI/BI_Fibonacci.png']"
   ]
  },
  {
   "cell_type": "code",
   "execution_count": 9,
   "metadata": {},
   "outputs": [],
   "source": [
    "images = []\n",
    "\n",
    "# read in every image\n",
    "for image_path in image_paths:\n",
    "    img = rEYEker.load_image(image_path)\n",
    "    images.append(img)"
   ]
  },
  {
   "cell_type": "markdown",
   "metadata": {},
   "source": [
    "<h3> Cast Data to Valid format</h3>"
   ]
  },
  {
   "cell_type": "markdown",
   "metadata": {},
   "source": [
    "Import the visual stimulus measured Data"
   ]
  },
  {
   "cell_type": "code",
   "execution_count": 10,
   "metadata": {},
   "outputs": [],
   "source": [
    "visual_stimulus_data_array = []\n",
    "\n",
    "#iter over every dataframe\n",
    "for idx, dataframe in enumerate(dataframes_right):\n",
    "    visual_stimulus_measurements = []\n",
    "    visual_stimulus_row = visual_stimulus_data[idx]\n",
    "\n",
    "    #iter over every row \n",
    "    for _idx, item in dataframe.iterrows():\n",
    "        data_str = item[visual_stimulus_row]\n",
    "        data_str = data_str.strip()\n",
    "        coordinates_str = data_str.split(\" \")\n",
    "        coordinates = []\n",
    "        \n",
    "        # iter over every coordinate pair x-y\n",
    "        for coordinate_str in coordinates_str:\n",
    "            coordinate = coordinate_str.split(\"-\")\n",
    "            coordinate = (int(coordinate[0]), int(coordinate[1]))\n",
    "            coordinates.append(coordinate)\n",
    "            \n",
    "        visual_stimulus_measurements.append(coordinates)\n",
    "        \n",
    "    visual_stimulus_data_array.append(visual_stimulus_measurements)"
   ]
  },
  {
   "cell_type": "markdown",
   "metadata": {},
   "source": [
    "Import the Time Data"
   ]
  },
  {
   "cell_type": "code",
   "execution_count": 11,
   "metadata": {},
   "outputs": [],
   "source": [
    "timestamps_data_array = []\n",
    "\n",
    "#iter over every dataframe\n",
    "for idx, dataframe in enumerate(dataframes_right):\n",
    "    if len(time_data) <= idx:\n",
    "        break\n",
    "    time_measurements = []\n",
    "    time_measurement_row = time_data[idx]\n",
    "\n",
    "    #iter over every row \n",
    "    for _idx, item in dataframe.iterrows():\n",
    "        data_str = item[time_measurement_row]\n",
    "        data_str = data_str.strip()\n",
    "        timestamps = data_str.split(\" \")\n",
    "        timestamps = [int(timestamp) for timestamp in timestamps]\n",
    "        time_measurement_row.append(timestamps)\n",
    "        \n",
    "    timestamps_data_array.append(visual_stimulus_measurements)"
   ]
  },
  {
   "cell_type": "markdown",
   "metadata": {},
   "source": [
    "<h3>Helper Functions</h3>"
   ]
  },
  {
   "cell_type": "code",
   "execution_count": 12,
   "metadata": {},
   "outputs": [],
   "source": [
    "def save_images(ims, prefix):\n",
    "    \"\"\"\n",
    "    :brief saves an array of images to a certain location incrementing the postfix by a number\n",
    "    :param ims:    array of images (np.ndarray)\n",
    "    :param prefix: prefeix with folder location, make sure the folders exist\n",
    "    \"\"\"\n",
    "    \n",
    "    #TODO create folders if there are none present\n",
    "    for idx, data in enumerate(ims):\n",
    "        data = data*255\n",
    "        data = np.uint8(data)\n",
    "        im = Image.fromarray(data)\n",
    "        im.save(prefix + str(idx) + '.png')"
   ]
  },
  {
   "cell_type": "markdown",
   "metadata": {},
   "source": [
    "<h3>1. Create Single Heatmaps</h3>"
   ]
  },
  {
   "cell_type": "code",
   "execution_count": 13,
   "metadata": {},
   "outputs": [],
   "source": [
    "heatmaps_datasets_array = []\n",
    "\n",
    "# iterate over all the datasets\n",
    "for dataset_idx, stimulus_dataset in enumerate(visual_stimulus_data_array):\n",
    "    time_stamp_array = None\n",
    "    if len(timestamps_data_array) > dataset_idx:\n",
    "        time_stamp_array = timestamps_data_array[dataset_idx]\n",
    "    \n",
    "    heatmap_array = []\n",
    "\n",
    "    # iterate over all the measurements of the dataset\n",
    "    for visual_idx, stimulus_measurement in enumerate(stimulus_dataset):\n",
    "        times = None\n",
    "        if time_stamp_array is not None and len(time_stamp_array) > visual_idx:\n",
    "            times = time_stamp_array[visual_idx]\n",
    "        \n",
    "        im = rEYEker.draw_shape_heat_map(images[dataset_idx], stimulus_measurement,click_setting, times, should_copy=True)\n",
    "        heatmap_array.append(im)\n",
    "        \n",
    "    heatmaps_datasets_array.append(heatmap_array)"
   ]
  },
  {
   "cell_type": "code",
   "execution_count": 14,
   "metadata": {},
   "outputs": [],
   "source": [
    "heatmap_results_prefix = [\n",
    "    'results/Heatmaps/TR/TR_Fibonacci_',\n",
    "    'results/Heatmaps/TI/TI_Fibonacci_',\n",
    "    'results/Heatmaps/BR/BR_Fibonacci_',\n",
    "    'results/Heatmaps/BI/BI_Fibonacci_']"
   ]
  },
  {
   "cell_type": "code",
   "execution_count": 15,
   "metadata": {},
   "outputs": [],
   "source": [
    "for idx, heatmap_array in enumerate(heatmaps_datasets_array):\n",
    "    save_images(heatmap_array, heatmap_results_prefix[idx])"
   ]
  },
  {
   "cell_type": "markdown",
   "metadata": {},
   "source": [
    "<h3>2. Create Single Heatmaps</h3>"
   ]
  },
  {
   "cell_type": "code",
   "execution_count": 16,
   "metadata": {},
   "outputs": [],
   "source": [
    "average_heatmap_results_prefix = [\n",
    "    'results/Average_Heatmaps/TR/TR_Fibonacci_',\n",
    "    'results/Average_Heatmaps/TI/TI_Fibonacci_',\n",
    "    'results/Average_Heatmaps/BR/BR_Fibonacci_',\n",
    "    'results/Average_Heatmaps/BI/BI_Fibonacci_']"
   ]
  },
  {
   "cell_type": "code",
   "execution_count": 17,
   "metadata": {},
   "outputs": [],
   "source": [
    "average_heatmaps = []\n",
    "\n",
    "# iterate over all the datasets\n",
    "for idx, stimulus_dataset in enumerate(visual_stimulus_data_array):\n",
    "    image = images[idx]\n",
    "    visual_measurements = visual_stimulus_data_array[idx]\n",
    "    time_measurements = None\n",
    "    if len(timestamps_data_array) > idx:\n",
    "        time_measurements = timestamps_data_array[idx]\n",
    "    im = rEYEker.draw_average_shape_heat_map_rel(image, visual_measurements, click_setting, 1.0, .0, time_measurements, should_copy=True)\n",
    "    average_heatmaps.append(im)"
   ]
  },
  {
   "cell_type": "code",
   "execution_count": 18,
   "metadata": {},
   "outputs": [],
   "source": [
    "for idx, average_heatmap in enumerate(average_heatmaps):\n",
    "    average_heatmap = [average_heatmap]\n",
    "    prefix = average_heatmap_results_prefix[idx]\n",
    "    save_images(average_heatmap, prefix)"
   ]
  },
  {
   "cell_type": "markdown",
   "metadata": {},
   "source": [
    "<h3>3. Create Sequence diagramms</h3>"
   ]
  },
  {
   "cell_type": "code",
   "execution_count": 19,
   "metadata": {},
   "outputs": [
    {
     "name": "stdout",
     "output_type": "stream",
     "text": [
      "W.I.P.:to many clicks for dataset 3 datset 14\n"
     ]
    }
   ],
   "source": [
    "sequence_diagrams_datasets_array = []\n",
    "\n",
    "# iterate over all the datasets\n",
    "for dataset_idx, stimulus_dataset in enumerate(visual_stimulus_data_array):\n",
    "    #if time will be needed someday\n",
    "    #time_stamp_array = None\n",
    "    #if len(timestamps_data_array) > dataset_idx:\n",
    "    #    time_stamp_array = timestamps_data_array[dataset_idx]\n",
    "    \n",
    "    sequence_diagram_array = []\n",
    "\n",
    "    # iterate over all the measurements of the dataset\n",
    "    for visual_idx, stimulus_measurement in enumerate(stimulus_dataset):\n",
    "        #if time will be needed someday\n",
    "        #times = None\n",
    "        #if time_stamp_array is not None and len(time_stamp_array) > visual_idx:\n",
    "        #    times = time_stamp_array[visual_idx]\n",
    "        try:\n",
    "            im = rEYEker.draw_vertical_line_diagram(images[dataset_idx], stimulus_measurement, should_copy=True)\n",
    "            sequence_diagram_array.append(im)\n",
    "        except:\n",
    "            #TODO\n",
    "            print(\"W.I.P.:\", end='')\n",
    "            print(\"to many clicks for dataset \" + str(dataset_idx) + \" datset \" + str(visual_idx))\n",
    "    sequence_diagrams_datasets_array.append(sequence_diagram_array)"
   ]
  },
  {
   "cell_type": "code",
   "execution_count": 20,
   "metadata": {},
   "outputs": [],
   "source": [
    "heatmap_results_prefix = [\n",
    "    'results/Sequence_Diagrams/TR/TR_Fibonacci_',\n",
    "    'results/Sequence_Diagrams/TI/TI_Fibonacci_',\n",
    "    'results/Sequence_Diagrams/BR/BR_Fibonacci_',\n",
    "    'results/Sequence_Diagrams/BI/BI_Fibonacci_']"
   ]
  },
  {
   "cell_type": "code",
   "execution_count": 21,
   "metadata": {},
   "outputs": [],
   "source": [
    "for idx, sequence_diagram_array in enumerate(sequence_diagrams_datasets_array):\n",
    "    save_images(sequence_diagram_array, heatmap_results_prefix[idx])"
   ]
  },
  {
   "cell_type": "markdown",
   "metadata": {},
   "source": [
    "<h3>4. Generate Code Flow diagramm</h3>\n",
    "\n",
    "TODO\n",
    "\n",
    "set regions of code and somehow construct the codeflow"
   ]
  },
  {
   "cell_type": "markdown",
   "metadata": {},
   "source": [
    "<h3>5. Compare Sequence Diagram and Code Flow</h3>\n",
    "\n",
    "TODO\n",
    "\n",
    "maybe use needleman wunsch or see how many jumps are equal and which jumps that are"
   ]
  },
  {
   "cell_type": "markdown",
   "metadata": {},
   "source": [
    "<h3> Analyse average of Data</h3>"
   ]
  },
  {
   "cell_type": "code",
   "execution_count": null,
   "metadata": {},
   "outputs": [],
   "source": [
    "dataframes\n",
    "dataframes_right\n",
    "dataframes_wrong\n",
    "\n",
    "path_to_data = r'./data/Book4.xlsx'\n",
    "\n",
    "# columns with visual stimulus data\n",
    "visual_stimulus_data = ['TR20_01', 'TI20_01', 'BR20_01', 'BI20_01']\n",
    "\n",
    "# columns with time data of visual stimulus\n",
    "time_data = []\n",
    "\n",
    "# columns with the given answers of the studen\n",
    "answer_fields = ['TR10_01', 'TI10_01', 'BR10_01', 'BI10_01']\n",
    "\n",
    "# regex pattern for correct answer\n",
    "right_answer_patterns = ['2', '2','2','2']\n",
    "\n",
    "# colums of response time\n",
    "response_time_data = ['TIME042', 'TIME008', 'TIME059', 'TIME023']\n",
    "\n",
    "total_colums = []\n"
   ]
  },
  {
   "cell_type": "markdown",
   "metadata": {},
   "source": [
    "Calculate Average of Response Times and standard deviation"
   ]
  },
  {
   "cell_type": "code",
   "execution_count": 70,
   "metadata": {},
   "outputs": [],
   "source": [
    "from scipy import stats"
   ]
  },
  {
   "cell_type": "code",
   "execution_count": 101,
   "metadata": {},
   "outputs": [
    {
     "data": {
      "image/png": "[encoded data removed]",
      "text/plain": [
       "<Figure size 432x288 with 1 Axes>"
      ]
     },
     "metadata": {
      "needs_background": "light"
     },
     "output_type": "display_data"
    }
   ],
   "source": [
    "dataframes_without_outliers = []\n",
    "dataframes_without_outliers_right = []\n",
    "dataframes_without_outliers_wrong = []\n",
    "\n",
    "#iterate over all dataframes and remove outliers\n",
    "for idx, dataframe in enumerate(dataframes):\n",
    "    data = dataframe[response_time_data[idx]]\n",
    "    cleared_dataframe = dataframe[data.between(data.quantile(.15), data.quantile(0.85))]\n",
    "    dataframes_without_outliers.append(cleared_dataframe)\n",
    "    \n",
    "#iterate over all dataframes and remove outliers\n",
    "for idx, dataframe in enumerate(dataframes_right):\n",
    "    data = dataframe[response_time_data[idx]]\n",
    "    cleared_dataframe = dataframe[data.between(data.quantile(.15), data.quantile(0.85))]\n",
    "    dataframes_without_outliers_right.append(cleared_dataframe)\n",
    "    \n",
    "#iterate over all dataframes and remove outliers\n",
    "for idx, dataframe in enumerate(dataframes_wrong):\n",
    "    data = dataframe[response_time_data[idx]]\n",
    "    cleared_dataframe = dataframe[data.between(data.quantile(.15), data.quantile(0.85))]\n",
    "    dataframes_without_outliers_wrong.append(cleared_dataframe)\n",
    "    \n",
    "\n",
    "plt.boxplot(dataframes_without_outliers[0][\"TIME042\"])\n",
    "plt.show()\n",
    "\n",
    "\n",
    "#plot boxplots besides each other and save them "
   ]
  },
  {
   "cell_type": "code",
   "execution_count": 102,
   "metadata": {},
   "outputs": [],
   "source": [
    "mean_response_times_with = []\n",
    "mean_response_times_right = []\n",
    "mean_response_times_wrong = []\n",
    "\n",
    "standard_deviation_response_times = []\n",
    "standard_deviation_response_times_right = []\n",
    "standard_deviation_response_times_wrong = []\n",
    "\n",
    "median_response_times = []\n",
    "median_response_times_right = []\n",
    "median_response_times_wrong = []\n",
    "\n",
    "# do it for all the data\n",
    "for idx, dataframe in enumerate(dataframes_without_outliers):\n",
    "    mean = dataframe[response_time_data[idx]].mean()\n",
    "    standard = dataframe[response_time_data[idx]].std()\n",
    "    median = dataframe[response_time_data[idx]].median()\n",
    "    \n",
    "    mean_response_times.append(mean)\n",
    "    standard_deviation_response_times.append(standard)\n",
    "    median_response_times.append(median)\n",
    "\n",
    "# do it for all the right data\n",
    "for idx, dataframe in enumerate(dataframes_without_outliers_right):\n",
    "    mean = dataframe[response_time_data[idx]].mean()\n",
    "    standard = dataframe[response_time_data[idx]].std()\n",
    "    median = dataframe[response_time_data[idx]].median()\n",
    "    \n",
    "    mean_response_times_right.append(mean)\n",
    "    standard_deviation_response_times_right.append(standard)\n",
    "    median_response_times_right.append(median)\n",
    "\n",
    "# do it for all the wrong data\n",
    "for idx, dataframe in enumerate(dataframes_without_outliers_wrong):\n",
    "    mean = dataframe[response_time_data[idx]].mean()\n",
    "    standard = dataframe[response_time_data[idx]].std()\n",
    "    median = dataframe[response_time_data[idx]].median()\n",
    "    \n",
    "    mean_response_times_wrong.append(mean)\n",
    "    standard_deviation_response_times_wrong.append(standard)\n",
    "    median_response_times_wrong.append(median)"
   ]
  },
  {
   "cell_type": "code",
   "execution_count": 108,
   "metadata": {},
   "outputs": [],
   "source": [
    "#violin plot\n",
    "\n",
    "# average mean of click len for each data, gen statistic siginificance "
   ]
  },
  {
   "cell_type": "markdown",
   "metadata": {},
   "source": [
    "<h3> Areas of Interest </h3>"
   ]
  },
  {
   "cell_type": "code",
   "execution_count": null,
   "metadata": {},
   "outputs": [],
   "source": []
  }
 ],
 "metadata": {
  "kernelspec": {
   "display_name": "Python 3",
   "language": "python",
   "name": "python3"
  },
  "language_info": {
   "codemirror_mode": {
    "name": "ipython",
    "version": 3
   },
   "file_extension": ".py",
   "mimetype": "text/x-python",
   "name": "python",
   "nbconvert_exporter": "python",
   "pygments_lexer": "ipython3",
   "version": "3.8.5"
  }
 },
 "nbformat": 4,
 "nbformat_minor": 4
}
