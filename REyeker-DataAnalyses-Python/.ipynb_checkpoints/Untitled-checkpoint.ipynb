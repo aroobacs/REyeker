{
 "cells": [
  {
   "cell_type": "code",
   "execution_count": 1,
   "metadata": {},
   "outputs": [],
   "source": [
    "from ipycanvas import Canvas, hold_canvas\n",
    "from time import sleep\n",
    "\n",
    "def get_canvas(x, y, size):\n",
    "    canvas = Canvas(width=x*size, height=y*size)\n",
    "    canvas.fill_style = 'white'\n",
    "    canvas.fill_rect(0, 0, x*size, y*size)\n",
    "    canvas.pixel_size = size\n",
    "    canvas.x = x\n",
    "    canvas.y = y\n",
    "    return canvas\n",
    "\n",
    "def draw_rect(canvas, x, y, color='black'):\n",
    "    canvas.fill_style = color\n",
    "    size = canvas.pixel_size\n",
    "    canvas.fill_rect(x*size, y*size, size, size)\n",
    "    \n",
    "def clear(canvas):\n",
    "    canvas.fill_style = 'white'\n",
    "    canvas.fill_rect(0, 0, canvas.x*canvas.pixel_size, canvas.y*canvas.pixel_size)\n",
    "      "
   ]
  },
  {
   "cell_type": "code",
   "execution_count": 13,
   "metadata": {},
   "outputs": [
    {
     "data": {
      "application/vnd.jupyter.widget-view+json": {
       "model_id": "bc301f903923445c8afe14562bdc4d8d",
       "version_major": 2,
       "version_minor": 0
      },
      "text/plain": [
       "Canvas(height=120, width=120)"
      ]
     },
     "metadata": {},
     "output_type": "display_data"
    }
   ],
   "source": [
    "canvas = get_canvas(8,8,15)\n",
    "display(canvas)\n",
    "x = 0\n",
    "\n",
    "for i in range(0,20):\n",
    "    with hold_canvas(canvas):\n",
    "        # Clear the old animation step\n",
    "        clear(canvas)\n",
    "        draw_rect(canvas, x, 1)\n",
    "        x= x+1\n",
    "\n",
    "    sleep(1.0)"
   ]
  },
  {
   "cell_type": "code",
   "execution_count": null,
   "metadata": {},
   "outputs": [],
   "source": []
  },
  {
   "cell_type": "code",
   "execution_count": 2,
   "metadata": {},
   "outputs": [
    {
     "name": "stdout",
     "output_type": "stream",
     "text": [
      "144\n",
      "23\n",
      "1\n",
      "132\n",
      "1.0909090909090908\n",
      "743008370688\n",
      "1\n"
     ]
    },
    {
     "name": "stdin",
     "output_type": "stream",
     "text": [
      "wie soll x sein  23\n"
     ]
    },
    {
     "name": "stdout",
     "output_type": "stream",
     "text": [
      "92.0\n"
     ]
    }
   ],
   "source": [
    "def f(x):\n",
    "    return x**2\n",
    "\n",
    "x = 12\n",
    "y = 11\n",
    "\n",
    "print(f(x))\n",
    "\n",
    "print(x+y)\n",
    "print(x-y)\n",
    "print(x*y)\n",
    "print(x/y)\n",
    "print(x**y)\n",
    "print(x%y)\n",
    "\n",
    "Eingabe = input(\"wie soll x sein \")\n",
    "Eingabe = float(Eingabe)\n",
    "\n",
    "print(Eingabe*4)"
   ]
  },
  {
   "cell_type": "code",
   "execution_count": 3,
   "metadata": {},
   "outputs": [
    {
     "name": "stdout",
     "output_type": "stream",
     "text": [
      "7.0\n",
      "9\n",
      "-5\n"
     ]
    }
   ],
   "source": [
    "x = 42\n",
    "y = 6\n",
    "\n",
    "print(x/y)\n",
    "\n",
    "def j(a, b):\n",
    "    return a+2-b\n",
    "\n",
    "def binom_1(x, y):\n",
    "    return (x+y)**2\n",
    "\n",
    "print(binom_1(1,2))\n",
    "\n",
    "def binom_3(a,b):\n",
    "    return (a+b)*(a-b)\n",
    "\n",
    "print(binom_3(2,3))"
   ]
  },
  {
   "cell_type": "code",
   "execution_count": null,
   "metadata": {},
   "outputs": [],
   "source": [
    "Eingabe1 = input(\"Bitte gib eine Zahl ein\")\n",
    "x = float(Eingabe1)\n",
    "\n",
    "Eingabe2 = input(\"Bitte gib eine andere Zahl ein\")\n",
    "y = float(Eingabe2)\n",
    "\n",
    "print(binom_3(x,y))"
   ]
  }
 ],
 "metadata": {
  "kernelspec": {
   "display_name": "Python 3",
   "language": "python",
   "name": "python3"
  },
  "language_info": {
   "codemirror_mode": {
    "name": "ipython",
    "version": 3
   },
   "file_extension": ".py",
   "mimetype": "text/x-python",
   "name": "python",
   "nbconvert_exporter": "python",
   "pygments_lexer": "ipython3",
   "version": "3.8.5"
  }
 },
 "nbformat": 4,
 "nbformat_minor": 4
}
