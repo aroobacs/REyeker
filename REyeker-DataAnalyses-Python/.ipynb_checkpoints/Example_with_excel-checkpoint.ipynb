{
 "cells": [
  {
   "cell_type": "code",
   "execution_count": 91,
   "metadata": {},
   "outputs": [],
   "source": [
    "import pandas as pd\n",
    "\n",
    "raw = pd.read_excel (r'./data/Book4.xlsx')\n",
    "df = pd.DataFrame(raw, columns= ['TR20_01'])\n",
    "df = df.iloc[1:]"
   ]
  },
  {
   "cell_type": "code",
   "execution_count": 92,
   "metadata": {},
   "outputs": [],
   "source": [
    "import modules.rEYEkerAnalysis as rEYEker\n",
    "\n",
    "(_data, _times, click_setting) = rEYEker.load_data_from_json(\"data/example.json\")"
   ]
  },
  {
   "cell_type": "code",
   "execution_count": 14,
   "metadata": {},
   "outputs": [],
   "source": [
    "image = rEYEker.load_image(\"images/TR_Fibonacci.png\")"
   ]
  },
  {
   "cell_type": "code",
   "execution_count": 36,
   "metadata": {},
   "outputs": [],
   "source": [
    "click_data = []\n",
    "for _idx, item in df.iterrows():\n",
    "    data_str = item[0]\n",
    "    data_str = data_str.strip()\n",
    "    coordinates_str = data_str.split(\" \")\n",
    "    coordinates = []\n",
    "    for coordinate_str in coordinates_str:\n",
    "        coordinate = coordinate_str.split(\"-\")\n",
    "        coordinate = (int(coordinate[0]), int(coordinate[1]))\n",
    "        coordinates.append(coordinate)\n",
    "    click_data.append(coordinates)"
   ]
  },
  {
   "cell_type": "code",
   "execution_count": 75,
   "metadata": {},
   "outputs": [],
   "source": [
    "ims_lines = []\n",
    "for data in click_data:\n",
    "    im = rEYEker.draw_vertical_line_diagram(image, 0, len(data), data, should_copy=True)\n",
    "    ims_lines.append(im)"
   ]
  },
  {
   "cell_type": "code",
   "execution_count": 76,
   "metadata": {},
   "outputs": [],
   "source": [
    "from PIL import Image\n",
    "import numpy as np\n"
   ]
  },
  {
   "cell_type": "code",
   "execution_count": 77,
   "metadata": {},
   "outputs": [],
   "source": [
    "def save_images(ims, prefix, extension):\n",
    "    for idx, data in enumerate(ims):\n",
    "        data = data*255\n",
    "        data = np.uint8(data)\n",
    "        im = Image.fromarray(data)\n",
    "        im.save(prefix + str(idx) + extension)"
   ]
  },
  {
   "cell_type": "code",
   "execution_count": 79,
   "metadata": {},
   "outputs": [],
   "source": [
    "save_images(ims_lines, \"./results/lines/TR20_01_\", \".png\")"
   ]
  },
  {
   "cell_type": "code",
   "execution_count": 87,
   "metadata": {},
   "outputs": [],
   "source": [
    "\n",
    "ims_heat = []\n",
    "i = 0\n",
    "for data in click_data:\n",
    "    im = rEYEker.draw_shape_heat_map(image, 0, len(data), data, click_setting, should_copy=True)\n",
    "    ims_heat.append(im)"
   ]
  },
  {
   "cell_type": "code",
   "execution_count": 88,
   "metadata": {},
   "outputs": [],
   "source": [
    "save_images(ims_heat, \"./results/heatmaps/TR20_01_\", \".png\")"
   ]
  }
 ],
 "metadata": {
  "kernelspec": {
   "display_name": "Python 3",
   "language": "python",
   "name": "python3"
  },
  "language_info": {
   "codemirror_mode": {
    "name": "ipython",
    "version": 3
   },
   "file_extension": ".py",
   "mimetype": "text/x-python",
   "name": "python",
   "nbconvert_exporter": "python",
   "pygments_lexer": "ipython3",
   "version": "3.7.4"
  }
 },
 "nbformat": 4,
 "nbformat_minor": 4
}
