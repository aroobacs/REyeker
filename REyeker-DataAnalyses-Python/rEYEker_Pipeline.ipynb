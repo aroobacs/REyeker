{
 "cells": [
  {
   "cell_type": "markdown",
   "metadata": {},
   "source": [
    "<h1> Data Analysis for REYeker</h1>"
   ]
  },
  {
   "cell_type": "code",
   "execution_count": 128,
   "metadata": {},
   "outputs": [],
   "source": [
    "# lib for dataframes\n",
    "import pandas as pd\n",
    "\n",
    "# lib for saving np images\n",
    "from PIL import Image\n",
    "\n",
    "# lib for plotting\n",
    "%matplotlib inline\n",
    "import matplotlib.pyplot as plt\n",
    "\n",
    "# lib for numerical computations\n",
    "import numpy as np\n",
    "\n",
    "# lib for regex\n",
    "import re\n",
    "\n",
    "# lib for crerating paths\n",
    "from pathlib import Path\n",
    "\n",
    "# REYeker lib\n",
    "import modules.rEYEkerAnalysis as rEYEker\n",
    "\n",
    "# for t testing\n",
    "from scipy import stats\n",
    "\n",
    "# lib for better plotting\n",
    "import seaborn as sns\n",
    "sns.set_theme('paper')\n",
    "\n",
    "# lib for differ calculation\n",
    "import difflib"
   ]
  },
  {
   "cell_type": "markdown",
   "metadata": {},
   "source": [
    "<h2>1. Configuration</h2>"
   ]
  },
  {
   "cell_type": "markdown",
   "metadata": {},
   "source": [
    "<h5>Database configuration </h5>"
   ]
  },
  {
   "cell_type": "code",
   "execution_count": 2,
   "metadata": {},
   "outputs": [],
   "source": [
    "# path to the datafile\n",
    "config_datasheet_path = r'./data/Book4.xlsx'\n",
    "\n",
    "# columns with visual stimulus data\n",
    "config_visual_stimulus_variable_array = ['TR20_01', 'TI20_01', 'BR20_01', 'BI20_01']\n",
    "\n",
    "# columns with names of the algo\n",
    "config_algo_names = ['TR_FIB', 'TI_FIB', 'BR_FIB', 'BI_FIB']\n",
    "\n",
    "# columns with time data of visual stimulus\n",
    "config_time_variable_array = []\n",
    "\n",
    "# columns with the given answers of the studen\n",
    "config_answer_variable_array = ['TR10_01', 'TI10_01', 'BR10_01', 'BI10_01']\n",
    "\n",
    "# regex pattern for correct answer\n",
    "config_answer_pattern_array = ['2', '2','2','2']\n",
    "\n",
    "# colums of response time\n",
    "config_response_time_variable_array = ['TIME042', 'TIME008', 'TIME059', 'TIME023']"
   ]
  },
  {
   "cell_type": "markdown",
   "metadata": {},
   "source": [
    "<h5>Configuration for REYEker data </h5>"
   ]
  },
  {
   "cell_type": "code",
   "execution_count": 3,
   "metadata": {},
   "outputs": [],
   "source": [
    "# file for loading rEYEker settings\n",
    "config_reyeker_settings_path = \"data/example.json\""
   ]
  },
  {
   "cell_type": "markdown",
   "metadata": {},
   "source": [
    "<h5>Configuration for saving images </h5>"
   ]
  },
  {
   "cell_type": "code",
   "execution_count": 4,
   "metadata": {},
   "outputs": [],
   "source": [
    "# data for loading the images\n",
    "config_image_path_array = ['images/TR/TR_Fibonacci.png',\n",
    "               'images/TI/TI_Fibonacci.png',\n",
    "               'images/BR/BR_Fibonacci.png',\n",
    "               'images/BI/BI_Fibonacci.png']\n",
    "\n",
    "# where to save to heatmaps and sequence diagrams\n",
    "config_folder_prefix_array = [\n",
    "    'TR/',\n",
    "    'TI/',\n",
    "    'BR/',\n",
    "    'BI/']\n",
    "\n",
    "# used for saving the heatmaps and sequence diagrams\n",
    "config_image_prefix_array = [\n",
    "    'TR_Fibonacci_',\n",
    "    'TI_Fibonacci_',\n",
    "    'BR_Fibonacci_',\n",
    "    'BI_Fibonacci_']"
   ]
  },
  {
   "cell_type": "markdown",
   "metadata": {},
   "source": [
    "<h5>Configuration for Code Flow data import</h5>"
   ]
  },
  {
   "cell_type": "code",
   "execution_count": 5,
   "metadata": {},
   "outputs": [],
   "source": [
    "# excel data in data/code_flow\n",
    "config_code_flow_datasheet_array = ['TR_Fibonacci.xlsx',\n",
    "                  'TI_Fibonacci.xlsx',\n",
    "                  'BR_Fibonacci.xlsx',\n",
    "                  'BI_Fibonacci.xlsx']  "
   ]
  },
  {
   "cell_type": "markdown",
   "metadata": {},
   "source": [
    "<h5>Configuration for alpha value for t-test </h5>"
   ]
  },
  {
   "cell_type": "code",
   "execution_count": 6,
   "metadata": {},
   "outputs": [],
   "source": [
    "# confidence needed for t test\n",
    "config_alpha = 0.05"
   ]
  },
  {
   "cell_type": "markdown",
   "metadata": {},
   "source": [
    "<h5>Import the columns and create dataframe</h5>"
   ]
  },
  {
   "cell_type": "code",
   "execution_count": 7,
   "metadata": {},
   "outputs": [],
   "source": [
    "needed_columns_array = []\n",
    "\n",
    "# create all dataframe headers\n",
    "for i in range(len(config_visual_stimulus_variable_array)):\n",
    "    tmp_list = []\n",
    "    tmp_list.append(config_visual_stimulus_variable_array[i])\n",
    "    \n",
    "    if len(config_time_variable_array) != 0:\n",
    "        tmp_list.append(config_time_variable_array[i])\n",
    "\n",
    "    tmp_list.append(config_answer_variable_array[i])\n",
    "    tmp_list.append(config_response_time_variable_array[i])\n",
    "    needed_columns_array.append(tmp_list)\n",
    "\n",
    "df_array = []\n",
    "raw = pd.read_excel(config_datasheet_path)\n",
    "\n",
    "# read all dataframes\n",
    "for data_set in needed_columns_array:\n",
    "    dataframe = pd.DataFrame(raw, columns = data_set)\n",
    "    dataframe = dataframe.iloc[1:]\n",
    "    dataframe = dataframe.dropna()\n",
    "    df_array.append(dataframe)"
   ]
  },
  {
   "cell_type": "markdown",
   "metadata": {},
   "source": [
    "<h4>Splitting Dataframes in right and wrong answers.</h4>"
   ]
  },
  {
   "cell_type": "code",
   "execution_count": 8,
   "metadata": {},
   "outputs": [],
   "source": [
    "df_array_right = []\n",
    "df_array_wrong = []\n",
    "\n",
    "# iter over every dataframe\n",
    "for idx, dataframe in enumerate(df_array):\n",
    "    right_answer_pattern = config_answer_pattern_array[idx]\n",
    "    regex = re.compile(right_answer_pattern)\n",
    "    answer_field = config_answer_variable_array[idx]\n",
    "    \n",
    "    dataframe_right = pd.DataFrame(columns = needed_columns_array[idx])\n",
    "    dataframe_wrong = pd.DataFrame(columns = needed_columns_array[idx])\n",
    "    \n",
    "    # iter over every row and check if the result is rightr\n",
    "    for _idx, row  in dataframe.iterrows():\n",
    "        result = regex.match(str(row[answer_field]))\n",
    "        if result is not None:\n",
    "            dataframe_right = dataframe_right.append(row)\n",
    "        else:\n",
    "            dataframe_wrong = dataframe_wrong.append(row)\n",
    "    \n",
    "    \n",
    "    \n",
    "    df_array_right.append(dataframe_right)\n",
    "    df_array_wrong.append(dataframe_wrong)"
   ]
  },
  {
   "cell_type": "markdown",
   "metadata": {},
   "source": [
    "<h4>Remove Outliers</h4>"
   ]
  },
  {
   "cell_type": "code",
   "execution_count": 9,
   "metadata": {},
   "outputs": [],
   "source": [
    "tmp_df_array = []\n",
    "tmp_df_array_wrong = []\n",
    "\n",
    "#iterate over all dataframes and remove outliers\n",
    "for idx, dataframe in enumerate(df_array_right):\n",
    "\n",
    "    data = dataframe[config_response_time_variable_array[idx]]\n",
    "    cleared_dataframe = dataframe[data.between(data.quantile(.15), data.quantile(0.85))]\n",
    "    tmp_df_array.append(cleared_dataframe)\n",
    "    \n",
    "#iterate over all dataframes and remove outliers\n",
    "for idx, dataframe in enumerate(df_array_wrong):\n",
    "    data = dataframe[config_response_time_variable_array[idx]]\n",
    "    cleared_dataframe = dataframe[data.between(data.quantile(.15), data.quantile(0.85))]\n",
    "    tmp_df_array_wrong.append(cleared_dataframe)\n",
    "    \n",
    "df_array = tmp_df_array\n",
    "df_array_wong = tmp_df_array_wrong"
   ]
  },
  {
   "cell_type": "markdown",
   "metadata": {},
   "source": [
    "<h4>Import REYeker Settings</h4>"
   ]
  },
  {
   "cell_type": "code",
   "execution_count": 10,
   "metadata": {},
   "outputs": [],
   "source": [
    "(_data, _times, click_setting) = rEYEker.load_data_from_json(config_reyeker_settings_path)"
   ]
  },
  {
   "cell_type": "markdown",
   "metadata": {},
   "source": [
    "<h4>Import Images Settings</h4>"
   ]
  },
  {
   "cell_type": "code",
   "execution_count": 11,
   "metadata": {},
   "outputs": [],
   "source": [
    "image_array = []\n",
    "\n",
    "# read in every image\n",
    "for image_path in config_image_path_array:\n",
    "    img = rEYEker.load_image(image_path)\n",
    "    image_array.append(img)"
   ]
  },
  {
   "cell_type": "markdown",
   "metadata": {},
   "source": [
    "<h4> Cast Data to Valid format</h4>"
   ]
  },
  {
   "cell_type": "markdown",
   "metadata": {},
   "source": [
    "Import the visual stimulus measured Data"
   ]
  },
  {
   "cell_type": "code",
   "execution_count": 12,
   "metadata": {},
   "outputs": [],
   "source": [
    "visual_stimulus_data_matrix = []\n",
    "\n",
    "#iter over every dataframe\n",
    "for idx, dataframe in enumerate(df_array):\n",
    "    visual_stimulus_array = []\n",
    "    visual_stimulus_row = config_visual_stimulus_variable_array[idx]\n",
    "\n",
    "    #iter over every row \n",
    "    for _idx, item in dataframe.iterrows():\n",
    "        data_str = item[visual_stimulus_row]\n",
    "        data_str = data_str.strip()\n",
    "        coordinates_str = data_str.split(\" \")\n",
    "        coordinates = []\n",
    "        \n",
    "        # iter over every coordinate pair x-y\n",
    "        for coordinate_str in coordinates_str:\n",
    "            coordinate = coordinate_str.split(\"-\")\n",
    "            coordinate = (int(coordinate[0]), int(coordinate[1]))\n",
    "            coordinates.append(coordinate)\n",
    "            \n",
    "        visual_stimulus_array.append(coordinates)\n",
    "        \n",
    "    visual_stimulus_data_matrix.append(visual_stimulus_array)"
   ]
  },
  {
   "cell_type": "markdown",
   "metadata": {},
   "source": [
    "Import the Time Data"
   ]
  },
  {
   "cell_type": "code",
   "execution_count": 13,
   "metadata": {},
   "outputs": [],
   "source": [
    "timestamps_data_matrix = []\n",
    "\n",
    "#iter over every dataframe\n",
    "for idx, dataframe in enumerate(df_array):\n",
    "    if len(config_time_variable_array) <= idx:\n",
    "        break\n",
    "    time_measurements = []\n",
    "    time_measurement_row = config_time_variable_array[idx]\n",
    "\n",
    "    #iter over every row \n",
    "    for _idx, item in dataframe.iterrows():\n",
    "        data_str = item[time_measurement_row]\n",
    "        data_str = data_str.strip()\n",
    "        timestamps = data_str.split(\" \")\n",
    "        timestamps = [int(timestamp) for timestamp in timestamps]\n",
    "        time_measurement_row.append(timestamps)\n",
    "        \n",
    "    timestamps_data_matrix.append(visual_stimulus_measurements)"
   ]
  },
  {
   "cell_type": "markdown",
   "metadata": {},
   "source": [
    "<h4>Helper Functions</h4>"
   ]
  },
  {
   "cell_type": "code",
   "execution_count": 14,
   "metadata": {},
   "outputs": [],
   "source": [
    "def save_images(image_array, folder, image_name):\n",
    "    \"\"\"\n",
    "    :brief saves an array of images to a certain location incrementing the postfix by a number\n",
    "    :param image_array:        array of images (np.ndarray)\n",
    "    :param folder:     prefix of image/ folder location\n",
    "    :param image_name: prefix for the image\n",
    "    \"\"\"\n",
    "    \n",
    "    Path(folder).mkdir(parents=True, exist_ok=True)\n",
    "    \n",
    "    prefix = folder + image_name\n",
    "    \n",
    "    #TODO create folders if there are none present\n",
    "    for idx, data in enumerate(image_array):\n",
    "        data = data*255\n",
    "        data = np.uint8(data)\n",
    "        im = Image.fromarray(data)\n",
    "        im.save(prefix + str(idx) + '.png')\n",
    "        \n",
    "def compare_for_h0(arr_1, arr_2, alpha):\n",
    "    t, p = stats.ttest_ind(arr_1, arr_2)\n",
    "    if p > alpha:\n",
    "        return True, t, p\n",
    "    else:\n",
    "        return False, t, p\n",
    "    \n",
    "def is_in(value, tup):\n",
    "    return tup[0] <= value <= tup[1]\n",
    "\n",
    "def get_0_offset(number):\n",
    "    i = 0\n",
    "    number = int(number)\n",
    "    while number != 0:\n",
    "        number = int(number / 10)\n",
    "        i = i + 1\n",
    "    return i"
   ]
  },
  {
   "cell_type": "markdown",
   "metadata": {},
   "source": [
    "<h2>2. Create Single Heatmaps</h2>"
   ]
  },
  {
   "cell_type": "markdown",
   "metadata": {},
   "source": [
    "create heatmaps"
   ]
  },
  {
   "cell_type": "code",
   "execution_count": 15,
   "metadata": {},
   "outputs": [],
   "source": [
    "heatmaps_matrix = []\n",
    "\n",
    "# iterate over all the datasets\n",
    "for dataset_idx, stimulus_dataset in enumerate(visual_stimulus_data_matrix):\n",
    "    time_stamp_array = None\n",
    "    if len(timestamps_data_matrix) > dataset_idx:\n",
    "        time_stamp_array = timestamps_data_matrix[dataset_idx]\n",
    "    \n",
    "    heatmap_array = []\n",
    "\n",
    "    # iterate over all the measurements of the dataset\n",
    "    for visual_idx, stimulus_measurement in enumerate(stimulus_dataset):\n",
    "        times = None\n",
    "        if time_stamp_array is not None and len(time_stamp_array) > visual_idx:\n",
    "            times = time_stamp_array[visual_idx]\n",
    "        \n",
    "        im = rEYEker.draw_shape_heat_map(image_array[dataset_idx], stimulus_measurement,click_setting, time_stamps=times, should_copy=True)\n",
    "        heatmap_array.append(im)\n",
    "        \n",
    "    heatmaps_matrix.append(heatmap_array)"
   ]
  },
  {
   "cell_type": "markdown",
   "metadata": {},
   "source": [
    "save Heatmaps"
   ]
  },
  {
   "cell_type": "code",
   "execution_count": 16,
   "metadata": {},
   "outputs": [],
   "source": [
    "for idx, heatmap_array in enumerate(heatmaps_matrix):\n",
    "    save_images(heatmap_array, \"./results/heatmaps/heatmaps/\" +  config_folder_prefix_array[idx], config_image_prefix_array[idx])"
   ]
  },
  {
   "cell_type": "markdown",
   "metadata": {},
   "source": [
    "<h2>3. Create Average Heatmaps</h2>"
   ]
  },
  {
   "cell_type": "markdown",
   "metadata": {},
   "source": [
    "create heatmaps"
   ]
  },
  {
   "cell_type": "code",
   "execution_count": 17,
   "metadata": {},
   "outputs": [],
   "source": [
    "average_heatmap_array = []\n",
    "avergae_heatmask_array = []\n",
    "\n",
    "# iterate over all the datasets\n",
    "for idx, stimulus_dataset in enumerate(visual_stimulus_data_matrix):\n",
    "    image = image_array[idx]\n",
    "    visual_measurements = visual_stimulus_data_matrix[idx]\n",
    "    time_measurements = None\n",
    "    if len(timestamps_data_matrix) > idx:\n",
    "        time_measurements = timestamps_data_matrix[idx]\n",
    "    im, mask = rEYEker.draw_average_shape_heat_map_rel(image, visual_measurements, click_setting, 1.0, .0, time_measurements, should_copy=True)\n",
    "    average_heatmap_array.append(im)\n",
    "    avergae_heatmask_array.append(mask)"
   ]
  },
  {
   "cell_type": "markdown",
   "metadata": {},
   "source": [
    "save heatmaps"
   ]
  },
  {
   "cell_type": "code",
   "execution_count": 18,
   "metadata": {},
   "outputs": [],
   "source": [
    "for idx, heatmap in enumerate(average_heatmap_array):\n",
    "    save_images([heatmap], \"./results/heatmaps/average_heatmap/\", config_image_prefix_array[idx])"
   ]
  },
  {
   "cell_type": "markdown",
   "metadata": {},
   "source": [
    "<h2>4. Create Sequence diagramms</h2>"
   ]
  },
  {
   "cell_type": "markdown",
   "metadata": {},
   "source": [
    "create sequence diagrams"
   ]
  },
  {
   "cell_type": "code",
   "execution_count": 19,
   "metadata": {},
   "outputs": [],
   "source": [
    "sequence_diagrams_matrix = []\n",
    "\n",
    "# iterate over all the datasets\n",
    "for dataset_idx, stimulus_dataset in enumerate(visual_stimulus_data_matrix):\n",
    "    #if time will be needed someday\n",
    "    #time_stamp_array = None\n",
    "    #if len(timestamps_data_matrix) > dataset_idx:\n",
    "    #    time_stamp_array = timestamps_data_matrix[dataset_idx]\n",
    "    \n",
    "    sequence_diagram_array = []\n",
    "\n",
    "    # iterate over all the measurements of the dataset\n",
    "    for visual_idx, stimulus_measurement in enumerate(stimulus_dataset):\n",
    "        #if time will be needed someday\n",
    "        #times = None\n",
    "        #if time_stamp_array is not None and len(time_stamp_array) > visual_idx:\n",
    "        #    times = time_stamp_array[visual_idx]\n",
    "        try:\n",
    "            im = rEYEker.draw_vertical_line_diagram(image_array[dataset_idx], stimulus_measurement, should_copy=True)\n",
    "            sequence_diagram_array.append(im)\n",
    "        except:\n",
    "            #TODO\n",
    "            print(\"W.I.P.:\", end='')\n",
    "            print(\"to many clicks for dataset \" + str(dataset_idx) + \" datset \" + str(visual_idx))\n",
    "    sequence_diagrams_matrix.append(sequence_diagram_array)"
   ]
  },
  {
   "cell_type": "markdown",
   "metadata": {},
   "source": [
    "save sequence diagrams"
   ]
  },
  {
   "cell_type": "code",
   "execution_count": 20,
   "metadata": {},
   "outputs": [],
   "source": [
    "for idx, sequence_diagram_array in enumerate(sequence_diagrams_matrix):\n",
    "    save_images(sequence_diagram_array, \"./results/sequence_diagrams/\"  +  config_folder_prefix_array[idx], config_image_prefix_array[idx])"
   ]
  },
  {
   "cell_type": "markdown",
   "metadata": {},
   "source": [
    "<h2>5. Generate Code Flow diagramm</h2>\n",
    "\n",
    "<h4> User rEYEke_COdeFlow.ipynb to create the corresponding excel sheets </h4>"
   ]
  },
  {
   "cell_type": "markdown",
   "metadata": {},
   "source": [
    "<h2>7. Analyse average of Data</h2>"
   ]
  },
  {
   "cell_type": "markdown",
   "metadata": {},
   "source": [
    "<h3>7.1 Helper Functions</h3>"
   ]
  },
  {
   "cell_type": "code",
   "execution_count": 21,
   "metadata": {},
   "outputs": [],
   "source": [
    "def save_displots(folder, indexing_array, df_array):\n",
    "    \"\"\"\n",
    "    folder:         prefix where to save\n",
    "    indexing_array: how to index into the dataframe\n",
    "    df_array:     array of dataframes to plot\n",
    "    \"\"\"\n",
    "    Path(folder).mkdir(parents=True, exist_ok=True)\n",
    "    \n",
    "    for idx, dataframe in enumerate(df_array):\n",
    "        values = dataframe[indexing_array[idx]].values.astype(float)\n",
    "        sns_plot = sns.displot(data=values, kde=True)\n",
    "        sns_plot.savefig(folder + config_image_prefix_array[idx] + \".png\")\n",
    "        plt.close()\n",
    "\n",
    "        \n",
    "def save_combined_displot(folder, x_axis, dataframe):\n",
    "    \"\"\"\n",
    "    folder:         prefix where to save\n",
    "    x_axis:         value to use for x_axis\n",
    "    dataframe:      dataframe with \"Algorithm\" field\n",
    "    \"\"\"\n",
    "    Path(folder).mkdir(parents=True, exist_ok=True)\n",
    "    \n",
    "    sns_plot = sns.displot(data=dataframe, x=x_axis, hue=\"Algorithm\", kind=\"kde\")\n",
    "    sns_plot.savefig(folder + \"Combined_Displot.png\")\n",
    "    plt.close()"
   ]
  },
  {
   "cell_type": "code",
   "execution_count": 22,
   "metadata": {},
   "outputs": [],
   "source": [
    "def save_barplot(folder, y_axis, df_array):\n",
    "    \"\"\"\n",
    "    folder:         prefix where to save\n",
    "    y_axis:         value to use for y_axis\n",
    "    df_array:     array of dataframes to plot\n",
    "    \"\"\"\n",
    "    Path(folder).mkdir(parents=True, exist_ok=True)\n",
    "    \n",
    "    sns_plot = sns.barplot(y=y_axis, x='Algorithm', data=df_array, hue='Algorithm', estimator=np.median)\n",
    "    sns_plot.legend_.remove()\n",
    "    sns_plot.figure.savefig(folder + \"Combined_Barplot.png\")\n",
    "    plt.close()"
   ]
  },
  {
   "cell_type": "code",
   "execution_count": 23,
   "metadata": {},
   "outputs": [],
   "source": [
    "def save_boxplot(folder, y_axis, df_array):\n",
    "    \"\"\"\n",
    "    folder:         prefix where to save\n",
    "    y_axis:         value to use for y_axis\n",
    "    df_array:     array of dataframes to plot\n",
    "    \"\"\"\n",
    "    Path(folder).mkdir(parents=True, exist_ok=True)\n",
    "    \n",
    "    sns_plot = sns.boxplot(y=y_axis, x='Algorithm', data=df_array, hue='Algorithm')\n",
    "    sns_plot.legend_.remove()\n",
    "    sns_plot.figure.savefig(folder + \"Combined_Boxplot.png\")\n",
    "    plt.close()"
   ]
  },
  {
   "cell_type": "code",
   "execution_count": 24,
   "metadata": {},
   "outputs": [],
   "source": [
    "def save_violinplot(folder, y_axis, df_array):\n",
    "    \"\"\"\n",
    "    folder:         prefix where to save\n",
    "    y_axis:         value to use for y_axis\n",
    "    df_array:     array of dataframes to plot\n",
    "    \"\"\"\n",
    "    Path(folder).mkdir(parents=True, exist_ok=True)\n",
    "    \n",
    "    sns_plot = sns.violinplot(y=y_axis, x='Algorithm', data=df_array, hue='Algorithm')\n",
    "    sns_plot.legend_.remove()\n",
    "    sns_plot.figure.savefig(folder + \"Combined_Violinplot.png\")\n",
    "    plt.close()"
   ]
  },
  {
   "cell_type": "code",
   "execution_count": 25,
   "metadata": {},
   "outputs": [],
   "source": [
    "def save_implots(folder, x_df, x_axis, y_df, y_axis):\n",
    "    Path(folder).mkdir(parents=True, exist_ok=True)\n",
    "    \n",
    "    tmp_list = []\n",
    "    for idx in range(len(x_df)):\n",
    "        x_val = x_df[x_axis][idx]\n",
    "        y_val = y_df[y_axis][idx]\n",
    "        algorithm = x_df['Algorithm'][idx]\n",
    "        tmp_list.append([x_val, y_val, algorithm])\n",
    "        \n",
    "    df_tmp = pd.DataFrame(tmp_list, columns=[x_axis, y_axis, 'Algorithm'])\n",
    "    for idx in range(len(config_algo_names)):\n",
    "        tmp_df = df_tmp[df_tmp[\"Algorithm\"] == config_algo_names[idx]]\n",
    "        sns_plot = sns.lmplot(data=tmp_df, x=x_axis, y=y_axis)\n",
    "        sns_plot.set(ylim=(0, None))\n",
    "        sns_plot.savefig(folder + config_algo_names[idx] + str(idx) + \".png\")\n",
    "        plt.close()\n",
    "\n",
    "def save_combined_implot(folder, x_df, x_axis, y_df, y_axis):\n",
    "    Path(folder).mkdir(parents=True, exist_ok=True)\n",
    "    \n",
    "    tmp_list = []\n",
    "    for idx in range(len(x_df)):\n",
    "        x_val = x_df[x_axis][idx]\n",
    "        y_val = y_df[y_axis][idx]\n",
    "        algorithm = x_df['Algorithm'][idx]\n",
    "        tmp_list.append([x_val, y_val, algorithm])\n",
    "        \n",
    "    df_tmp = pd.DataFrame(tmp_list, columns=[x_axis, y_axis, 'Algorithm'])\n",
    "    sns_plot = sns.lmplot(data=df_tmp, x=x_axis, y=y_axis, hue=\"Algorithm\")\n",
    "    sns_plot.set(ylim=(0, None))\n",
    "    sns_plot.savefig(folder + \"Combined_Implot.png\")\n",
    "    plt.close()"
   ]
  },
  {
   "cell_type": "markdown",
   "metadata": {},
   "source": [
    "<h3>7.2 Response Time</h3>"
   ]
  },
  {
   "cell_type": "markdown",
   "metadata": {},
   "source": [
    "Create new Dataframe which holds all the response time data"
   ]
  },
  {
   "cell_type": "code",
   "execution_count": 26,
   "metadata": {},
   "outputs": [],
   "source": [
    "columns = ['Response Time', 'Algorithm']\n",
    "data = []\n",
    "for idx, dataframe in enumerate(df_array):\n",
    "    for _idx, row in dataframe.iterrows():\n",
    "        data.append([row[config_response_time_variable_array[idx]], config_algo_names[idx]])\n",
    "algo_df = pd.DataFrame(data, columns=columns)"
   ]
  },
  {
   "cell_type": "markdown",
   "metadata": {},
   "source": [
    "Create and Save Displots"
   ]
  },
  {
   "cell_type": "code",
   "execution_count": 27,
   "metadata": {},
   "outputs": [],
   "source": [
    "save_displots(\"./results/responseTime/displots/\", config_response_time_variable_array, df_array)\n",
    "\n",
    "save_combined_displot(\"./results/responseTime/displots/\", \"Response Time\", algo_df)"
   ]
  },
  {
   "cell_type": "markdown",
   "metadata": {},
   "source": [
    "Create and save barplots"
   ]
  },
  {
   "cell_type": "code",
   "execution_count": 28,
   "metadata": {},
   "outputs": [],
   "source": [
    "save_barplot(\"./results/responseTime/barplot/\", 'Response Time', algo_df)"
   ]
  },
  {
   "cell_type": "markdown",
   "metadata": {},
   "source": [
    "Create and save boxplot"
   ]
  },
  {
   "cell_type": "code",
   "execution_count": 29,
   "metadata": {},
   "outputs": [],
   "source": [
    "save_boxplot(\"./results/responseTime/boxplot/\", 'Response Time', algo_df)"
   ]
  },
  {
   "cell_type": "markdown",
   "metadata": {},
   "source": [
    "Create and save violinplot"
   ]
  },
  {
   "cell_type": "code",
   "execution_count": 30,
   "metadata": {},
   "outputs": [],
   "source": [
    "save_violinplot(\"./results/responseTime/violinplot/\", 'Response Time', algo_df)"
   ]
  },
  {
   "cell_type": "markdown",
   "metadata": {},
   "source": [
    "<h3>7.3. Code Flow vs Visual Stimulus</h3>"
   ]
  },
  {
   "cell_type": "markdown",
   "metadata": {},
   "source": [
    "Load daraframes"
   ]
  },
  {
   "cell_type": "code",
   "execution_count": 31,
   "metadata": {},
   "outputs": [],
   "source": [
    "# read data\n",
    "config_array = []\n",
    "code_flow_array = []\n",
    "\n",
    "for value in config_code_flow_datasheet_array:\n",
    "    sheet_config = pd.read_excel('./data/code_flow/' + value, sheet_name=\"config\")\n",
    "    sheet_config = sheet_config.astype('int32')\n",
    "    \n",
    "    sheet_code_flow = pd.read_excel('./data/code_flow/' + value, sheet_name=\"values\")\n",
    "    sheet_code_flow = sheet_code_flow.astype('int32')\n",
    "    \n",
    "    config_array.append(sheet_config)\n",
    "    code_flow_array.append(sheet_code_flow)\n",
    "\n",
    "# transform stimulus data into code lines\n",
    "visual_stimulus_code_flow_matrix = []\n",
    "\n",
    "for idx1, visual_stimulus_dataset in enumerate(visual_stimulus_data_matrix):\n",
    "    converted_to_lines_array = []\n",
    "    \n",
    "    for dataset in visual_stimulus_dataset:\n",
    "        converted_to_lines = []\n",
    "        \n",
    "        for (x, y) in dataset:\n",
    "            num = -1\n",
    "            \n",
    "            for idx2, tup in config_array[idx1].iterrows():\n",
    "                if is_in(y, tup):\n",
    "                    num = idx2\n",
    "            \n",
    "            converted_to_lines.append(num)\n",
    "            \n",
    "        converted_to_lines_array.append(converted_to_lines)\n",
    "        \n",
    "    visual_stimulus_code_flow_matrix.append(converted_to_lines_array)"
   ]
  },
  {
   "cell_type": "code",
   "execution_count": 32,
   "metadata": {},
   "outputs": [],
   "source": [
    "# gen sequence for visual stimulus flow\n",
    "        \n",
    "visual_stimulus_flow_matrix = []\n",
    "\n",
    "for idx, visual_stimulus_code_flow_datasets in enumerate(visual_stimulus_code_flow_matrix):\n",
    "    sequence_array = []\n",
    "    multiplier_offset = 10**get_0_offset(len(config_array[idx]))\n",
    "    \n",
    "    for visual_stimulus_code_flow_dataset in visual_stimulus_code_flow_datasets:\n",
    "        sequence = []\n",
    "        \n",
    "        for start in range(len(visual_stimulus_code_flow_dataset)-1):\n",
    "            pre = visual_stimulus_code_flow_dataset[start]\n",
    "            post = visual_stimulus_code_flow_dataset[start+1]\n",
    "            #potential skip if pre and post is equal, may be useful\n",
    "            num = pre * multiplier_offset + post\n",
    "            sequence.append(num)\n",
    "            \n",
    "        sequence_array.append(sequence)\n",
    "        \n",
    "    visual_stimulus_flow_matrix.append(sequence_array)"
   ]
  },
  {
   "cell_type": "code",
   "execution_count": 33,
   "metadata": {},
   "outputs": [],
   "source": [
    "# gen sequence for code flow\n",
    "code_flow_sequence_array = []\n",
    "\n",
    "for code_flow_dataset in code_flow_array:\n",
    "    sequence = []\n",
    "    multiplier_offset = 10**get_0_offset(len(code_flow_dataset))\n",
    "    \n",
    "    for start in range(len(code_flow_dataset)-1):\n",
    "        pre = code_flow_dataset['code flow'][start]\n",
    "        post = code_flow_dataset['code flow'][start+1]\n",
    "        #potential skip if pre and post is equal, may be useful\n",
    "        num = pre * multiplier_offset + post\n",
    "        sequence.append(num)\n",
    "        \n",
    "    code_flow_sequence_array.append(sequence)"
   ]
  },
  {
   "cell_type": "code",
   "execution_count": 34,
   "metadata": {},
   "outputs": [],
   "source": [
    "#create dataframes\n",
    "similarity_matrix = []\n",
    "\n",
    "for idx, code_flow_sequence in enumerate(code_flow_sequence_array):\n",
    "    sim_data = []\n",
    "    for visual_stimulus_sequence in visual_stimulus_flow_matrix[idx]:\n",
    "        sim_data.append(difflib.SequenceMatcher(None, code_flow_sequence, visual_stimulus_sequence).ratio())\n",
    "        \n",
    "    similarity_matrix.append(sim_data)\n",
    "    \n",
    "cols = ['Similarity', 'Algorithm']\n",
    "data = []\n",
    "for idx in range(len(similarity_matrix)):\n",
    "    for score in similarity_matrix[idx]:\n",
    "        data.append([score, config_algo_names[idx]])\n",
    "\n",
    "df_similarity = pd.DataFrame(data, columns=cols)\n",
    "df_similarity_array = []\n",
    "for idx in range(len(code_flow_array)):\n",
    "    df = pd.DataFrame(df_similarity.loc[df_similarity['Algorithm'] == config_algo_names[idx]] ,columns=cols)\n",
    "    df = df.drop('Algorithm', axis=1)\n",
    "    df_similarity_array.append(df)"
   ]
  },
  {
   "cell_type": "code",
   "execution_count": 35,
   "metadata": {},
   "outputs": [],
   "source": [
    "save_displots(\"./results/codeFlowSimilarity/displots/\", [\"Similarity\"]*len(similarity_matrix), df_similarity_array)\n",
    "\n",
    "save_combined_displot(\"./results/codeFlowSimilarity/displots/\", \"Similarity\", df_similarity)"
   ]
  },
  {
   "cell_type": "code",
   "execution_count": 36,
   "metadata": {},
   "outputs": [],
   "source": [
    "save_barplot(\"./results/codeFlowSimilarity/barplot/\", 'Similarity', df_similarity)"
   ]
  },
  {
   "cell_type": "code",
   "execution_count": 37,
   "metadata": {},
   "outputs": [],
   "source": [
    "save_boxplot(\"./results/codeFlowSimilarity/boxplot/\", 'Similarity', df_similarity)"
   ]
  },
  {
   "cell_type": "code",
   "execution_count": 38,
   "metadata": {},
   "outputs": [],
   "source": [
    "save_violinplot(\"./results/codeFlowSimilarity/violinplot/\", 'Similarity', df_similarity)"
   ]
  },
  {
   "cell_type": "markdown",
   "metadata": {},
   "source": [
    "<h3>7.4. Regression Code Flow and Response time</h3>"
   ]
  },
  {
   "cell_type": "code",
   "execution_count": 39,
   "metadata": {},
   "outputs": [],
   "source": [
    "save_implots(\"./results/codeFlowSimilarity/implots/\", df_similarity, \"Similarity\", algo_df, \"Response Time\")\n",
    "save_combined_implot(\"./results/codeFlowSimilarity/implots/\", df_similarity, \"Similarity\", algo_df, \"Response Time\")"
   ]
  },
  {
   "cell_type": "markdown",
   "metadata": {},
   "source": [
    "<h3>7.5. Statistical Values</h3>"
   ]
  },
  {
   "cell_type": "markdown",
   "metadata": {},
   "source": [
    "Create Excel sheet with data containing speedup and significance corresponding to response time"
   ]
  },
  {
   "cell_type": "code",
   "execution_count": 40,
   "metadata": {},
   "outputs": [],
   "source": [
    "def create_statical_data(df_array, indexing_array, folder, name):\n",
    "    def highlight_signficant(s):\n",
    "        if s.name != '#':\n",
    "            is_sig = df_significance[s.name]\n",
    "            return ['background-color: green' if v else '' for v in is_sig]\n",
    "        else:\n",
    "            return ['' for v in s] \n",
    "    \n",
    "    mean_array = []\n",
    "    is_significant = []\n",
    "    t_value_response_time = []\n",
    "    p_value_response_time = []\n",
    "    ratio = []\n",
    "\n",
    "    for idx1, df1 in enumerate(df_array):\n",
    "        different_tmp = [config_algo_names[idx1]]\n",
    "        t_tmp = [config_algo_names[idx1]]\n",
    "        p_tmp = [config_algo_names[idx1]]\n",
    "        ratio_tmp = [config_algo_names[idx1]]\n",
    "    \n",
    "        for idx2, df2 in enumerate(df_array):\n",
    "            (different, t, p) = compare_for_h0(df1[indexing_array[idx1]].values, df2[indexing_array[idx2]],  config_alpha)\n",
    "            different_tmp.append(not different)\n",
    "            t_tmp.append(t)\n",
    "            p_tmp.append(p)\n",
    "            ratio_tmp.append(df1[indexing_array[idx1]].mean() / df2[indexing_array[idx2]].mean())\n",
    "        \n",
    "        is_significant.append(different_tmp)\n",
    "        t_value_response_time.append(t_tmp)\n",
    "        p_value_response_time.append(p_tmp)\n",
    "        ratio.append(ratio_tmp)\n",
    "        mean_array.append(df1[indexing_array[idx1]].mean())\n",
    "    \n",
    "    df_significance = pd.DataFrame(is_significant, columns=['#'] + config_algo_names)\n",
    "\n",
    "    df_t = pd.DataFrame(t_value_response_time, columns=['#'] + config_algo_names)\n",
    "    df_p = pd.DataFrame(p_value_response_time, columns=['#'] + config_algo_names)\n",
    "    df_ratio = pd.DataFrame(ratio, columns=['#'] + config_algo_names)\n",
    "    df_ratio = df_ratio.style.apply(highlight_signficant)\n",
    "    df_mean = pd.DataFrame([mean_array], columns=config_algo_names)\n",
    "\n",
    "    Path(folder).mkdir(parents=True, exist_ok=True)\n",
    "\n",
    "    writer = pd.ExcelWriter(folder + name + '.xlsx', engine='xlsxwriter')\n",
    "\n",
    "    df_ratio.to_excel(writer, sheet_name='ratio col row', index=False)\n",
    "    df_mean.to_excel(writer, sheet_name='mean value', index=False)\n",
    "    df_significance.to_excel(writer, sheet_name='statistical difference', index=False)\n",
    "    df_p.to_excel(writer, sheet_name='p values', index=False)\n",
    "    df_t.to_excel(writer, sheet_name='t values', index=False)\n",
    "\n",
    "    writer.save()"
   ]
  },
  {
   "cell_type": "code",
   "execution_count": 41,
   "metadata": {},
   "outputs": [],
   "source": [
    "len_of_visual = []\n",
    "for dataset_row in visual_stimulus_data_matrix:\n",
    "    tmp_len = []\n",
    "    for dataset in dataset_row:\n",
    "        tmp_len.append(len(dataset))\n",
    "    len_of_visual.append(tmp_len)\n",
    "    \n",
    "len_df_array = []\n",
    "for len_array in len_of_visual:\n",
    "    df = pd.DataFrame(len_array, columns=['len'])\n",
    "    len_df_array.append(df)"
   ]
  },
  {
   "cell_type": "markdown",
   "metadata": {},
   "source": [
    "Create Excel sheet with data containing speedup and significance corresponding to len of measured visual stimulus data"
   ]
  },
  {
   "cell_type": "code",
   "execution_count": 42,
   "metadata": {},
   "outputs": [],
   "source": [
    "create_statical_data(df_array, config_response_time_variable_array, './results/excel/', 'TotalResponseTime')\n",
    "create_statical_data(len_df_array, ['len']*len(len_df_array), './results/excel/', 'NumberOfMeasurements')\n",
    "create_statical_data(df_similarity_array, ['Similarity']*len(df_similarity_array), './results/excel/', 'SimilarityToCodeFlow')"
   ]
  },
  {
   "cell_type": "markdown",
   "metadata": {},
   "source": [
    "<h2>8. Areas of Interest </h2>"
   ]
  },
  {
   "cell_type": "markdown",
   "metadata": {},
   "source": [
    "<h2>8.1. Areas of Interest supervised </h2>"
   ]
  },
  {
   "cell_type": "code",
   "execution_count": 223,
   "metadata": {},
   "outputs": [
    {
     "data": {
      "image/png": "[encoded data removed]",
      "text/plain": [
       "<Figure size 432x432 with 1 Axes>"
      ]
     },
     "metadata": {},
     "output_type": "display_data"
    }
   ],
   "source": [
    "import modules.HeatmapHelpers as heathelpers\n",
    "from matplotlib.patches import Rectangle\n",
    "\n",
    "im = image_array[0].copy()\n",
    "shape = im.shape[0], im.shape[1]\n",
    "\n",
    "aoi_mask = np.zeros(shape).astype(int)\n",
    "aoi_mask[50:180, 50:700] = 1\n",
    "aoi_mask[200:350, 50:900] = 2\n",
    "\n",
    "x = [x for (x,y) in visual_stimulus_data_matrix[0][0]]\n",
    "y = [y for (x,y) in visual_stimulus_data_matrix[0][0]]\n",
    "\n",
    "cats = [int(aoi_mask[y,x]) for (x,y) in visual_stimulus_data_matrix[0][0]]\n",
    "classes = [\"None\", \"main\", \"fibonacci\"]\n",
    "classes = [classes[idx] for idx in cats]\n",
    "df_classes = pd.DataFrame(classes, columns=[\"aois\"])\n",
    "incremental_step = float(df_classes['aois'].value_counts().max())/float(len(df_classes) - 1)\n",
    "\n",
    "y_val = [i*incremental_step for i in range(len(df_classes))]\n",
    "x_val = cats\n",
    "\n",
    "fig, ax1 = plt.subplots(figsize=(6,6))\n",
    "\n",
    "sns.countplot(x=\"aois\", data=df_classes, ax=ax1);\n",
    "ax1.plot(x_val, y_val, '-o', linewidth=2, color='black');\n",
    "\n",
    "bars = [r for r in ax1.get_children() if type(r)==Rectangle]\n",
    "colors = [c.get_facecolor() for c in bars[:-1]]\n",
    "colors = [[r,g,b] for (r,g,b,a) in colors]\n",
    "colors = np.array(colors).astype(np.float32)"
   ]
  },
  {
   "cell_type": "code",
   "execution_count": 162,
   "metadata": {},
   "outputs": [
    {
     "data": {
      "image/png": "[encoded data removed]",
      "text/plain": [
       "<Figure size 576x576 with 1 Axes>"
      ]
     },
     "metadata": {},
     "output_type": "display_data"
    }
   ],
   "source": [
    "fig, ax = plt.subplots(figsize=(8,8))\n",
    "\n",
    "im = image_array[0].copy()\n",
    "\n",
    "\n",
    "for height in range(im.shape[0]):\n",
    "    for width in range(im.shape[1]):\n",
    "        im[height, width] = 0.4 * im[height, width] + 0.6 * colors[aoi_mask[height, width]]\n",
    "\n",
    "ax.imshow(im)\n",
    "ax.plot(x, y, ':', linewidth=2, color='black');"
   ]
  },
  {
   "cell_type": "markdown",
   "metadata": {},
   "source": [
    "<h3>8.2. Areas of Interest unsupervised</h3>"
   ]
  },
  {
   "cell_type": "markdown",
   "metadata": {},
   "source": [
    "How to analyze areas of interests?\n",
    "\n",
    "1. [x] find max heat values or values above a treshhold\n",
    "    1. [x] split to large areas by a certain treshhold\n",
    "    2. [x] maybe create a bounding box of them and analyze them by prio for better computation time\n",
    "        1. [x] fix aois to lines, mybe to columns if the works seems useful for an algorithm\n",
    "\n",
    "2. [x] analyse how to jump between different regions of interests\n",
    "    1. [x] categorize just hot areas as aois\n",
    "    2. [x] categorize everything as aois\n",
    "    %% 3. [ ] list how the code flow jumps between theese regions\n",
    "\n",
    "3. [ ] analyse all the data for a mean and statical signifance\n",
    "    1. [ ] maybe implement gernerialized string mean algorithm for medium jumps (NP complte)\n",
    "    2. [ ] maybe use the same as in the code flow [#todo also implement genrerilized string mean for code flow]"
   ]
  },
  {
   "cell_type": "code",
   "execution_count": 194,
   "metadata": {},
   "outputs": [
    {
     "data": {
      "image/png": "[encoded data removed]",
      "text/plain": [
       "<Figure size 432x288 with 1 Axes>"
      ]
     },
     "metadata": {},
     "output_type": "display_data"
    }
   ],
   "source": [
    "import modules.HeatmapHelpers as heathelpers\n",
    "\n",
    "treshhold = 0.25\n",
    "chunk_width = 60\n",
    "value = 1.0 / treshhold\n",
    "upper_limit = 0.2\n",
    "\n",
    "shape = average_heatmap_array[0].shape[0], average_heatmap_array[0].shape[1]\n",
    "width = shape[1]\n",
    "\n",
    "data = np.array(avergae_heatmask_array[0])\n",
    "data = np.reshape(data, shape)\n",
    "\n",
    "\n",
    "data = np.rint(data * value) / value\n",
    "data[data < upper_limit] = 0.0\n",
    "\n",
    "tmp = data.flatten().tolist()\n",
    "im = image_array[0].copy()\n",
    "heathelpers.draw_heat(im, tmp)\n",
    "\n",
    "imgplot0 = plt.imshow(im)"
   ]
  },
  {
   "cell_type": "code",
   "execution_count": 195,
   "metadata": {},
   "outputs": [
    {
     "data": {
      "image/png": "[encoded data removed]",
      "text/plain": [
       "<Figure size 432x288 with 1 Axes>"
      ]
     },
     "metadata": {},
     "output_type": "display_data"
    }
   ],
   "source": [
    "horizontal_data = np.zeros(data.shape)\n",
    "\n",
    "for height_idx in range(len(data)):\n",
    "    for val in range(0, width, chunk_width):\n",
    "        max_val = data[height_idx, val:(val+chunk_width)].max()\n",
    "        horizontal_data[height_idx, val:(val+chunk_width)] = max_val\n",
    "\n",
    "horizontal_data[horizontal_data < upper_limit] = 0.0\n",
    "heat_mask = horizontal_data.flatten().tolist()\n",
    "img = image_array[0].copy()\n",
    "heathelpers.draw_heat(img, heat_mask)\n",
    "\n",
    "imgplot0 = plt.imshow(img)"
   ]
  },
  {
   "cell_type": "code",
   "execution_count": 196,
   "metadata": {},
   "outputs": [
    {
     "data": {
      "image/png": "[encoded data removed]",
      "text/plain": [
       "<Figure size 432x288 with 1 Axes>"
      ]
     },
     "metadata": {},
     "output_type": "display_data"
    }
   ],
   "source": [
    "line_data = np.zeros(data.shape)\n",
    "for _idx, row in config_array[0].iterrows():\n",
    "    low = row[\"start\"]\n",
    "    high = row[\"stop\"] + 1\n",
    "    for val in range(0, width, chunk_width):\n",
    "        max_val = data[low:high, val:(val+chunk_width)].max()\n",
    "        line_data[low:high, val:(val+chunk_width)] = max_val\n",
    "\n",
    "line_data[line_data < upper_limit] = 0.0\n",
    "heat_mask = line_data.flatten().tolist()\n",
    "im = image_array[0].copy()\n",
    "heathelpers.draw_heat(im, heat_mask)\n",
    "\n",
    "imgplot0 = plt.imshow(im)"
   ]
  },
  {
   "cell_type": "code",
   "execution_count": 197,
   "metadata": {},
   "outputs": [
    {
     "data": {
      "image/png": "[encoded data removed]",
      "text/plain": [
       "<Figure size 576x576 with 1 Axes>"
      ]
     },
     "metadata": {},
     "output_type": "display_data"
    }
   ],
   "source": [
    "x = [x for (x,y) in visual_stimulus_data_matrix[0][0]]\n",
    "y = [y for (x,y) in visual_stimulus_data_matrix[0][0]]\n",
    "\n",
    "fig, ax = plt.subplots(figsize=(8,8))\n",
    "ax.imshow(im)\n",
    "ax.plot(x, y, ':', linewidth=1, color='black');"
   ]
  },
  {
   "cell_type": "code",
   "execution_count": 95,
   "metadata": {},
   "outputs": [],
   "source": [
    "from matplotlib import animation\n",
    "from IPython.display import HTML\n",
    "\n",
    "fig, ax = plt.subplots(figsize=(8,8));\n",
    "ax.set_ylim((0, 416))\n",
    "ax.set_xlim((0, 870))\n",
    "ax.invert_yaxis()\n",
    "\n",
    "ax.imshow(image_array[0])\n",
    "line, = ax.plot([], [], \"k-x\", lw=2)\n",
    "\n",
    "def init():\n",
    "    line.set_data([], [])\n",
    "    return (line,)\n",
    "\n",
    "\n",
    "x_glob = np.array([x for (x,y) in visual_stimulus_data_matrix[0][0]])\n",
    "y_glob = np.array([y for (x,y) in visual_stimulus_data_matrix[0][0]])\n",
    "\n",
    "len_value = len(x_glob)\n",
    "\n",
    "def animate(i):\n",
    "    low = max(0, i-8)\n",
    "    x = x_glob[low:i]\n",
    "    y = y_glob[low:i]\n",
    "\n",
    "    image = rEYEker.draw_shape_heat_map(image_array[0], visual_stimulus_data_matrix[0][0], click_setting, min_idx=low, max_idx=i, should_copy=True)\n",
    "    ax.imshow(image)\n",
    "    \n",
    "    line.set_data(x,y)\n",
    "    return (line,)\n",
    "\n",
    "anim = animation.FuncAnimation(fig, animate, init_func=init, frames=len_value, interval=100, blit=True)\n",
    "plt.close()"
   ]
  },
  {
   "cell_type": "code",
   "execution_count": 96,
   "metadata": {},
   "outputs": [
    {
     "data": {
      "text/html": [
       "<video width=\"576\" height=\"576\" controls autoplay loop>\n",
       "  <source type=\"video/mp4\" src=\"data:video/mp4;base64,AAAAIGZ0eXBNNFYgAAACAE00ViBpc29taXNvMmF2YzEAAAAIZnJlZQAAm65tZGF0AAACrwYF//+r\n",
       "3EXpvebZSLeWLNgg2SPu73gyNjQgLSBjb3JlIDE2MSByMzA0OCBiODZhZTNjIC0gSC4yNjQvTVBF\n",
       "Ry00IEFWQyBjb2RlYyAtIENvcHlsZWZ0IDIwMDMtMjAyMSAtIGh0dHA6Ly93d3cudmlkZW9sYW4u\n",
       "b3JnL3gyNjQuaHRtbCAtIG9wdGlvbnM6IGNhYmFjPTEgcmVmPTMgZGVibG9jaz0xOjA6MCBhbmFs\n",
       "eXNlPTB4MzoweDExMyBtZT1oZXggc3VibWU9NyBwc3k9MSBwc3lfcmQ9MS4wMDowLjAwIG1peGVk\n",
       "X3JlZj0xIG1lX3JhbmdlPTE2IGNocm9tYV9tZT0xIHRyZWxsaXM9MSA4eDhkY3Q9MSBjcW09MCBk\n",
       "ZWFkem9uZT0yMSwxMSBmYXN0X3Bza2lwPTEgY2hyb21hX3FwX29mZnNldD0tMiB0aHJlYWRzPTE4\n",
       "IGxvb2thaGVhZF90aHJlYWRzPTMgc2xpY2VkX3RocmVhZHM9MCBucj0wIGRlY2ltYXRlPTEgaW50\n",
       "ZXJsYWNlZD0wIGJsdXJheV9jb21wYXQ9MCBjb25zdHJhaW5lZF9pbnRyYT0wIGJmcmFtZXM9MyBi\n",
       "X3B5cmFtaWQ9MiBiX2FkYXB0PTEgYl9iaWFzPTAgZGlyZWN0PTEgd2VpZ2h0Yj0xIG9wZW5fZ29w\n",
       "PTAgd2VpZ2h0cD0yIGtleWludD0yNTAga2V5aW50X21pbj0xMCBzY2VuZWN1dD00MCBpbnRyYV9y\n",
       "ZWZyZXNoPTAgcmNfbG9va2FoZWFkPTQwIHJjPWNyZiBtYnRyZWU9MSBjcmY9MjMuMCBxY29tcD0w\n",
       "LjYwIHFwbWluPTAgcXBtYXg9NjkgcXBzdGVwPTQgaXBfcmF0aW89MS40MCBhcT0xOjEuMDAAgAAA\n",
       "NaNliIQAEf/+94gfMstp+TrXchHnrS6tH1DuRnFepL3+IAAAAwAAAwAOEgizM27tsBELgAACAgA0\n",
       "IlQn45RfitmOPVFo/RIpUv8wCIrfC+PeUk6jAMk3DpNVrjBMT7EQxTObeSzEPAjaIB5jNRtGVWAS\n",
       "fKAyqytUsfyYINitk4zAD0hoG2pF7Jehdt0zZj6J6/oMxxFp/zKKI5EM0alSlq/dCrTmIS63xbxj\n",
       "7+HrIHQW+4pOP4ja9V0/HUTo6Rlc4EnYZKWqkU0VkGAc48eIdWQIigjjjPqjxHMTfizPicYx/2Jp\n",
       "7oO8XwtunNfVvOHjqenF2Ffv/D2DysibcGQUVRtdjCkDSvpUKvg+O2kmppHAdjA2RnZGZ0E4Kmkt\n",
       "HzKt1ZzR+E+CJ5b+m/QshWTEyAIB+3bbl1QtaRHBRRV+jLpw6oFATB5Qh+1iwr910UjQa+HT3+BP\n",
       "YCv9iy6MqklsYFOhricBM2RyhgXUTfR2FJGeVQO8XcbubPMc+wC4RpCL43p5qo5T6PCK2HdJ+po4\n",
       "GFoP5MFF1z9QK7yg7HqnCeXHgKdLd+Sfl4isLrPNUlxcsHB5wnSxK8iaQcvRgzm+EdY51xVTNf9t\n",
       "GE+kk7Uhn/WjvRB5DwwJyYpzbR1vbGl3UBdm25qhRE24ZJ0/Tt3GdXaZqeOPRiRakfwoWX0YxlBB\n",
       "p+B2KFyg+TWPjK6fiFd1djnBqEvbmjPelqjnMIRIvqHPf3oNh2Bp1jXDZti4aedwKPjcEDIN+5ED\n",
       "/BGc3IyIY6HAw0r09fU3aJ11kQSWklS0eLLdP8kJ9f+JKhHDWk3A2cw/bDQRNAAm0v1MWbljg9eY\n",
       "Zy5+EBxwBZuuZDYIkYzmI7i1+mrZJlIe8wOslWl7NrJ4S5awfmrKHtr4sK6HIbuEnO2l92Ksnejr\n",
       "LDvbBE/piEvm90P1NRyB6WkfTcV3U/XmTrnyIRqdZlkHZQ9fmlmlLed4S2ON3epMQLFfYmHETxvJ\n",
       "nax9TmdiL+e9s2W6aDNn2NoPWxf4RKxkiBXnAKvwfoOTwtV7r91wXCRpaupbcWQGChoDZgpxJNOB\n",
       "7VaEYqOccebgmo3fD2/y34KNyebrzjJZrmUiFfkHkuUCr4GQhWwbagtG0ByeXs51D0YMV3i6aAnx\n",
       "I5+rbNX0Eh3cGqUirSSDoxdn8WgJfi35ckB7Y0PcTFCAMiSWv9E17TJxdf8tPrmLunUWqdO3kntT\n",
       "QVZ25Ln/BhuqBUoLKGH+huoLM2k6Q562sFONI/Jcqt8B4BOTUXNKw1rEneC+p36ROTGGEPRLNUEc\n",
       "2yhNDWehMeDkAPDkmEpf5ulWA+oBfE7BvjL57wSUYfWvTjIGJ+/D81KUkh3Hd3Clf8vfLnrcNcmI\n",
       "fpqbBQ0IoT8bzOzCMQ6pHJZJ/zkgR7rikV4fVwWuBE3Tu+i2eRg9ZrZ6FMQ7P2Q3qUv+iAKb02Ot\n",
       "72nVnhGIcXsu2IoqT2Uv6MYLwn84ORqzn1Tw1OdRZ3MUIb+r01jtKi30V0uVZiL48Dv0fYVyf2nM\n",
       "bNJ55JKNrgvQdoJwOVIdZSm5gYW9YEVz8mnrBlhXQZAdxWmVzHFPbPzNt/ncBnTN7qlraMfmJUWu\n",
       "OMNYuDokBHVrjeSvllJliXdmaj89vUUesX4Pq7iLw1saZrdY6CNry6mo8xlaFX2Mky2Se2bY0+Af\n",
       "/rOwAj6+ZmqqjH99OqIESlqePbspzFzxfmC60eqSUnLef4OhDDDXDrhUT+SkZb02N8Vi5xgO0PkB\n",
       "fk46yBcDkx6D1QmCg27zQGpcG25Fl+f+JwTnfSJlRG6g6cSD+/x5wWe5den1/D8vj6BL1ELujsda\n",
       "LeYOaXG/q04/yOqNMh5uxcXh1DmnuVjusnci2JbWO3PWXgj8Vxwv2ZkB+VqYDgY7Di2nXwZmQVWy\n",
       "eFcpC9NnAsNZfnXtkQnYeWb7Jb458szvZmWi42NBaAVwMIcjXs+MiNLd4y8lg00PlDJ6TmhcHT5Z\n",
       "wsf2lO/P/hhdxk8j48VPkLSiJWm07u4iARtJ9cpf0m+Wck57lA7SgshFtNvKNVhE0E1L5mlQqXrf\n",
       "P82gE8dNOJNGQHXheis5X9UnPIZMX8EAlc/rhGoeMqBJmbcYdgG/rsZCyzJQO/aAjFt6GscRYsbA\n",
       "A0vsYgqRXvfkMhLktRRw9l3vw0ZY4af1KCvjzG8kr+AUZtu16n9QPvBpBxBKSb5DPxBSHF/HTOd2\n",
       "xo1fjbbATCOU89JnJ74v6UeYCkBe41QpVsPC1PQ4TbhtQV1aN3WqeSuciLxtJuxnU83YzHEDWJ5J\n",
       "oNGfu8OmUsVDU7PfQyCp36xDxuJhuFDleA30T7+2pxIYY+TpPmnGsHTnLFNp40lj/3lhqvGQCjvB\n",
       "6PP9wfrVEbYu2N+l569vJk96HJaa6ZcfARl1OEei7huNzxUSdeTWCyAfnI8mncTd76w3nJn/C6KC\n",
       "t5LRzjfPVrQmzBo54xeFEwK8FVtJEteTcEAQPffxir8L5Wn3fBOkeljVe7gW1Rn4PuYDudNau7jj\n",
       "3/nXRGlvbV179nX4WVqlar9KWwcvrR/yOLgQ3O99y7nCRuZcJHv7tvFBgVr0PQZKDyfcmCBc/coN\n",
       "sSzbDV+5MgnHyPThRWWTqcZnlNSxrfADbIb0TttTfnH4+ZvdJgJzRupzCAkBnQdqZeU4xLcsEO2w\n",
       "rNbJ+S55Jn7UGgXCRYMj/zXiPVPBH3x1BIqB38RrE5EqHCdIIefXP4qDoWT2Nw8NJ7xOCEmZBObJ\n",
       "b9pyD/R59CkiijStVKbRHtIzuI3P+Oo1oCBVTYdDeuw+Do36gUNslOIzZG0/jP8BPuOsSfrUri4h\n",
       "He2ZUEJWkG1Lx93rXdrWZt9I0NBXgBWQSn/jK4zbKPX8SvuWyOuqfi/0K2zl4CgTpHRyP8gpyIjA\n",
       "jH2drWJBiXCHXIlnMa51+P2YM4CRRwGa4Q6cQUzs19z30M/wNZ/MiBkRMr+w+vby0msNFuEAm/xC\n",
       "EiV7Qk3VwNIqyQiqKaOYnZNYrzng8Yy463Yw5RCx4boJlRpvRnCk60yY1EQjuYqhQoGe9J8vjpc1\n",
       "eSM2CQR+SO8Mrh4X21D+iKoI61LqnRuTvM2QjPh12v/G4ryaMLk7sEJnurE6up8AuPGzBb/YjDkJ\n",
       "6p9d6QTMLIW0S+u4sjeYT4IZDcAFUuWWY546eXcYBK0cM4VpylHLC8j+xqMKjoLaeHgd9PsqABFw\n",
       "JVfvehVa94cftW5P6dUyJ7l2RIPWkFtF2vG9hERVeQ+mSBMXuvlEZIurBoFOhJeEuzY5ZX3SpYqr\n",
       "/Hw2rNVzlJLpjYgMEo5lA24J0ALT2vB1ghEqpNflFQaWMBabdlCTB4ZtrpP8AtSDb2MKd+ydHDg9\n",
       "nOjdmxU48GEKYZpNVECLd3ZGDm19mzpv2c06MpPoMvOPZBX0TaRZlx//5hx777CZr5U6KRALUKU5\n",
       "PDOK4CBRRapWiHAidEmwChIf1aKa4x3NBNJrvffwmAeRCKoj/l+SZZLnfqSxgS2DbgNRlldOHrrs\n",
       "mJAdAxi6C10SlNF11NRY0YgdRvdQOgo98k22r88P9zLTikuzhu0PqbG+3N5rqB/DHyB7yuVPFG4F\n",
       "O1m028nPg8EmqNo7f4IKn8vQjQ8pI5qozw6IMhQ+VY7e7DLeYSVCJWNHVGvmHtSDkvV/J3MV0QXW\n",
       "5vsEvU2m6tdh22wEvEpAlv18/Jg/9+PEjXSZqphgDIC/CISOtdAm9wSWd2AUzgXMY9S7tzrxseW/\n",
       "gphcrxAQAmyZQlpYqEn3oqAriKHakkwetEiic3VF45BykAvrFU2rtz+vwL8OW+4qE/oaCfsNInna\n",
       "bPN8RyvSqLS68kJsMp8QW9PVu/Che27jmhMmJH0vyCuPoZgR4jDfTIYUjs8B0TNAlA391nu7Ts0b\n",
       "mhIJImZjVM4e9qk3M+KsTJn83OC4ZHhXXcehj0x6PCf3Lhfh+bzg4xuYwPa/C5S2PhEKh7Ag4YiJ\n",
       "IUCSTGJdFAA5YSmV9QDrNDFrXdRPcWqRtGTS/0VlUUNgrwjajDfx6M6QgCgw7UDuhICoPf+YiOO0\n",
       "9l/2HSasofGst4h7YdmjCr85VsShMXa4ihrtnDpmHdaXamwAi7FhQz1KKe63qld79l7wYjnyC6Z7\n",
       "TXHV38BN97msO3OwXOaduH1P7eFcMG14kRp3Qata4QO1/EmL/VALKn0mf8y7xANHcV4cgXEpK5Nd\n",
       "KtNdJMgViBqgFSfHBylyH8L9MUViBjPsdXRJsU/CM/wbCGhezh9NBXe0A8uzNsrla1YxRH+5e70N\n",
       "phERi6T3BNYG5T5D7MxY1cYK2nLO3LzP2NDoq4pCays8JLbRlYYcrSQeP8hn0GoKZaKW81BYBX7Z\n",
       "94onVU9DBA7BAuwb1kuTyhcyHf/WWcPENzmdemIU6X6gmPfdr/f3j8Qyil5obkbSHAdihBxYt9VF\n",
       "ly0QICTm5EH2TJpITRWhytxaskZZM9GP0bu4N+ECNs4gWS6/sgh9JnXzRPWw2qpy/bSy20tmdAfz\n",
       "DpNOii3oOP3wZ2q4UCwwd8P8Vw9E6PbHZkqg/MQd8wHzf9v17UaMeONKoxt2xv47L9WhoFbduwam\n",
       "yEQXqZKlWA6l7ilfRocqgVIh90w6xs8NBSh611uPIiKlWaS2fA0RcaxXW7t9kVdfRI0u5MYG24VI\n",
       "FkSVL3CSSBxXjVzaa8nu+dDqg4i56dKntJ+0KDl+KdTUY0hVzCljiRWoc3/vRhi6cRwpKQJ3Vpja\n",
       "mVcOL0X6f+fw7FbHqa6yw5pHfjn8+TAQUHjS5m+Cw/FfXEeC26IUnCpFDX7cT1jw3D98rbJ+uF+o\n",
       "nEZj9B1oUnBZg52XtL/SMioOFbQKsIR5h+uFGts1XhVShnxuyed9p4rLxU/i2YyoY0b5u3jw54WX\n",
       "b0b/56E1QCDuUf6E0/YPFq4cd7WyReuvdymhuSCOf83tjP7p1B6ZcQEwUr4BXVYMVrSjj2IJrNRy\n",
       "TQw04vRXlurz9YBTri+Gxy4xjX/53o0iVuuz4kNWh09kV8kleACXcskPb7UI5bw3ecJ6mhr6+yxK\n",
       "DpS5vUR/gCkB0jLAoxULe2uYuMAW0TRVecybBjRxNynud+3zzl/5m5ct/O/3lxhkC0TIYsKQHR/t\n",
       "/SMX7sjaA97tMEWTiHTaarmBgpb9ESLNPWaSFm7uF9CfyKQ+BOKFd6rQ/UV+cKF+Hy7eg7Wixm0K\n",
       "pcQ592t5VvtmDN8fdWheGxb+fu8CgHrN/gu6miI/YBBVtjplLGha7ecg2yFpqDAGOCX3iKWM5gXU\n",
       "RvJeKW6n+po144Rn/u05WhNY8/9xMrawE+X8ySRqfyXEzJduEvKxhEUhR+VmsQ0F8cSd/N7r4AB1\n",
       "6XZ8HBg4akchDX/ofZORcrwQQG8pAhPPfNjaDMDK/2FWVg4OnFRT1CEjEoIW7ruP1qZz3kW2mUXa\n",
       "KSuVF9cz0BWRpb6SVL9ojVn3g8gA1MIrmk0HKv9+W+D6jhiPOllJjiaE+Qj+9q5IfW9HKTNG+YjQ\n",
       "bRxCjK25hYTYNVQX4Lao0kISEqC3CeKyItEtBUAJox+7rxFmcuQcSvb4LNeJJyXfBBzaAKu5WOBq\n",
       "NyhX5drq7wAYc70BmWqb146O8tMexw3wnH8eX3ia5rlOLa4xFCSBwg3X+8is6ApyGE7BUcDhPwWb\n",
       "nx9mc6hfnTq3FDgUtL/dHeRRokb4VQd1vd7LsY5p+IcivNscSnaiFMKpbzPKCqQjQHpkeO7NeUmt\n",
       "5Z6yACFH9g2sIpk/ZrFJo8dASJuu4bpAtPDAMsIkoQgRES3nGahbgzKV2BX1TAcD5MyvN7l0ZSgP\n",
       "49L5dfdKY9zqLuJf+qyJQt9nTwjbwJVKCiJllsxYIJ0AruC5k4AW5993lfxwC1LD2Y8EaC3VonmE\n",
       "rQuLTDMNLp3gWSlCjM9tjfhRSzLSCxyaOsVDtv8rP3Occv3Xhi2R5Osse1i8conQqIBrfISFuJJt\n",
       "Xk4HbpqbmB//bvmUA8ERMcUtzzdYpEPUalRWs/CVdkq6oK3+7+JlqHTko2SpHJq6ROozPDlT+khF\n",
       "I6aiWj6UPUXF6IlKKB6XO9mSgvrm5uzINniOFwdnOqjfO45XEhKTqNSF/ovU0HkQNqXgIsZHuqzt\n",
       "CiFh9BTLqHH2bDPfpXusIAnsby29QaPqMeFwUNg/3HrBMvb31x9cCzsJ7Yu4HKAOWQiwa/w1rhx0\n",
       "uFScRI1qqWH2TbFbtvkwbHRDYc6r1mbXI7FvrbLS49Ua39ETjszxTEHrSpLNG3O3MwtZ5Fvipqf7\n",
       "KdPfkENjLMYg/xmqtecF1uMgu+SYCQkBHSY8+Qz9R3lBEtrpgf/IX1VJtLyL9PAs34Z1q0r69GI9\n",
       "JY/YhuY/AzM+ttUkSlj7We3VnkrQncfKqJ4yJYSLFGegc800KVEKj4VaMJPFOCzfWIf2/FhRLfIL\n",
       "RCxzwoFF1Mzh3E8yRSWS6pktC93h9j4rmUHelv6T0dDmVnOp8WoMphhob13i6iiXEtaMk0wB7LvX\n",
       "uXNfIZKE0tY2R8VD2nnOYxtk/x9CuZlmUYv7diPkOlBDJU/APY9+nMdH9RqfBcJW85hFwf2OSeKI\n",
       "tkUF7WF405DfO3BWCxUYaksfA/xNa/m3HjQlPwYq+34xGnmfrnZSltv1KRpKxj6PrHnob/9mH21z\n",
       "J2Eor+4uQtogt/cS5XNF9gKcFrckOvoyAqmyYbvioPhF/ptdz1ONtgabXHPEv3OELmpGC8F/Za2O\n",
       "6KKQOD57EWejbDm3t7fXQZHdGU1zX+NVBp6p42rm9eY0eDPcEwSpqMcAmcPpvJbZKyKSxGYvZWv6\n",
       "NklalQRmND0Uw1ZFp6oP075DiV6GaP2MQIlc9gJuaZplpow6xzPgC9Zmvn4OBbLY1SbBWkd07KRf\n",
       "GfdLoIpgdcVwYYzfv4+KgQJrz92sJl/tCzb/+b5XX11ibgLZlhecG7WtGxVrr42L38/BltmPJo/L\n",
       "WqllD0L6ov9GoeYbiO9rcox3ZimvSKyqceKEAYzAUdMmdh3J/d8/T/j5i1hBGOoPYM32zjeWTR2S\n",
       "gcKK2+wybOX02i93YXOYZVfVi/j35zYHJFGwKa9n+WNb6I4IK+iQSc6k++HECrm68yiZYwvHD+WR\n",
       "2U/lVxLLElgN0foymuGjwS0HLKKM9bkbv+Z9N/QKRCcUteOyrYgHdsbR0QSj2lpIM8ByLvLDzfjM\n",
       "1VFECisJQMMi20byYMGabyxzubTeaDMxnsKFBnK5WHMdGxyxBGD0dTS5y85E2/HdaC+NwYpB02c7\n",
       "1EqjnCQMt9iTdcW9kY3la8AxEJMFuEGOSIB3f0s+UfCcw7+jv7v/s6q56eNGaKSjONpZQ0dxAxGV\n",
       "bGJRhmcVNI/CLrnbZH/0DePD2W1z25ryvq/1+aymd7mAjXF4PmHKJ5KQ/dcUDzjIpt70uWMMRu5C\n",
       "Kh1+iJv5VmaOOGS9uuK2iA90LOY+4XOWot9f/mIWHBX1YbE1R6/YP1EZa8dsxaZI6Yhy99r/aDiT\n",
       "AhpZzAXX2vOJYshjZe9TyTt3cvTEkFXX8gxyrXl9qaj3Xzy0fBOYRwfz3DUbi9ZG1WjGb2phtEBG\n",
       "Iu+E4StnX6rJXxuRkjOIh0mwY9AwgIvbq786SeeuLdJzmHyoP5uJOdR4ebOiRUmhPQJ5ZP6CN+zj\n",
       "yEsCHF6naT7HGVkj+I+KxB7a/ip5KdnrpyVd3BlZvjLlMgEt9/6ie6/bm0RShlFH/GlVAy/bVE3+\n",
       "Iw4Gn7IBP6Z+r6ZRRzzHcT8ZZjaypFY58uKoFSQqqHQonOHDwe3X9KXPmvRBVcRk6Kjgq59Crn5E\n",
       "p+f04BmYA2zntgOxWjS9u9JhIEhFnGYG21qP2fciPf++Fyf9XSBxNhkhub8xSknPmW4F7C6a8+w5\n",
       "nDBYmUX/bOBOaEmhTNlrALz2HgpCT7/eeQYVzFrs/nh2TwFC3nWPeBWvxAZS653TQEmDKAq7xTyb\n",
       "xxuYvhGScCW383kHoQq/3lYHcgRDtCNvHxiq6rBQhId8N9LccYORcW87RhRV7wFTJRTiYeEEMAYg\n",
       "iENGior/NbA+muRokvNx6A4Zxmyj/ZkyiRh3SScfWG7eayKUl9jM5iEKyHF7nBzacqiLpr2mpbCe\n",
       "hxUUbfTIs+yPLyXE6iYfq9IkcK8kuUz9vYDCIeiGDi7wGVrwcLAskqGM+yL7Z6fWar6qVdo9flLr\n",
       "x7oGG33D3e6PHUwN0ObO67B+ZYmuSNXhzwOLxF+Od7Wt0ZB6oYb5raFtMTh9FEFKhM87V5xUhu06\n",
       "5MPE9Lj0hDh8EYivm+S3XS8xXwUg1vbHosWI2sLNmbFEzCemJ43Am4whNZePXr6J33BWjUGUzImt\n",
       "7hlf6G2fYg65wiJ3BftVthbvyhYxpsrO6TribC9QioAdDd1M9prnF/v8T6UB4Ti33/svjrzQ2/ow\n",
       "a7wKq3SaH7F96zcXiX5LE0zEsH07v5aWuuRvg/T3YnBgaIOGdUkWDNY1J4oxAvvFxWQT+sdaH8Ed\n",
       "BxTtJdn8RyQLkKqjEUxJe1FxZo1Swrs54zgqx1Ab9kW+l3n8Sa3mvwx8pa2sam/l/f3NtsuMR83q\n",
       "ba2jFl0/R8WdiW+iIZIeFEOyA/OSuz7Rk+8em6Z0UI1qBs7ZQVImydNopNSlwNk76dsI2sv3xO9c\n",
       "XU7QaBQJxCSo7J+1MGnmIt8vjBZ7I8KNu21hOJGWgLnZsoLv7kABG9Q5CvFOBlaIar1fKKCZZLU6\n",
       "sJiU4Kk5OW9NwIh7GmEg2zB+yhmhQowMKLu7SCOn8hJ++1672YBpqZPOhqc9wsLUPn40r4caCtM0\n",
       "Q+TGRpUW3rQcE/vhAYpdgmRR53ubMUPIn68c34U3LjGNK1zKnIjTO050/lEhA7X3tfhfwnrWBSuB\n",
       "pRwFWtoznN3JYrriX9vQz9iveC5h68EO3OtSQu4RiFn2Q+woHVkrqZl9sG/3QPlBCpnWUCz7lpy+\n",
       "eonVpXBUD8hqAv5hqIA8onAzqCmN2+nHPtCM3Sb1Sp0S80fSRRgGVgnxb1KxAJlvVtTvjHHplqIs\n",
       "M3wCa26EGlD2hXW1kDHao9+qwchqRJ1htZwPCtckxIFAzNzHy/R+q5GlcTb6uSGQM2ZXpaHTo0FL\n",
       "q6PiGbdRQbJ+ho7HDpgnZXg1QKgIg54iAHun7rQAGe2WeZF2KIMWhth+DiG49sM1gw1+Gi7YEh5a\n",
       "zljtg5rYme90WLQbz27/97viheHHwsLnXWqc0u+oGPd7VL7wMUip43zC7W2iXAeIzCRrbUqfVhn4\n",
       "G58SMM8AFn4E4WZ82oYoOYQasIW0QOtBsMqloz6/ZfSO7dt+iP1O1sF72HD16P/eey9B//2/gVFp\n",
       "blttkZY94hzYBF+Q2YePBwXr/8wMl3MmVYgy0eKXwH4VL21SMCEE477sn7Tl6mQujBc8JRslsPbf\n",
       "JV6utuqY42Xisim4uqrie/rp7l5un7ofr2uWLasBUCyStR4QyUfSyZ/681L2WQq+vda/U+7p2dsJ\n",
       "ErYoYTYB7xYHIpqEAhd+jEUHKIoFc8g8kEtJJFWtO17U+vIjCZPGvWFaMrkOE2qb545/7SXFUKNf\n",
       "HhQ9e3H8dsnKgnrvNTsKlO9rFeD3eo9QNuaKZdynifAbG7WjHGhoz1MtedGvUSuGyTWuG6c9pZST\n",
       "Fsw8QLpgVz1UXVexk4UW4O1SV+eVzEQHm8qPTqtJv0cgKUHxsBKCOA6WVDfGq3Df8m+LXgZR7jPj\n",
       "GphiUSq4n5jIw/KA//tVI00eFG8D9dxa6izsqwNgsfvgh204vSKkTaRm1Fupsam0qrtsUSZ8+scT\n",
       "+BN/v/7/UI286IYiay7Es/U87+FZEk878LmoD+JhgjTpUv/UtxWADZwzq7GsxHSb5aOvb5eL1EIm\n",
       "FOPRxVl015620UDDt/5YcU99JABjbAv8wxenX+gqEeWG1vwyqWV5dJnbPECNiHQhXb/ZbRDH+QVn\n",
       "tZYJk2q7l9QD2WxW2SGs+6eppFS+zmrhRS+2hYidm1pKRbBkgwnvSC8OGq9W/Om6d8wKTD7b5+qd\n",
       "KYV/duoKQnN5CHiGCPyK+A76xMM0N7fjiPHEqjqAyn5Fi3/213r1YuU1u5GG1SPXxeRN09MyRx2A\n",
       "97uKQbT7ADIpbXY9rpyd9Xxxs1pn2p2ZXWZ+qB+Xa5fP/25l6svy6JoTfQxWJByJeNsDVs2r1wAf\n",
       "PCr8k7z2fXKZ2pIrOhDMne89oiGMfSH0UQfZU3VGyKZcGjUAW718JeezTCrt1Fq7q4rtYlJo6w/7\n",
       "SWCxz8Czv0AueYs+T+R9DUD5rpD7xCtVO3mheIAH1/x9d/jsvXvbOkAdrLShEKIX04S4myAi29xi\n",
       "AsoJdHVupjlNen5AykvDLiPR6Ya/QB8wqs7g0mLRxFvBnEedQBmJwfUnZwCHp16KddmC9f7mMMcj\n",
       "e3s9t/rUjE/M9h0Nna/Uwk2JCLoOW1ZLaV9nHGjJ8fFlkXfe7f3ac9sw2eT+UtZZ0x4eeCDS63NB\n",
       "pxk1RUoEyHWC7o9AILdK5D10r0drvygHT15G3txOAG1O3bfhay6ir0SCjhQE+kkZiE3ekdS/uUf1\n",
       "4IxURu0Rra1PrOWFPFWtOjdHXDkHAehEoJbsM4jLPgKoLhyAAA51zJAZRugUlQPlXYOsVusWMave\n",
       "3+ngcC5uuLQIXJ/ZYIinNCAnwPwTx4hEWrEIGw+OJ9RH1DczUXZx+gNA12T2NR+tvT/OeGeDtWCc\n",
       "u41rf+5aJ85fPAMpJcQCQFFaX/noNxwGk9QrYeT7ySIrsJiDPlAhRSBzKsdml2zxL9PYvgO8MP1M\n",
       "fiOVgWbx3R0onGbtmH5MqyXgeQEn9nfvw0QMP3RsJT+AveIfNkhimwE7z/kPcorsgvFqRN0so7OT\n",
       "xM0pyDsNIQojYqWlOM8GVWUdi/Jl0l8ssxetMmpQVKIcxynqlLirxqclqe7rZ+yuw/vcjA6jdKrS\n",
       "tS3/gQW+6GE3GV5k6SDKzmQp1Lumarx8eQd7hTv+KaXeBLnOlXDNs5Wjn6/A1H7hJva/aqyGA+lo\n",
       "yT8BhHAjvbwy5dNmbQOLXCTG75X7uj3WVBgSgWTjMzAregWlatDKFv/NTkBpBK8Nax0Ylr5okq2e\n",
       "S7OTf3igtM/SqdeeMq/ok43DBk2OEwahpgYt5dW7su2Ri1RnU6iTNjOWWW0ACmTm8L/QwAPNAjN+\n",
       "xourwFIaA5f+YoepSqNkd3nAAzl6YWnW6wD/jlwXQNqO3Zgt6K/eQOC+TLv0+vJUtE2hA/JtrSSV\n",
       "jYU9uf/rozUCOXbm67FDthA0LX/XT52KK9cfrbNtQHGXsiZ8Po2UyO3A+IDEWHimxXQe5zDAwGcH\n",
       "c3d6HHgGaqtLtEP6JYsGLWBiSFpBnY9s0aaZkS3nCiwmnATsn1PTy9V8q5dz/YFOhpwiPsKqHOPp\n",
       "+fUoOGHzu72q3IdQ5a+w4Mo2Ou4U84hyoRdjYt27E9YasVk5uup9nt3GrsZf2NRqolER3Ejy0El4\n",
       "Zze670hjLeGFYMsr01Nxlc+qfekQ6Bpad44yWGMXhEa5NsYVbQcFEhNNacHirW5L99zMJkRNZUKk\n",
       "FdDg9MzQXyq8/r0TSfG4t62Gkkk6eEsBPuYpxDPDiOUqFFXeXBkfMEZJriG8wLt8MdinHKAsUZ7I\n",
       "SfaLJwqmu4vPa6SFsFz+W4hDojy3qt0FKq2m6Tu9vo8Uwu2S0kYrUBaOVUGzK3lalkv0YPNec4U0\n",
       "uMz7m1T9+XQ/sjgHSJYpn4PzYJINaxTNAM7Mc0BdOYlR0QB5Mb7TcxwVG8zB7QQSBQAoY5183gCB\n",
       "FFz4pYCm3j6KI8Z+y/MZokkBKB9xE0ljDy3k3ey9Kmt+kZaLvs+HCA/kv6YN0c7FtabxE0bpuzpF\n",
       "sdY9JEB9Gij8dd3btA7A63RtP35rxRkxbqHjglxvLr5JwKMZZJeienrMGhpj8Xcx/HIgsfUdkf37\n",
       "tt6MNmT1ArC+6CLM1fJX3Ec76DiHFmpUj5k3lO6SmT0Gyo4sIOaf7qkhMqmti6lA+y3domrX4nE0\n",
       "b6XUnqKCLNJSy4FH2o2AJvOSbxfYFIP6bO0HiE//qKjd2q78eMbcvxnDGnGMBAzCKSwWjCoZdX/m\n",
       "XbkSLcycl1ka+uU5+hfeAV1gtqHb51LBuOX9V+8zmLnAVoHRUOv5WGs01iUJccPTdXQ6Q2FiJ/TX\n",
       "0rDDfJa8MlkXDba31MMH6Eft1RtczeHK9dbENjaBLGypV1443tTTGG3KiDdsOvmkIxMleQOkzXG0\n",
       "KPo1pnwMIdGz/D3ij+I+q79pYv2hUFD44Q99D/nVQcwaouJ+Leix0Ue/Fj84x2/xebJMpaEMnyfV\n",
       "of6AiIjCNshmF6gOBBHz1Yy/srLspdyt/PhLXqX/sFb6GHZ1r/2z9OQ2R8UbGw/Fkjou3OVXMbWx\n",
       "OeHPZeMleH7bub7Lorx4QqEleKIse9FzCSKPeCU//99wwM5HpniW5LxCn5ykLZgwJ8492+i5Ec5G\n",
       "9EE04KZ2DvJoIkiAGzwwH3kSkMByIVjBpXbHsazR0Z8y8xuaUGxNjDyQZYwC3IzzVlxDqBtOoKB1\n",
       "ypWFWKR7fM8+tr0Zi7dOD+9ER1rXxdohpuZHMDtzg7kT7gcymfD98o0c4JnkjDOMx986xuT7JrE8\n",
       "SAp1NEud1TPYJP2CMx4cQI1rEQ86pvnds/Y5zUjwHG/hiKXh9ZZ4GNjuFSWHivGQ4lBxEnlkhS4f\n",
       "VIjfxUEJTeT76gdXIs+kq4jmLPOAz19TRjcTLlyJjC3yB/galqYPGrBTsAxF221siUoOG1/suBfW\n",
       "jc5bvdIqu3JoBhAwRJj4efICYEJCmBurcImgQcMnWGOh2oxnsFFgS6QZxY3tsWMHteZLWWelHyZI\n",
       "1yxyrKaABckp4hyoWINPLEhMzUmxQfPj42c3rB5Weg5vcAwSzTM0aYVEtvxRC/5nSRK5aFGazyG0\n",
       "KBbQeM7IV/7aUG87eOUjvzyRSHgTNxzEFE+l7QjrBnoxlCoQD2LAE5abOQsd1bME1cxo1Ckx8uuW\n",
       "2NIDKMLEmdWfG2H5mxSSsGvJjl2G98suI/yk89lnptgPyG8alrx9uplGOKm2Pydk/GzP4Wz2+k+D\n",
       "+GTzRBnWhpa60M/63tQUpgWkl63FIO1m6ih3G8BMMUQkKI10mzgt6ZCHX/5vRZoBSeQvx9TPFoZp\n",
       "MF7bIpNvNjSe2Gn38CvJYlY00ctOjuDRfQUdePZ0TxP/onD3P6TT9Z6PF0INh7D1Rj8PlelbL8Pj\n",
       "7VewPunaNXvIEd9jNEgDdzXT3mZ7ygFLf20AfoWstPsJzNlr1KR/20Uy3XOe8sQKvYjtQONWkheo\n",
       "EmEZaWUIOEoZCd/jWKSI8yUSKsx595hPdyo6ukQryi8WjPdMJZIT4l/Qx/t2wKaX5/WB0x7iL4DN\n",
       "1ZyJo6bl2sbnQ7zztY6WsNLk3Z5CaP1oS9JLU94ttd2f9z2vxq/WxxQofMV7T3J1mFDPv6wciKhC\n",
       "i/pn9OccybVTqaEFQbi+Ibh8zhJD28qobMecIXb7mRrJYEvGydLJlqHE5S3F1dDYcDL6mgpUw+XN\n",
       "tB/vsnwWkbsUsT6slJ5MMJbbhCRCD0yUS6NYNGbrOXkT26uTitUIowFdBCujYfRmSsDOlzpsTr8E\n",
       "nmSvbh7I2t6ma00ewK/jgY5fKA17/KkMFLkRyKm9kMpq/o3rZIKEwQS/S79nYXqk4vxcZ8GseNGH\n",
       "Z2fXcogMFWBPsOJdl1ffco5+gaEJfX5SW2A/6As6P+F8+tK0WaIkx4m0GSHlJZv0JcYQtvobyNMF\n",
       "FDQ9V0AARkfqrMxvDTkr6YpTHuT5/zpth9DEkyYTYgcGXonANdBpyeE5dE9czd6PTc/e/39Wv0oS\n",
       "/QB21N3i5YrC1ZEmKvbEmg7gUk0g5szCj8cJxWvqsntA1HCmfj2f4RmhN4FVDvF8gWVZAlrwvBmF\n",
       "R9db92LS/ddJf9zEVVUtGdyp5lYD9p809mjWQMrTty07Q7cg0hMkiHIRhSfsnzQlwMYiujbVg01O\n",
       "Pp/iCnx5cXkizKl0GdnPJdBWTHG4iY5zYKPpptmiDuH1oq4y0BkMh8ILXAtbM95kK0SROJqYgL2N\n",
       "VCzGu3BThzI0CQ0pYy+kj5NguCRREnzHSL7/z//uxGn4fgIZjsKdZlVQ3JhcrLiTJDp4rtyotLR6\n",
       "oRbyuLYkda4axu1Am5UN1CouWyTT9fJErvJ8ft3iu/exeFpQfwnesjh2VXVGqnY0yEt0jCA1CdKF\n",
       "tzOpUYxWd8tI0hyv/vBmhVRzC6JsPpBm53sdRAMR/i/6U7/sZNY3YyvgwsGdIeRmcfj+iAXk2xO+\n",
       "NVvEYhgOnOAwXpxz06Nsq1/78i3qsmtJ4//hv9OO+F+e5lesI7JayVjtUi6v6L7fjr+XxqeYho2W\n",
       "v9JteQoPMvaY5b0pW39W+MtRJmRz4HdJX4zGgZlYc5W3uCko4aH2zfsc+q6hlZRbMVxz0eluLy2g\n",
       "UzLZgKhm9RKHBMgfRyUoU8EL2KhI3bd1edxtfOJT4/lBldaWn+dZNUA4rebE201L5OOyZcIAwA/A\n",
       "6++I9mBUZf8litLtfmOw6/QJKt5TNQWn//WwyMEeAaYVkkYgkQSnjQ0AWG2ZTBvTyqoQ0E2TWuc4\n",
       "ACsQP4p/7PjmVGPhLhPvOS36jjU3mSfO0uLP/FGmpmmQgjMtActcEKM5UVjiJKCuzfl+fxZ+4AGv\n",
       "vAjdC/HAlRSlACdN29RXJ2NkZ9zlaALZ2BGRwwU55F4ZXcNvdbOUwNhogNfYmEEK3on4cSIg/kKX\n",
       "gJJd0jMEWpDB85sMM1wkj2oyv1AQ1dpmzsNjzo9c8WXX4e9deQCnOBxKHx3D6gCervQwWlFCkeT+\n",
       "CnvzX4plHNAd+NrIP0yiuQNei21KGRWTgd5XYxc4jVNwy4Bov7HjvTbxhqMefX3F6zlE9wCFP9oV\n",
       "ohfVlxbCj3IoXxagGRQYEtKoPj8DxzegW0mCrOY2AiENwlkGQ674uxpaSnB85ZGyFnbiuq6v/8iX\n",
       "kQZKj5nM8Y4g7Fo1GSLVMPwNSicNRYte2elsDPEpdaGosB8vJ11b/G9qRjDqjmorYOKe4d1NyZW5\n",
       "HzT+4eO+eDPZy91CD1O3oFDCzeqHNldXmNh3BpxK0R10eczl9uDIfHLz//jg9JSvIlw3asrBn0V3\n",
       "Qca55LC3su+VxqlZE/irx7jupFoRJhVyQBhawQEU7kirgW/SITpdD2dtw2NcciS7hxndKuQt1CEX\n",
       "+DY8cnwFrcBMmxGBAxwIUKcpTVeO2O0u07g7h1VxfSr6Dpyranb+Sx4tWsPxvt5KSpcqkz3F2W50\n",
       "y0emYMRAJmnQEZkux7RN30xqjdoFRua+71qCKR61L/WKoEyDpTeRgD9ARxN1MXjCmsyYOXV+90tH\n",
       "if0ljG4SJMTHzv5Dk+kQRiczBSyTZ3FJG1ElbiGnlTUNjnHJPpu7qozHsCtbidCdxv7bpiOZ9PeE\n",
       "zlPfv9lHvH9sT/TOYpgiXfQuKTl0lENGdAQ7CN6BQ/h6j8mAfY7dC8/7HHIdAjNTtbN9GkImRhSx\n",
       "A0ibtM/0xfw70+zhWhKgiHuuu0HcC3Cj9MzkwUiQm6YlZoUwL/T+mredg105RC6OkCAO3yP3hDKH\n",
       "fJi7yCyYi9jbQ4oKPMD0f1ERu6kUBafKrnn5Rb+Fri97+/a9XuCi0CV6klTS3CdxzGyb+n8J0a5X\n",
       "CKdCbmUlgys23Cg8WmwYbmW+nUm0CmACt/9afhnPX2WtKPiFw3foZPuFAn8h2ZfTc8F6f9Pz9tr/\n",
       "+0fAFdLZev7wy+JJ5+tAMZV2FXo5YdYniYLSjoFvhpwfsR23EhZ+rDYrrMsETpO05vQA0+8f6dkq\n",
       "6xhDUdTmsSA4o5+99kDKdvbYW+HZGAi/w//1LOY27Pg9SGLYPHmKqyMUCVOcw9kw3pZQ1+Wz2O1p\n",
       "ByhfNfaT1MZLgvy7PmwXFT0jOmJUNJvxNsTqaJLGs6XNpfgs2KWV9tYCgs0ctHMK+4BllMRWn0aR\n",
       "Ksxln0nUczmGMrOwWe8mGcDsfhPVnMfSvBv6CpaZiXWxmm6+vEn94+m/gLQK8xn+I6HP7YCg9qBe\n",
       "WgdpsSFwsI9FtvYhe2rjRjhH5pOg87+mSgqFUZUVI6tVMe11/aYXCA7HYjg9qqzBqMq4O2QABdfY\n",
       "0Ej1nMbS/BXamMK80GqiPYn5/rmTEHYH4iE3VkGkAtmLE9zSchat2VhWn1x2sTT0o7icg6iNkPzO\n",
       "ZYZ5zrRW6fZKplGhskcfIHeqhfS8Fa4ZvDTGNAXRmnrd6tFUoo7LAIw1sqV4lKfCp7SjEcs2p5Hp\n",
       "eBurmrf4mov1kcbzxthh/xN6av7ux93rLJhnlD6f6mE4NWtVJIEpxA6HP3rAfmOX1oQS/VhQNe0A\n",
       "FwoJCWc2QBJmbU17NwCydhQMOFUNP1pFNpRt+dQTDl7qQR//rfMThBN6WUN0lU5RA+cqZMIB4GHh\n",
       "5PaAKQDT3PVZJFKEOd1NJIsA1Xk/ajPVqR1jGNSNLTxK3I3H9GC1A8d7NbTvbbntM8cYRWszHlmQ\n",
       "QIoz1sC3VCYG895Hk6uy9jcgax76xz8i2guySncDBXKn3n3ctCc+LmD2k4afbcuEuu+JnVqfqTe5\n",
       "oMW/8KPJIW7Zv3s8AkXYK0IFi4kCI7jBHkDb64+n+wZQ3T12VKy/3oCt94zItv05nYViAY2wCyD5\n",
       "bqwqs7VKJ0/ONgg+DXK9A9B0kQL4j8TRU67uX3Ina8yTFshzUdH+Ltv8VCO/7OY/0ycG/u92Omzh\n",
       "i3/+mTZZjDRIPIzppIGs7hEsda5wY2HRuJiomabOiG0xHGiZvNMA1Hl6cVEixjgvD/Hs74EkIRDd\n",
       "js8EgrjSYiFmCyCWtsyKCvXAinX5LN9CHvhhHMtMGT7g2FqibdPOv+OF/j5ai4/0tI8h8RwSmp8A\n",
       "dogQ3SOF3j0IhFS/ydRFep5iYXsHIaitfrNbXcoIc7c36GYAGjDcCvbSR7ZQjwopU+0Ur+n7quSH\n",
       "tdR4w85WdnuEYC8cvnj1sm3cwjLmo/qfehTHjA+6lwLIkxhHuZeplBuhF1WTH96LqyozXgwg2Ygg\n",
       "30XwS8S02QeeUqW8l7JljDn91YM6CK7/NjzEPH+GkgL8gGc1zOv28bOaTcnvTiBIyxlDcfcxrVt6\n",
       "V42a1HqSqhiltGe3fR2g3vJHsAewqF0nZTm2YfLgwhS5aH5kJr8k+1uiD7igPJc0Yseq/cEUdiON\n",
       "rTiDJZ6DljYTosaZR6fpClsiWt7z0egXRkOqicZH1FgvqX0eaoj+Y0xdGb5eKGKBVbfKOUW/N4Rp\n",
       "DjiGRUfwMFGLDGK6bG66gk6yJWFZk5yrv9izvbghi+JqQDMHnSWiTtbnaUhxwGK+q8KRep3gpsjY\n",
       "gvRtVN/8GmXFQu/n12mQq4WDDlS9ojhobPgWSE8F2D2uiRnuco+n0WaKLe/b4RLxXzTDDUET31K/\n",
       "4VRjqD2K3RE5sH4iJy9IWFFnrDTVaNGZNGPXHa037GkPCYPhPpAcAQUVoqwhini6/+xA7xfbUYlY\n",
       "AJd1Bm1xl6fsZijrKAxRCcDivQ9RbUxwi9I2UHHjm5O41uWxrSnWxPJNa/zb9AJRBcKpuYkcxSBB\n",
       "oQMXKYcuAiCEz+vFnMdLySO4IzzxLd7zbpiN7IkIdChFFkfXdGfS+rKZRz8Qp8XgJt+gOrz/ggGg\n",
       "WUMPbg4+UQN+MpRO3f2wIFdLZq7Pbeqr8r8+v6UjjbOegXfohFBWVTslX+6snCYD3mppL/FwK3yP\n",
       "WoWiWZruSk03s22E/0o0w3Hd4+NrQcHg//4QLkf9onN8x1O2u69vqFv1L6Mp+DUyMdqfw/17uOcd\n",
       "NfJUPk5EWRM4iqi2SD/CbEA72WZlDmqKqoktIIScDxgay0iIEZO2IC+xY8J/Q807a29ivm42yCRF\n",
       "ZZ0GO5IVu+9bSFCygDnWr+8jRHuz72DfZ05NeuaJfche286sCJMKPNj5I/YVn/UYKbdZMf3i/7+s\n",
       "VgUyjgwG22eIFU9/nn8wGVF3JmLLlzr/pGHNEwoyCYYcvBabJbqnRW2AcZg4y2hTxdgDz9c2q8XD\n",
       "LtayxUXLqgnOxN3opsDfybpSAMDo7LxuX99MvNmBcI35/FxG2uvZZ/tbic7aZg6+8l6L9GWyXexN\n",
       "LVi6bQjmF8/sfRaPNsJN2bvfrjkluw3jAg0UHJp3XmfSwy8QTDYx9zmJcqhAXAZkvUHeS9EKqE11\n",
       "m8atK2M2hvxbGG7rEhcfGHKWvJj32MrzaeLEWsa/gvORTFl18rsj7HQoKCA/0t5xBlWwVRDFMOMC\n",
       "drO4T4zOlBUBXgeYTtyrwarvFCLfpkzf4Sd7q4TJDtYOIRiRbmRg5F5pbdQZf0/321qVp3u7e7u0\n",
       "lo1XdSNvrMgemrDQtdEbG5QAyDsKT8QABjZZ5JQAAAMAAAMAAAMAAAMAAAMAAAMAAAMADtkAAApW\n",
       "QZojbEEf/rUqgAABGGYCQA2s+ybAtlAAJMLbTf8ijomWpHm7C4v9kbjYErLJn9HBG/Lr6NAfDJ8Z\n",
       "r/m7smC/I4cWqtEnUnaWv57ujjzyuZ1iiu8TTh+3aUQouc7kDC8P66EwjHQ4t9KaABWr7H11S+Po\n",
       "1RbYgC2auK6fUGoXtOm3jxC3qcwIw1fesW3Xauzb9HqsUdY76WCOPfrLzA0Juahe6gHwqSlBk9hJ\n",
       "Il4aH+zzECbJjvel8rGkEQE+npP4mfXcJU8vSOFNF48jarS/ORxIx81Z1RYbGNpvkZJ5WAMRFHUo\n",
       "UslF/0uYHRce+ZjXFaFa9m+zshtrmUAptcBKoiyxok27YZ7anOg+HYFTMJOaHGCG8VgpPuO8Sj67\n",
       "YmTFBODrPHTiIiGJJKSC/AX8eO4p9YCvIN1z4GqgVTJx5KtNjkQxS/maVrjsm9NSYS36mjdZp4zo\n",
       "hl+kk8hYNv7zxj61cc3Nx+Xs4YyfQfypjJD+CaAZmFw0KYYbwaTdWhypPaeXjuOfw5ZvN/ddZ2Mg\n",
       "gRHVemutmB7lXjrBT8VtPH/1Ww6gu9Lg9ULvOa8E+zsLJOe8nlFA1nDrdRPJq5OgjaAz1HISCDXL\n",
       "ru/gq6B+0coSZctj4ZXEnSOdEW4Dhtla9TnpfI7N8UF6uJ3LeraQs6EWAT5DVYGvO+h1Lvm8t672\n",
       "g1kskd0+9brMAA7y8Y4mBW7S1myhSG1SJICYcQUE447zzRaRLgg2wC468HGxfb5oYXX8JU7u9nDW\n",
       "i5kyPufHvrwWvs/KgVc/tuPyhyvHPsUb0kqhJPs+Boj2ZGgaqRCFAhymYxX4jvQIh5g2XUTqPlxU\n",
       "hpqBN0Fo7P+MUcGy09rfPQppkz6Z35hnwgI02vlaSQdiPiLtAskEHJ43Gnu0tirdnI0HW0s8pxmu\n",
       "BYL0HfCKYKFaawKW9b0fAxp2fgupiGfFK5zwYwZcIwL7c/JtmE8wqxjVrQQVoUQD57AF3MWs6tFt\n",
       "4lxWlbIbFjCGABlK+qaX5L6mT9Zev/XirSBtB2X5MbJ5bbb7UoNXkdMG+Va+JpBu18kNt0NpbhGZ\n",
       "V4QYt2cPEtPIJLTfpFR/3mpBCij+usL7NZFpQjBn3aLs6qrQx9z/1CmdTYYYsZIFtSu6Z+3TmfLH\n",
       "JYXjwotvBh0tTAkn7i6I1Z/Om5fdzjTar0nzLGaAIdZSfEN9qvVa3J37bqOOGBjJ9kMJaVbfUgbu\n",
       "gSTlloS1esXjsbLiqDfBX3J70rtM9Ig0E3hO9DFokqJtMJ7xtaihgAHq6PB6OFvZoyBGZYaj/BcS\n",
       "hMlsQ2f205Z/cA7dNDJWyVdUZz1dLXyHaQLmC3d3YPd5p0liqdYaBKTkKlnOVRV7dxYYtbRKaauZ\n",
       "6SC9zzvc6svCXnerkdlUm6hbKXDgIjRJyFBuToYf8LVFu5jpLF7rSpEnWWBDPl/M5gxpDB4Layfb\n",
       "VWgHx7jnJeaPEOcgc6F3xxV/fX+30o3sgHkQxWrC68ohhqcGJTq7J4K2Yd9ODlQryo1NQX63hNg7\n",
       "qc0bld9fnXvgcEvdJTJA76lp9/ZycOUjeG6SAGf2J+UfCrFAMqGtW65WGlnaDDtt/o4tE1BwjRl0\n",
       "/UhYjD5o11f+esFphy2SLjDYwRogmtBzNm5bOXpMf1hhX4y4LGyFhG8DujsAN9YoEF/e2l3CWl2q\n",
       "8EezjzqZ+tT2H9t8cp2JJY61wo7yHOU5eSZXMM5o3C+pDTVXeJxUyTw7WyhkH/t5F9izI+ozkyc5\n",
       "L00WL6QUJM8E5HBDD3DAB9vpzrOGAiSYJA2MvyCCom+aUXliOJ//HCo5wnVTGXGANSA8vEGNbGP2\n",
       "eV3UFRDe0SjC0QEbgMslSi2mGdJt7G2Rb6TjogOZZ/Ro/EzTH/F4SWwAoIbLzvJtwPaLKqn9cUHn\n",
       "il0lOkLAFZdfSszXTcC6ET4QDpQ24SqZ3JamhTbqxePwl1It5OmIoOJq3Krq6/9ejK8xFUSFw+gF\n",
       "gfyjkRvrPr0M88GX2yFhaYvDnBXWM2cnFaJm63tsBC3KRcDGY8FVMeofYIFj0a6QyfMZYOUqQWrA\n",
       "bCrkW6KH1tzvpw2c83mM210sizPML/O1nosyWTojinFax54x1F8xA53VAAM5YYFmaI+jr1oikbgf\n",
       "hsU2dfZVM8ONUoEwAzBmDZmAvveJeXWUO0PnApr62wjl5oDOFLhvTN0tDU3D1Y9kYfqgj1uKIHE+\n",
       "/cV/MKzKVh5CccUfFNA2H4UF6SBb7qMKvF6LyqrxJGJPYMpP/9+yrQuWT4tSRDuxSUQDq5Q2W1gZ\n",
       "nM6I5MtfkzLUC+VIw+iIOqOf4iyYw0qGoPx+bg8z2mG+szP4Z4oywGS6Nv+zYlMRs/PAvK2ga5yC\n",
       "+GdYKKz86hemG4XQQb5LmEZacxbQE3/ScOQbEd5CzQLLEx6OnLNeFHi40NzYjTcAeZThFYJwbIid\n",
       "kvR+yOBaJpeQWHFJ1PxtHf1SwRO+8I0GeFHtNw9vFvDqZfXQUrSaqyNI89fCiyHHhffK+UqUX6u/\n",
       "h3Svm4Fk0RiYHkENd9yNxrcMqBZPCdgu/PUZaUL0FEvVLH0c2li/jatVUMh+1uADPyhwL1s2GUKm\n",
       "y/KsA38xKTJHVliics1OK7ZOy2dMcs3Nl/zq58eBS5x0OMgy1CMUAAHfedU9rSwptWplVepmqMZl\n",
       "nKtMwkKll8eJjTfQr0Na0+OXwq65DGvjfbsoQsd96knQjAVkhW9ybl15yenAPThuwwvyxfUm5jWZ\n",
       "JTXPEBB60jPQVegMyR4sIrvMPemLFUWGWQrPZxFGPWJQt5nphD/bvNX1QFS98pNW3lru0bi2I+fe\n",
       "/SjyrdIGguWIsr2EpPIN/21eu/N7EwlApAhpxyJw0USy5k/xhrjFpIdh1be2mjCO2+CTnhEYqILI\n",
       "oHMOX7m4EvOm5tSBOLVp5fgnXKoNclr/Qi4YPYC8CJhZkXAE5K9bFwyzCcv/eWMKrxW1GdAutSMd\n",
       "MNvkEl0bOTGcL6f4/tfV7JFao46Vf9SqSRZEEhIhcWFK8kPAV8D6aR5bQHDkgWWWkAY4V3dWW+zM\n",
       "ugC9O0A+Gmnl5ZeppmsiTfPkwjtQS6LPlD2YXeQTjDp8Tf3TKk+Go5A6TAgGH/6sWdJpIXcGBo9Q\n",
       "vqaXn+5pig+rdic45Y2zy3UGIYT/i3S+9a4uC6Au8NGWRwkwPY8X0Pdbmh8Uof9G54eEXSmhiHkM\n",
       "7jkH6C8Xmxz+6dPaH9xqPSTfo64zCASVqyiloevodVpEtKE9U+DxBjUL5s0ZevM3fJW28Qpo6Kmh\n",
       "IYSlxPiRhZrHAL4ga45OoSReB49vazpfoa0xUeQw1Erb6s9/0UyLJmQCbMTA9RSejvMWZ8SRHvgv\n",
       "hypqgwPljgcGTdIyVjKZHVSMXZ3a/MSwwJ6rmJlEdWp84dKZLjwhTDC1oO+6hD/RMKaPbZtu8Gjs\n",
       "M2Y3Qg5cnQHzbj/BPnA0t/y4oz7DbZsQBH19ZFN31pdWzEWdHUGofl2ZI95AxQfyMb45A9b9pb2Q\n",
       "OTDe5ob9uWuK0WoTjqM8xpEPlkMgAImAAAAAeUGeQXiG/wAABiEJmp66d4Cioex5zFkiXQALlBaT\n",
       "ErAi9qY8pd2Mm6qJFk0N063IrID+nAIo6MdBMTvgAAAjJF1Ytr2CoyXQ8n4de4nn8rVtxfIjIxN/\n",
       "dlZ1w310JFf6jarBu3piUt1oz4Vx17deSdmC72io3jgA7oEAAAKPAZ5iakN/AAAGILpMQV2iQh1h\n",
       "HMZZdGxpRj1IASqwrrUpy9isL59ox2JE5x/iFcwSLp7NUkEyGiDIjuIkdh2zjWA1ZdlfayOpGHsZ\n",
       "pxyrXxfImZIthRKVf2Dl3rSfDm9pwvrD4t/egb5DCQTNVB64k7rDzaoZ7rdb7pBWyddciLtn1XGl\n",
       "o+cjcO4q1gn9P0VXSVUv4FnTT/RNF9cttVvKS/G18yhR1BmVwPCsRNePbBxSHUYpFZdm66zPcHaS\n",
       "jjSVuY8UOLQNXlu+IgKpol4FzndUyyrpOvyTPb1/eFVHGJsYYjFsOjbVf7srSqCl/+kzFRSPpsW+\n",
       "Vpi3OWjW/7QhRe6UdC/9B7S5GbF60N9Cg6Y32T2Dz+fDVnfiiH4/3ob9rBjuTwkLswe2krde1uwF\n",
       "9qYch5jAtZ4YUkIoHtkMChb2v9ZqiR/1AwdG1Z/g9MIOhbypBmQ+Ow8y2uppdp3zuPFVV1KLOIck\n",
       "hWrGhK4XB8+G4KpJURirnTArjtnyMSg8O/UFGJB1ujUY+/gb3fnFubhO2G4kJ/UkaXUZH7Cu8QnH\n",
       "SJR6mJn934l6sxtva7Hifx4adokQpiDcktxrUATpYWNZ7lQkPFHcgphfk7K1tTy29eJMeCqw1pXY\n",
       "t7bmgehulgyeeDA+nMXSMRHt19qMucbttnXthWo/PYG5n9YxcM8Ts4CWVqxRBJgxX7l0kkLIlG84\n",
       "tmyXrSUM9OSLsQPvGL11spc+4NWDWKY//DxZrnanN3kR2fhZHVdxp3hUjf/wHsIXkkPBWnOJ/kyW\n",
       "J6WCXDL1/ws5i77yx1V/lLgni8Ou2KzXpgAqkINFC+Oo2NXNvNhtkQeSFN1izcJwvk/X01aCoAE7\n",
       "JFJaS5+7AAA6YAAADiRBmmZJqEFomUwII//+tSqAAAEYccX1ADaTGLY32YGAx0mDQXx3Dw1fh9u/\n",
       "icc+6Ldrz+w3HW1bobAiwkjS1X0992Fer4qm9+L1bfbInPngMU/vlHBoGPxTcgUzsMiy8uUiAfYt\n",
       "M2bnEZsbyiqeTTSegtbBoWHMIkLkvW7hKf5xDeGlk18Jz3Tjy3BvAehmTSZKcsFeztTfxkNVFxth\n",
       "G97+DdgCGInwv6/bVSYk1IOSdPNi8Y0CCBBe1VGP+/LUwC5P5yUzkha9X7sKgOvrkh7OyodqwxJm\n",
       "m98/WiEikBulAznQAz4aeqduOZHvle5yPSGFyfOdP2bQwDXkosA7iQECPdgTQuY465yqUx+6uKlp\n",
       "1AkkTj0Z28ZMvbgkECtNW7fIN9DKRfwGmLWlQjfSMujGX6bYOSskdgQMGrTozsR9Eenal377ajJn\n",
       "sn8Kr9IKj2SaUHglx+McyIsstLfaEj96xOgdNX8X8VSkd7+jSYd0U0Xg60a1X56QU9ySphITKyYa\n",
       "e5qBcnSKuCYGFN/fQw5962kFNJ5EIysTj69PvCKkndKI/Y6wKbRjuesly+Yrlq95yCLvUgtXhDIc\n",
       "sivd4Z6jbK0m1Kt5NyjStEh/McVEgltcR1lufBc+YTQXMPJqk7ali/Aoo426F3MCFGv6tSCT8nZs\n",
       "E2ItWA2EG+Ewc/9aQnIgaCTgVqAu866ncs+BWpDq01t1tbHTQCjgWCsdV6uOZ/WRw2Cy2kw60WFV\n",
       "J8w9JwXB7LmEZdAn5l9hvSdfcS8NwKGE3urDnE8lpn5xxbRW8U19oaD8iejWYJUoz9zvSsrORXkE\n",
       "wrEfqrn3tgKfI6eUNxk9pyDJeIA14b/aQez2ItmYwquQX5l8MRkNe7vzr2wBfBzw85nr6RrlO579\n",
       "GAcDZbe4WOQGWr0ghWcDswDEaMWq3K1rhui3HHjytlt43wSAq7Q8QG7aeflkzgmyfQydvRb4BkuE\n",
       "T+XciMgeGk89GhhnBvxtai1dexElHGHb2NlRsivwywSqtYO1edrTVA/36tp7SKajbJslJwePZ7JG\n",
       "gSnPQItcOQIeGeXm/cAdcC7NckJzp3micMQS07rUv1/4WWzBN3hIveadbIiPS1bj577oBZJ+RHrY\n",
       "lTTN53jkcD9WSuoFBe11f7o436a8fvlphYwGJiXyelwPNMreotIbgMDfQ6JgOAWwaYJA9v8N/l+9\n",
       "drxOnZd0TcB7cIqgwf1bZyucD+sj6OLV3HKfQhlPIvovAZo2tEBmn4Lr8RAlwRWRD9HHz8bts6i4\n",
       "uSFa3P02y5F46udZ1dbKub5ryE31pHjg7yJOM5f51SLPSCDtFq/LOcPqhqGGkq6UoxRBoKkG2wQy\n",
       "+Ife5mn3RURr/OJ2OeTrZ11JbQZpTsEQ2LeGNm2pMCfX7cEEmM/wEhamYs8q729SnV8dPxXU0bb9\n",
       "OUH3Cd7V/NTPRrOWh9HgKmF7oq2TEa7V6bn4vFEPqVvnCt6gCnWwlJkX00erCOlZsR3NRIehNAIW\n",
       "1IhTp8WAs4aWP3Qis2x620KHwNHECgcmde6GRgI9PcP+TUd40TPy88hQcWyYYEaRblk8/nEdNXBy\n",
       "lypXOl8Pwsu/F1S7NU6etJOgnYVMTHaKEOeIizSQ4h1r1BtadZQPl8/x2YV1MPCoZFR2c0bnsAtl\n",
       "B4PZUfHdmAQUsnB6uCJztgmsFY2t7wDiLzY6stcvEOVBujWhCWFB4QkdIkbBiENweXuhy0HD2jpO\n",
       "zLmt0dS6Ihk2sFnkBgrUUbI3//UtVymka0UO6mXuWVoAqxPLX6rfTF1G9gGbLvRBbT8eiNkbXx5O\n",
       "EbyiPPofA6ou+inepuoLvxgbk0IywOrgM7GdZ4pGy9Oh0G1kGlwkUrNNUsrw/ilC9Mo83xn1QLWb\n",
       "hKygipO/Ih1uhCoy48Fs8Hyv7nkbu0fA65s/5AqfVgxvf5uXmHUDLik/2iwCn89rrVOqhXPw9xSx\n",
       "lRO7K8JUAIpjndCSBMsLg9rIsQ2m/w/FwlE/QmU9L/29/Z6MlssjbZJOi3p3M47yl/qXbooaFGxL\n",
       "+5iUDCXMzlVlyF87/DTUzXrGpDDW6/aR2CvoS6u9GTeqodxFjnThenJ+Bi9O0GvoWo3OWTHrQ4sE\n",
       "fGJB1yQ4ryaQiUs/PL/OJr+HKprS0ihQeki6JOgsx4naSLrsVkQ1FDdFtrkZBz36d77GoByksF9+\n",
       "2OS2lb3PV66Dv9b/SGlVg1KZXRMBuPX99/Yv0EyPDCL0SXKpkLx4+rADFCGu4636k+XuGfh/O6yV\n",
       "6bbu1DZPYr+e02fJzSp431XZQBaK3Bde7+BAPtj25BIOBB/ouuyFKQ01NMXvRlTNwb2SyPoaSRha\n",
       "Gbn1H7gfgw/XEfdaFtThUFmzCGaRgz6Ngi5zQLuV2u7FGk5zC730xmWre5/LZnv+gzEduiANBtDB\n",
       "PKn/lZRrZcz4niRcG/FOKYaxf95MSKlv33As2m9eShLX7AY+2KZsAMXKmPhwVIsH2PqgnGn1BHLY\n",
       "/Cb5u3pRt6snY69MhmlTZ2rVs8vBoQ/ZkxuOUdL9IsEUFxuXryO0pLJgEXB4hB41uuZaUx7IJqqB\n",
       "N02+dV/rhQlK3oSJmlYNErfz5bzkFftoCqX79ZXU6K51m9WPJlG21Q37wEg+gMMLrzV0k0M9RoRx\n",
       "XPcwVLVvTCe/+yzX5s52d64j8HRFXFj27eGrIOooL8fftGmsbQ+sX/CLQ2hXt1Enb2alCFbNgak6\n",
       "rytz1pTOBDhDSENfZEMH8wg2Y1ZAresmGAcPBrlZK/bhw2SSjHrN2DT7Mnim64JWUoMDMD6ElAUt\n",
       "pD8iVm7scwpFPdh7vBr+i/PRl8yHrhCbfLX9CHm6ZKzCPcKntWA0g4iyWJE+uvT/hUYm4uTfLkiy\n",
       "+eUg60egHOLXVTychdAqTBwXfN/hOZBkSD+Dxn/2tiGAtNqOU6GBVY+/GtBSYeODjGK5dihT0Z71\n",
       "sh9fIdNdOA/diLJNfHuuriv0uxX3Fr6KIjDLzSzkWRwZAZIc/kERoeQw+E8/WvEAgl5t7LrdddAy\n",
       "9jNx2tVWmAOMV8s5uYjNOGFuHAf12PS2xFg1CO6Iu2wLF0UzgAvDSYZnz/w39QBRxaoP3+NtRkm0\n",
       "MjfxzypHatY/Uaq8HeGC926HzxSZfz/XK62exWv/ZYZCcSROqra/Tov7iQy+5iJ5JKOPYI6zrfsf\n",
       "eaE2vyergu7hag5VGxQbm8b/rT1lhGj2EjxX7Hi9JrqmzBPGoEtvdrI0UI9/xg883f3p/q6D2QJK\n",
       "GXn6H3coRRlpmNkz1pX3ONIglvMFLa7K3ePdq6SLer7c+1c1ivUxkLjh9Vo6c9g2q6Z2DnyyV1B2\n",
       "w63GgUJXm5WMNxjIfzYwQPke9Ryq3ZTv1bL9LFV4OYamfG8bQPyjDDxh4lo7HvO6FKKAX+dDcmD/\n",
       "vMFMx1e1EPn2rRgTnxptI1Rvf5AQqTLrUU27U/0KlvHACAOnakw2YyPqc3QMGGD1QT0/vD+jwLjm\n",
       "OV+9waU0u6DYHM9vnV4TPMYqyKJf8G44dgb3aSIeodB+ouVlVXKC4sgz+GGQ3RHp68KFyJJjbGDm\n",
       "xo+zhx0k0i9t3QBBaWQfjXgt8hiGJbJo93Zp9yY3/IM/Ee0eUYVPCXyloM8aE+zWFkFvHJzQnsP+\n",
       "Mhik7+8Ega0901iDf/uYbGoT1ZqkYY25kW2p0OjVzXY/CwvUmjS4QVGV6mB7VuYTVi3/X1XulZ+J\n",
       "iHPQ6IpXYfW/T8RgU9yID1pQ7m+8lwoQ4d2148QuLfzW3p6JYjkuoX4X+PtqN+QLnvw+AUsPYYWG\n",
       "qG4+sy0XpUCKKL/AUPvTCv7ccAJsnxq7SlutvnSfroSWgMjCmby2rUC79fNBIIa/F/XsdeUDvQYF\n",
       "qHj9QvyPVNAavbSHFeF08Aoe5RADuCgEzBQ9rOIEXHpDExvZ84BVQMNVO1d/VOWnr7kTo7/0NYsQ\n",
       "iRdLsO7EcqtrsFNHJW9cMqwb/XSfinUTH8yoFQcEnxHLqTKWcnqiucxrrB0A/Vy4GbmZ982s2Sg9\n",
       "NqBof6Q83RLcbbvEPMXtbKN8WKENd5TAhafxEorsKrEuu6SmRK3empGzFnfmLWNSGaihcOHkl73V\n",
       "VdnuizPIQkMwhTmMs+go+hk2s47d6BbE+7q1MqA/tiemaMs4IaWlKmbF10w+QxV37CAzDomVCtCm\n",
       "9OF0O+53BtXZ72IOy8RKGzOkPqXCnr2qBnJ85g2hsOtHPsvHt0/EPf1ys06pbAHVBdjTC8Exv5yD\n",
       "W2+9h9/pLOBODBKIS8Dz0eR4qFD0hni910dMv1fUdyS/H57nGY+txsSZADeuS2f/goZPo0qE4cHM\n",
       "34BNtDbnGNxvBuraj6NIgDU8R2Mxj2jqWFVRaXO9dsAJCETYWeADcr4K3sZv1GsLYbYl8uwqEoOX\n",
       "nT83dmDM+cUCsvFAka5yEfXIek4yuvGArErDel9JhrLOfdOqr5EHa5vwwn7rR9al8MPOpY3+mOx4\n",
       "/fxH+v+uatg4eZhW5P50DYxyh/AwORSLHimGvqXv6ojjps9KFdxkJJTD3Y6jUJaCrIkU/RP32NUU\n",
       "F4sQPUSvsIU7fqsXwTjoWPBgL8Hebq3wf+LaY21Sw0FIkd/MbVr1u7xFPRX2H/A7a8YxPfyhc3r9\n",
       "3aSE2ttwn4OcFM3vkyNl29V0zcNopqCJj8yI318FqtbWkNMQ6caIFwS+LrR8fwe8mBOeSqprMpy5\n",
       "LyFfj0LENejvzmWMfSVQpMDJ3aaDQf3brE++E1kGFSqtn2hoCgUBz7EdROb0jBJHIyOqldRVzPFi\n",
       "azSP/uOxxWkE7oWAokJbCB5suljpPEeAJU/rjlG7QfSCthbvcx83cOACbwAAAR1BnoRFESw3/wAA\n",
       "BiABQ1nQYJOJg4z2ked7AAi38BtRQhAJ3lUAAAMBnRUoIcB0o5UQDmMf5VuOZUkh1OGHoQlRuo2j\n",
       "30WaYB9/myC2xoMafLlyRM86UlSjrK//ZYYD7/T7luTaXfdt5zis+D/bfMcMm4hmbtxhAajBCeMq\n",
       "pXdXy6iws86fL/c0h/29FMHuHe4AglFfM7qnAZ+lKoUrPQrVj+2TBhgrGmcy4hoWSn71zhbDYjRZ\n",
       "lV2xp4MPY5hckA9996FuxbIXUifc+bY/Es6p/pxny2XgJTozAHNFZRp6ZtC13roHaZ7LoxEv97op\n",
       "J1801AmJfYFIoMm5UTK3J3YLG0AuDkEub7C5szMSSSEPu9XJQsEf+U1SBwAADjkAAACDAZ6lakN/\n",
       "AAAMQXYD+7Bj6CrzrDRjg204jfU3H06IAJ1qsvH47bAoMzaQPZgesZp6GU8qgDO1kX8e0aYaETYA\n",
       "roOHnVionNYG7cfVrg0d35D1SeqyhQLwMgmWryTk+vZZm65iwK2pOVtolwnQd1+g3Y6lK9/n85Ba\n",
       "AwED59OzH1AAYsEAABKcQZqqSahBbJlMCCH//qpVAAAEZ+aBJOa5gAjFHy/TfiY5LYM2IzaLmGiW\n",
       "D//urlcrSEZWg/gyTslXm9Lo+h2Zo4NqWvjFOil9UzFl6aFntBVSHEGAFIpFAtdDkdnv7zb/xx04\n",
       "ZLJYmMy/E4Ywcneni+neo07P5QtB4E05tnPZMjgaQHjDOo2yIXSM2rvKNno0YX8ij01DyN/dS8SS\n",
       "iOsvDgerC+HMQ6PNW823+q3pD9/FXe58CneTEOoHd1M2QqWZPlLJiUIr+RvbjgdAQeMYS0kk/XLs\n",
       "GxMP28z+f4G0RL7TvTSogK0QQyX687tSaPCyVGTo+ikwl6dNC2zwKx0E/OJjkSpumtDTstt+iXhi\n",
       "1jIb40ixvI3hHkwCuOSiSlFaaZpUetTJYP6amfqiomvYmdJS/rWmQvJVu/BtJdRYfnzbYkG9vxQZ\n",
       "IqAqYofhS4YeR7aThYmloA9J4XeSBdHptRSxcowG1FigKPYakpIay7ekHUDFuRM5GUoa3VltNYiW\n",
       "dIG2ucymEz3vd4Z8HhcPTvgpTHJULNZt94KfpnvUMZ2+LQLytq7QIlYUD0cXepZ9xnxlnbytBntR\n",
       "ekpfyzDhIzV3VfX/MzcfA57JQqCINrkrfY3a8V220/5Vr/VC5EeSkVs1ljR6VEkZHS6bk9O9cOQv\n",
       "TB2Z2gao5TT/An/f4Xkj1O43c9MLK3a+ll4AeMHeSpqBKJaMOwaOI12C4pNWIigGhEbpzouf7BbI\n",
       "HVRLRLFVv7XgBjVtIXj2CkZQIZTZPtxxkGwB6H37QFpwDK3RHv4gkPHsZSIM2i0qKy8iUQaBaX4m\n",
       "urKtEYoG1V6eY9sFfBTxU9oVfKk47X3tYsKmDrQlQsIqQS1ioNDJdOyqYtx03aCOmLBCu2kOZ9O7\n",
       "PUSmAJnFr+g+Dk6BcfhMVBljIU5bYsclKrNn8NZZPyHYZvuB+S5DzFf748k/Lm4FQu05BWiXqqf5\n",
       "8dWpNmpfY8wM9EJve6HkSPO4IE1lbjmPeUULhglYvVMUm9U9HZRZkIqHiIQcyLIXQO7and5CUIN+\n",
       "Jqg8Sl2861YgNtvT+Fy4VJt5+uPKADU+FxsjPWaLi0mL9Sb8TwRpvcnNCbHzaxFXK/pvmNXjgXr1\n",
       "FGWcqxc/QgYOSzFkJjo+/JSmLh/do/kePtUHkk+JxVlTH2WKoO45hpkTZfcq6WIR045zXEwghND2\n",
       "UTMS5CxS5Jl6quvaQQg+yX4uFrBnmtFaLJlywTwNTW44awgxGk3PIG+kDHemdr5oA2x6Iz15xbdm\n",
       "lxSbsw9suARwkLSKCPbC3KG42EgR97qC37A3v6mKmU3NToQrhd5zocz5+1iXy+sVaEQROQzbLofB\n",
       "1Lb8kD7GLG/ExtMPGhVvn05oQxD+aY+H5AG/a6sSGnz3kBoUX5I71OB8izInBCKEbSFECXMeyoDk\n",
       "lm+NL7QwSzS4quf8DtXGIGNhJpoLJNL+W18T1H3B+qud9OptpV32c1HtbQXlKAv6QEH1J626DrUL\n",
       "JAPdSn896xXjZj/CXd8gZPEbNjk1T45kNYFYfEG5mjTsGlz4HImKsLyDmO4Ht8B2+tNI4W1eZTx/\n",
       "nt7H5jFkzBgHEeXKCFrIDZlZ/3BBa+aOfSHN//ArJRADXoqmvJeCTbwGq/HTztBjpK3k63oaU++7\n",
       "ztrzsy91xLASX9F3eWoRx5RRwFKyBxYmVggiyEQJCEznoB2UVKcUdCpcQIagbjkb+LGMgpygJLpf\n",
       "u/MTuybrDCCboi4QYx7DwlmzeFzHGreFIU4JIvAqoCM3hRb1RV5gft8hZ/IqPHONOE0BbCRGHVNK\n",
       "zfC+RXkyDjWV/GQnu4qXehbzBrttQ7Vfou0eKklpBwb2N2otm+QMS6yXYDfMB94hFbqUPd9EtPCS\n",
       "vDutlzyEMHbeN8+DQWGDmTBMIGK4RvOQZoyZ1Of6dJkzjRZPBreQmF1jlXF98lCP/tnJRUaTcSkv\n",
       "E973s4kGKwgxKmoGBW+bM8On2H1LbWP/G50HoMOIzMPezwhh60otyUugssx+To3YYPQQ+OvcQIQQ\n",
       "1oIsho/xFMTI05FhCmrb8guPGtBdlUsUDsj2npo6xzy9ioviX/Hc5+xdZd1bHIq13awDaCGynnyM\n",
       "ZAUxL9zvgTeGof2j1QEccpNmgAF4UB5gz3Rtgm2c6Wia3EsfuYughW0ZCwQuRAqLxxzrErpnJoFO\n",
       "dUfKBFGxFORLthAlpuL4zFlIiqGvYjCDbgujaUJHLOpfOkOzDzzapICOxLuyvxrcgv6LDvsVhfnn\n",
       "Qo1W+tVNRGFiwKsDnyIDiF0glXEsc3z1huxlzvo4IQWa5BwUnqVZUMzSfG9Io58pEtz6Ode1c3my\n",
       "00ob4YPQCrjtood/4J19K42i6IdmNyXV+e4XdPz9qiwDvEIT4/KDy1UdYd+iXEW5eTEf1KksKU/5\n",
       "irZ1tpYDzbXPUswjbaM/JJf/ZrtxVof26ZDpKCEKNN5+f1tevwjrS3HlfIGav7IClvIeFToGDtlt\n",
       "rqzTtse8xCIqFO+tBXj8OfALvkWvQFvvIUpvynuP7Sz9KeB8vI5Hl1O+82FPncfphZtYI9ny+dVO\n",
       "4f4tSkOKtm7WDiFtcYbb4M6OMWw1OeEyv2u+7vcrzAs+7nZAYBkKsdiovnOJ3moRUfwpR73LIRkf\n",
       "HLsoxmL3JMdvOXgKVzcj2XuzUXk+TNms/iaL80KKD/aAEunMYIe8aEjuhhyP3Z96zf0d5XqD/rfi\n",
       "eXOtevUI9LMOYHUmR8uf0MOuiefboAjH4bYhdRMXS+bvK+3dNJJC+woUXSDLh6YlHz/yi94XSpCA\n",
       "9umBnjjHDk1jQSDTWcZZTcq5gi2unAQoxEjlH84NaMBhllJBwYcPnxP//uPPIDXl+Tcm/kgtRFd4\n",
       "mUsivTmO+vR9z3p9/j9mo4KT+kcZjzP6qQ7I+zwHhOW4irHtBl5RVcKM5fS//QweQ+VqwtVYlZZa\n",
       "7paapSmflums+HIWSslSY/prOlAZ01uRCOtR4On0iFGCjHux5PWbbEQjMHqE9KZWETBJfoA4SSpw\n",
       "txcoxXPb1JHpPd8tWtK9fXQITDbkgGAYrtBTiD52CivTkm2yTZyMjSZiV0HfuuR3NwttFPd5SojP\n",
       "sIJMOj3HorKbxmJPGBt5P6W1UZPxe2Xn2rzdzWA9GJe9jB8bc9m6jOhKqmS4s6I7O7bEKwSVGvN9\n",
       "bc8kW080YTWMUDe9LepDywtA6uwzpWg7BM7b+5Lk984DVNPwOKi4RvQ767JZTaFD41Lwjw2RBt5m\n",
       "rRQ32+FrXDzxoGY7Fd59Rgkryr7CXNgtTpA5LP9uFb9RoCS8JcKhYTAUTECsAUVirLieyKTfyhDb\n",
       "uHooJ8S3enMg2UuKTYMB48UdWCNJbnrIfFoaatJ8Y4dp1/3uS48CA9PKNutsIC9eF7MDhrwVl7ul\n",
       "Pvsdj08m6mRrByi2arz1H+o6d2zD11nnNhay1BFrdHNTx933WtBLmVPryVoaHKuogChjT3sxjvGy\n",
       "Fo3dw2ztlry7QNWYXiaf/n/Ep2qgqTkJQTlsc6SLWm/eqCYJoKx5Dgy8QPtrQRNJbbqF7E8FR5yN\n",
       "JQGeEjIa7C3XdSnkFNh90GLjrpLDXy89qsiKffuVm2Lsp7orNVQtTVm31lMSZyevIBG702/pre/b\n",
       "kdwzBmRBLMzx85/jYvKgpEJlGBFEM97vArHXjh1wjagTH/w0I669qW4H2v0L8k6MnVBicUC0s++i\n",
       "MRHLl4FQX5cJTgmgvCBx5QS5frTiXBHd6drvkKZBG9tGR12zopUPIRwG/rhE73tgN8FKrl5DU0tk\n",
       "Uk6P8AAQQoBh/bgAYAXx2L7P2ZNyKJWspNjuxaLzkVZlLABDCW9KGEBBA2qG5nnTeds543PkpBd2\n",
       "qvF+BuRGnGfXILDNUISuYkT2Wvz96/2IwcypH8EV49C0C+oawG/PATy9jhpRxsCKGcZF5pet7EFl\n",
       "spQyHnwa0NfTnADQxeycI9uP8L3LWLkC0H7U+4NzJdkJYc1fwlss1F68owFnl84HDJtEWVH5ptUE\n",
       "plxIJW7c1ivNYiUgVDCBwjGjIrYAVVUHOZhDU5auwDt3Jsclnesm0PybAScetgW5YeQ+jWueRFg+\n",
       "DBiPBzoFv6nlir/sI8kW+NooRgcfPGVeXRXZhsCld0+BpVBnnld97HvpwDG6MCCWBXEfqU36ZdFk\n",
       "apQxtz1rGm+TrNK5lWfwEeQxKFfVgaxHzqRyzmDUOc9jWUtSPLmT82zKIWabAhXxmXgC3faX454e\n",
       "ic5wvNO4aI/zdluZ+qfi7bBbvC5q+vALneu9zrqqb8y6JG9qbLbFHPNyR+4Vym/R/t7Q27XxkQTy\n",
       "g17qSf6soIntF+Seub+oYQtu6K6Ixcy0Fl9ObNOUlvtlYq+JuUJFFpsYgTTfhAPmyPEhkAtLWkv7\n",
       "c7hSytGHW1y+UnHMp982Jr861ZWes97c+K4INTNZlWEdxMeFdtDvuS2lvnLKl+cj89FE2hWwpQWa\n",
       "g6002dA+TaqDH2/biGHi4L9595azDrkVaH8z1Ne7fVKdpIoz+3URu7JLMwIZeaNankruRmzG35xR\n",
       "vfk78HsOJ9w8o3F7qS29+/WYyHkUNo68nXPSBKn1f9peN3g+mtHrxWC3t4iSFqXvx99MN+v7pVwI\n",
       "fiIf6WDWJcQJdINMQ0OqiHcjlzjR0JoG3BgrrikpCdKBZDOm27NU7LVN5i2+Jvmql2a9JXyVPIp9\n",
       "MzaOdHslmxYeDxG05GLIYw05AC+NKQUsSUaSTnuVk3CCGWUg75md9izCW9z1+WN3jdAeBeYcu347\n",
       "MXyYa5++FagWYSt8NelUwGnirE+y32isCYwWgP7XEpjigcH2GiaW5A9V5kCR5ZRNyvzsbWuYWJVu\n",
       "SRHGHlhTfj8hMt3vr2s3Spp0LCaoAJio/yt7tnyZoaQxvIT3yT+UEh5TeZkP2d36v7QJS0jzMAWY\n",
       "mj/5b9lgnZYBKjJSa2NxarFBrG4WvVx+sbQwRQgcGMtM4UMRO3ZP+FNAHQ1d9l7UKfw2R2q5XlGd\n",
       "tHiizGvTBUrcxNwNA3eoPR2vPGVGIgDgWJDaNRQh65YBzMn7XsoO8S/5GVkfi/9d46T1YDNI/wqY\n",
       "Plm+4JWTnDNUpFlrn43ROz1CBSCE9XxbGcEzcBd54lXqD6PL2QHiY8rHAfUreeRLSIKVKpbyDgBT\n",
       "GnPLzpYAik2pKllpvelVt2uqoeyxo4+5sxfdlUBZRhJZb5607mTAa3CLnXUrKGRvxIw+obPIlRLV\n",
       "0cFzL510TLWVMedwZ8UujG3ePMQ2yhpz45dCtJMIvS3TpnZLdQ2/8bQ5UShdj3RYeRI33tGeoUbk\n",
       "9Rm7hZefhnboBpb5MOrMh/9RyQFVOT4MGzeozWBnQ7H/wOBfvdQZhl8ygmoKftrUtOjPBAkyRICP\n",
       "l0zdnhmuU/QHBc78JD8QIL1fCpO9vn5IrQsQzvmuHjuD2feUno3LLc/NM7eSVyr60NLlra9AUgHh\n",
       "pr4PVqbUP0j0qgxppvHAU4MBW45zAcuhMXx7RW6iP2F741vgY2jWz/npjUmhTNb8BeXUreGKYBSO\n",
       "uGqxpGlcZPj2zdYkLAIaz4pPVI6TFv8kH4M15RGkKwpGU2Fptu3JigaD7r2KaZn6YIlwX6u1kfpQ\n",
       "eng1ELIyq8ooS540FSmC87wzmLNQ2k3yJg2IH1/SUI1eJ37SE7uzqRhEEP70Tbf/7BueVKq43Z/I\n",
       "M1/XMTE1cTY+CZ5/0Ulk9GzVmOrml3xwHouNQim2S5RJiIcfgK0oG6lCaRSHvTh3pJEnz9qLLwqs\n",
       "ka9yDEwUfUrI79NvDOXipjlhWmFWP91akXJfW35lIn6qb0xztzKD8eiN7pLFelE/mlkiJyxwbMDN\n",
       "gAeSBlAC2vLjq7jEt6yFUj+arg1qEeR5tyOq9kcXcWS0YnkaL2Jn//U7AKVrOQ/qbwEnw+MTy13s\n",
       "R40mW90IVIlXr9YksWtBj+iPpiw1DxT98H8Jb9/DduCVcHrQfor3QG/YiDMUIxt2RQhjGUWu+5RI\n",
       "6ix0zAyEAuyEkTa1AFGJ+VWjgCCLllkkYZm+wKLEq5y9NmSvvuBFrc82SuZ0/23m1HMuPbNGYGtt\n",
       "AeZ1iCreN6GNz4Ht1a4erHoV6oGhWSpgkCow6fC8FwjVrz+B0Q/KcZ+KLtMOPgB8uD6x2rHYMzs5\n",
       "GRmP//JtiK/8AFLNL+ABdP0oggueILZuomkQljK9Tlq7cPXbLDeclZovqVxfC9dH8w8l6/Xirs9M\n",
       "Q63ZhF0YC2+d2vHCq26g7bwAGOfTa5Fvb+tqBGCiziC65dag1pxPI6HRJudOwQOT+jG+b7maHZb/\n",
       "TckhlAOXMRanyfpJ8ITacIlc5yaQ0N/U4Z0hT76V20B/6jqKXFFl0hUezfGbwAVtAAACD0GeyEUV\n",
       "LDv/AAAKmq9+E/0y3eL62HAABENDjHbSMrorlZbOZNxUTFU8osDQppkmRXfmV24H4YOUFv6x0dlF\n",
       "1Bn16rb+Oqz+u+zIYNh+OF9PYzSAN1BSy3BKdNLqtzIRrIeCPYBujJBQie9svLEXE3XKvenqvDxm\n",
       "vG9HNSfGA7ppAEAdpV691sFGrJEXiia/2p99zg4wZWrFGkNjH9CexnT5m2vz4MWJEkfeLz44Sqt7\n",
       "jOwlfj5mxNQuDuZJsWNIbSqZjIfGUwaPnYfZZoCIa6aV9x+K9O7wK6pwsyJYDdHFPUHVDbwCnjqz\n",
       "L4bPdrGKW6LLXPQKd8Onnsyie5ODw9T2HQkKIjcWhzznsSIZHpHux/GjmrABu1RxWqnXpVdGl48f\n",
       "31GEwRTCIOOMKIHVW5wuBU3WZDDi/LMsffOUXELqd1uST1wqcafuJ5itwR/NyhEr/LuHfR/jr+Tr\n",
       "r9U/PRugc+3R96i1ek/5BVSJPR/VPo6/aCURun6AprFo/+KtfuWlJu7/XF+5eIyyMZqUVGmuT4DN\n",
       "Kg4Vlxa52648W/0N/ceU0j42oAjLQFLIaw1nSg8h4o6290m1UKPODUZJPcNt0ESI+v/kA/HBuoTD\n",
       "Vo8Xi5yID6rpgwP9sf1Bk1bLsqJmVmrj+CYNgnuC6BngHZXQQqkOViXOQj5CnLbXvWwAFXYVlwMs\n",
       "oHBd0NKKAAqYAAABiQGe53RDfwAADTITN22WX0Mi2/pqyf5QUeiQZkfMYDutqI8SB4RvL8nZzCVA\n",
       "B9T2ZNuAv6EQ8roi361I9R2v3VDVpL/BCP+DA2YdrO0oRe7WwzdEyqGkK58opgcgVQr4ZRHX7Hth\n",
       "80aa34ZHYYcZ1EiXC9+sZy9YMUjS7ASiEpsjoQYMTFkJEQcUdZje5Ftj89BTGrRFr5mBnzf/WrCF\n",
       "ywxG2KAYJPqTpEW33Ih0XluFxio1CPEBr1e0bNHK60kCDryFvzFkAR3tgi84rX9m726Uue6i8HTF\n",
       "T0idqsIpxzVbqaq0AiXlQUUmAZZllnSY2hCeqeWaXtmty8Y8wjenOAmiX8Plkqv9HXc10T2eSW+F\n",
       "c8BOsaMBkEwdeBBtHrJDt+w1cwavpn2A7r3h7ZEpPe/5eG1GLfvpoYDk2MeHLx0NOjD7L078O020\n",
       "h8Qnag1PBepKlYVlDPJdpvRxmYVSqffxubuR8zoGlj4a1sjbWcDlUjRuAJi70zGvku+zej0tpi4+\n",
       "3BTp0AAlYAAAAbkBnulqQ38AAA7ZQgOc9aQeGDSJf/whQAmU/NWae/047Cl05UX1ACv7/2+WQ8ht\n",
       "GE7qkfSYPm0kad1D80hSnuQU8whGXcksGABmJvU9zVtXGkKHI512K0lCVxtPpo+BRkfn9nf/H5K/\n",
       "Cpfv2ODxflWJe4Ohrki/ELGChQz7hww16MtOGz6TDY4trrB2UTKyvRMT4dSoNJ7gw4mIb/Qm0Hj8\n",
       "a0jKqt654L9RgpBoafAnvgxdtzQItQEssL+o/BujpAEpY6rUs1q0CWpKHlJcjs32PJFMG64Bgk6G\n",
       "XFQYxAFpev7yhGpF8LlLoeXr3jgKO+UNzeLA5lsI8PopGWBaBmvraNAuasfD3ct/+IXzCG64j2aa\n",
       "H6lroZHGgaEFTQqoRzU+PskHuBQ2OtcL2JFYgKkASagQql/A9xDd1JQ4qOMSvoR1hT1lMm9i6EEM\n",
       "QtrziX4PSAEQlOlIiPtmK/ya6ulZ3eWF9QIw465eDfRBVaJMnEYkDbeRyyJuMKVjgUs3D9H+zntZ\n",
       "G0ptNwEnPuQtjEh3uHldT6k2qIvo3lgeP7LlTnYVVfvS5jDDZQt3dsyPoW9d4xayI1QAQ8EAABJv\n",
       "QZruSahBbJlMCH///qmWAAAVT4VteHqCbY9zuj++QBs0i2iVxZ8oBCVCiSSmqOGKW4Biv+k8DywO\n",
       "AWbPpgnAG2TGQD1C4UT8vTSwgMOgxY7tYSQluqPqFkP0lIu7ex/Xpq3wOvB9YY16gaFyfr9XEH8v\n",
       "gGm3SdZ6hlHSpzKrIlMmYF0xgJm5WKUXwZ/xEqWWUlYZogtjFgMpV0/aLKTIeHMNwYEF4BkMOu7I\n",
       "ktTGSaHNGocWwnfi4YAuoqsfSW14EKrt9CZBdRH5e7MbV7IZLDw4Nz2okT0wSbnzyA0o5sMINi/h\n",
       "h0/vXQYXVRyqtpIl3Yj3IQjB1ozgtlwB1V5VLUXjy6gEpBGvsfsG6MgjB3TlPJ+fjyXawNuMzJxN\n",
       "/HyIg5DY3N6HYdLRN42fl9I2Xp+2FADGLpbscIbigIZowZO/oWQ8OyfWTiatgkBhigRu7kBNlH9J\n",
       "yfW8BTFO0chB+gtTnbnuTp+nDsVgOgDrhuR7erNFyjCBq6Pm9ZXe2FocuXwnmUdStiPtLMsiQKQz\n",
       "Tq+GcPq1U+i+i1pzfvc5ObW8SuFf86d7bxckY2rOGXBZiaQcrAVqjvzY72xnb33/wEe2b45/9RwO\n",
       "JIIQgC210vfqtszJwAB0eH1QQlbHIxOX/CGtw5o2aAn+vIIaXmwXIX3tA+qH8+YYG8b3Ev9BAcM9\n",
       "5RJhP00mpyh/IwXpUmUkyoxMcrSdWjPhpDuQahR1Ngmi5vMV8UFfKet1e7HNBRb15sg1QvaW4+Cv\n",
       "VdjEcdCUspmHpjp0DvHBpeQWIPSSngXz0Chlh0QX+DMc2fTcHLE1A2BgzAlcYp+26wIvMXi4RBuP\n",
       "QQl5V6CYj5ihHKBYteblZdRBCINRNBTwJAwCbuMFAUqplzO/JTkWQsDBMNgJVoKfDpkMMYQG8d6r\n",
       "DKtWUMaIJbjKtOTLo12yCtUxG6PuQ8BNefaC9AgUCZ/SbcA44uhghO9u1m+nfz0G8OrcfIhmsp4t\n",
       "/Z9prwNcKyDMxmb4jX57jL12rtH/Xta2of/FszwI8YsjVC8jzs1dySk8/Da4QaVH6pNKpWk44zre\n",
       "gfS5hDE9STRSGUmeKv0d1+iCndcMMFhxtB1sTFx8oeo2ZGKUtz1r9OVQ+CdgD1OBxwIG9PVngnPs\n",
       "+cQp+6f0Dh1D/4ihQ5t6v/9ItJl79zY2niC1EyVITBcSmHN93b1ed8tv7A8oq8Kf98cAca/83nSB\n",
       "oXI+49r9ouEeTxLKiY1n21b5vHRXUXdd9mhzacIcZEwBDrPw5dstE6XsQPkAJFlw94Iz8FgF5Goj\n",
       "gsf43AQDcUu+vbGl/S0b7VL63ZRS0dHEWjidX09GRTzI0KX+SXfs+h4aMlPX0j9UdMsOWBa5sZ8M\n",
       "x0lBTnuAvNunwbuvBPResKHSlck8JqGLK93lr/HJQ+iy/EEKJvOytjwH6V1lhWTD9mY3O3cYu87z\n",
       "cVl2XMTiYYO3XDR8qWfNNV/r/QXlEewx3cSOKTzulEJXBjHDONXlmQB/ibA3+/3Ta4vQZ94/wYxG\n",
       "vPtEIFLAwAYMWuegI6yYQzMQRrx5Onu/ojuj1WkDjjLygERveWbcK7isT4plIexvDeQO4op6FKYU\n",
       "mAZGzbBASVy/YPsjY+xsweTV5b9f+t1QVoIHw7TDT7WGCrWkFUgrfjYXJ0lAFWmmRg7LOnrn/G9l\n",
       "w/hOqZVL4kyFCbJrt88QBRgE9TH9W1rcE9/HZJSJaLmFNK6cFP9j82gK5VT8Khv+kCmrcJuoCdAR\n",
       "dER3UKKrWY/3GuM5ssMlEwNWGaxOfCkzsBJ0Og8nrOsAz1fyew7JxkZ6kbyF526N/qMsMi12K3Xx\n",
       "/F3NA1H5OzT5fvBZawyAk+t1hurrpbqyBxMXC114UF2puXtqDrRP7ggZyQYrX1Aa9frULwQarLS8\n",
       "HgXmtPI/w3L3P2nyOz0TO9PXvbuA3VN64gD2Y22/UAnTDAscE2rGgPAnZ2U80A8lPO26flslBgYZ\n",
       "GDcdbWf/VCbL+tdeFCrr5puSP+k97gjVU1fsOH7T0LzPN898U5F5Suz2F7YXBAyO2JFJSs9J1N5n\n",
       "MSVv2EGWnBvUr1eL9T1qKurC8gkmp4Towp1nShN3gwmzrO32S8ZQS8mQODw7V7uOCIIAGdZ6biyp\n",
       "0sbtpSMPq7q9qbPtij2AVbEyo9eFqs680M1xgHLtkrFn2zqsJcAhQWOX/N33W4d+giLJU+BJ4rWx\n",
       "CUF1zRZj9s/Z5U1vnQGRPHN3wtpzCyO1f55qkaCkuBz46UPZfE8VwE5REQPrBfDdnpPGFVbkayJO\n",
       "8lxlhxrMc6EWKMrXWfL3LDlsS6uJGq90A5VIptezG5v9WAjasbuzne2B7uWpbq0S6xMoi4h+QxrB\n",
       "hmrVnQuzSukA2QA6b7qZ9j+lsVhC6P5EFmAfpWsJHVhdV8uYysNMimpjXGC70TjejAlGPl9edNNe\n",
       "L7lFNlNTsetZO4k01JQ6hSOzdcatgmU9iPZaKyAH4YmOXeYp+ff/r/Axp/cVcEYWgKoinmWuQI5P\n",
       "F/KuSecfeTtYzo42iugaWVcBe/PrjHmPrRx7wp44vmag0twUS+lVh0yXsaRSmoWAOfme7qIKwtVv\n",
       "vdEKEnJURB/MOrImjzmIlM0i2npjzNc8BB5CzRNTpucw/Ihy8nnz1rK8ysbJUg0DXZB7AsBsuUeY\n",
       "d4a4s/qPJPHnNh5q3fC4GJO52A0c9SL3sDtuprxOYG/E8ESjtkvoB5OUTY9R7Nh0fQz/YLxMTwp9\n",
       "RFRrRUXZUUQgXzjzkCvfSBIGoSBP9hH7hAFfeWYRGSbLTWBQr16bREu0/T/x4zW52dO+bl3gp85V\n",
       "VnRisSSUJZOWbdCPXGNDN/Uyfe+2liV8AohSFw7xu2RzosWwzArK1q7HNd8VDxu0qH87cJQv7I0Y\n",
       "l2hIMBUSo02b9SKhA5IFSoyzc3BWOD9iIGGsHJT2hJ6ZL9JyaLW1tZ/z7myQx4ZPv23Adm6P3bF3\n",
       "s05yZ/x3z14b6ZpE/UZ8Xlii01XglGKcmPWddqXj1EKtI+CH6ZzLhazEM62pyRnVFkS0tErp5z39\n",
       "ZRXeS4HIDvks4k0oRYtaiI6D8v39ml59fyKZRm0tL+H5Q+IK0VJPKkcCwlhZV6H1BjPIIvwXxEZB\n",
       "z2eBht6CGeYRVOigbbFSSWDPmzHtcYaRtOdYvwEoCv8ovJN9OI23ByG2t3fq2KzpojQLsf+nN00j\n",
       "70vPmf2qEalQAVmu/OkZc3GTDVb2lWzKxQXuq8Sp0bPtMUAAdRL6gES6e6xcs9I86xbQan/cKn1r\n",
       "ixTIwlO/wgRvO2vNGR1O442udeBlwmUCf89pwsvDunxkp/O8mXAs3ubMsJ413/i2dsyYOefMWDat\n",
       "raYopkUTGRAYrmzlqksx5w9h34903gcmzdeayKxD+Gao3v3hhOMZTFHE8Fci1gpr40R2w4dAi6ow\n",
       "j1xBzoOS4JHet+QbXGJNx8xICyVUju5SPYnXM2oWYWbeB+oENlhQtGEj8ek47pQl44OkhT/eUDBT\n",
       "ywskg/sMQ6YWTW4tN4qf2JXeRIUtKpomF4hQFXHKRbiOLAr18tpQ/PWudxQS7vZatF+ClSyze5Ar\n",
       "jj1SSzE4Yu4nly40yXjMabjRaORg/Up2K5RuJSYCtCtuK6msNWKNMpae9oReseGjD7nDMEfADErq\n",
       "nI2m1Ac4wljH+Yv7K/2gzw3A0SoTNRegNzEh3c07iTyZsZAINMV6F9IdQ+Hpv62A0LsCWxHkjr8V\n",
       "LvZg9A2z6iXynHtaFfmXfCt4Sa2qZxowyZEvS1v0IwwqIG1GDi7wOEmbZKzkT9eq5/Vzu9beMuAr\n",
       "xin/fUVrX9f+p5lLEtFjcXqwemjE1GwxIUeSf6P0VKXbK55ziAwVrxaaQxLEdkrg11STUMmLdV52\n",
       "rMTG+Y2U37JJ42k97vd2QFCrYnf/ezxs30ndpyzZ3g0JveAmnF2/btphrEFPHCk3Ck5pk6DwL6UC\n",
       "PouJ+nDOChjYqKkCispnxdjP5kbgFy1DJaXqrdg2Q0ghpeEGnsd8RA8zbz+K9ZaE5O8u87HfvjTS\n",
       "kc8GHoiNB4kWWwHeRCenxmGeZxVspN3K7LpamMzUsQ2jHUygxfv2dEihvVx+xP68Wdcyw+PXge9B\n",
       "ZB5+sFd7028N7uV2V1V7chbgeO6D+4DORh4PJ8/vQOLrg1Qe/7oRU7/8kjG4uX512MPcj5xjfkeF\n",
       "B0oIm0fHHnlYeeluBwiSXuGsk0HlJU2QR+MD5C3qz1FrdzgP1l+FS3G+fkh7B9qm5UWefYzsnLpc\n",
       "wGKWBw2b3WcD8XBXpW7BU4/bs8+zJCwwJNOywjrBeC4YNDimhM/KzbYOgD3xy9xkACPcuHFywlRs\n",
       "tr/WsHb72qdLjGQexZ1/cYBIV5yRO6e7LpJRbvc8kTNalQZJ4wHzGTFYZ47dUsJ03dwBL2jyxX0/\n",
       "PX4ZceRbpoLxMI1cFnrMsYyC2p6ibzIWxqjozoCarNyVLFugvFCYvKp59PcRWic5c3vdHZO1OcNW\n",
       "JYDjhh6yrxnJXk5F1SGFQrxshgKtECBpPu8Yh429qzJuIQ9gb9bsV5riOVsb7ql8WuiTyTgb8uyl\n",
       "FR4QnNRkcARLxJ8lEkr8Spc+eufQeW7P2jyp8zp/amjNyspd58A20RawINt0NeEgtZuJUNzbB9oQ\n",
       "1jNBfRAZZMfxsif2iRMGxpooJX8U244HZbOWiKrV/5Zt87RvJ3kmmzp3DL3oxvj5LID73hAWvQfB\n",
       "qNTCOEl6CQdjMfz6mqrGOV56Bm+DSDTOvZRXn9VoUZrLo143eqE7TO+HsI1A2ImwwImKudzlVLun\n",
       "WL3ZBMkJ8ppyzTvhXsOBUs/T/nEIqgZdX7HD1FYGVxxAzVQWWQAfwuh3mnQEVgFH236HikwIG6Ls\n",
       "gPEtC9rYj6vXk0PlZPYNCA8T3McF88EvQB7yzbY42wJ/p4MUMv9YwAQJct17TKG0PSj0l3w731Nv\n",
       "moRa+rgFAKJhSZvByeflb9pn51+TItgAQL0I3rGBFN/P21FMmzlWUusVxvF7867LG+8fcLRRgspG\n",
       "jmqhhoXPy85nYrgUSkNeqJje+HjgPfbQjYfbtBmkIWFRYnAXM4+6QjOsQsUVvxyHHOMz79Ecj4rQ\n",
       "r/y3FtTA3+BYbYtqWTzOPLfEv411ksLF1mo5N+ujjtMMzssVgNBbHh8ApuEEdjIWDb03ULzd+SIP\n",
       "DjopVY3lM1YMu3AKr4Yicym3iBevTLnwkGP4NU5idQdFfJQVZ02iM5Tc2T5UjkEVgWs1MSVSMmmx\n",
       "cPB6gIX/cDgMnziESTh5Kytym2KvKGu/pgl0rIpl2TEK8/bN2BX7sB4TTG6l+bk4hPakPoTHBA7W\n",
       "QS8VUbKOsBlT8HGPFOQNQkAfGuTP4Cy0MxC3QxzAMbyDQ+ps3PDRVPqSBZaZKC2PA3oKu8K+S/Pp\n",
       "/S1FKOXHvlfccXuh3Zg+tTjrTHGq0HBaQnD1vrsJZKNNWpM7joKIHt0OoSJMo4FxB7z2E/OIC5Uv\n",
       "cj+89BQsPGKLruHnhoBe3mHyBnAFisyekeDMbmhgaqMFPYordt2Kp0xf2jl3XXsJ6ic7atVQEiFn\n",
       "YrG5/2E3Yin5GMDQJSQJag3y/Agdfvm9toWNMeEgrz3S2rrhBuQHDgCSzg8KXLmy2IGCnB04BuAg\n",
       "joM5/F99G5Mf8V2e11og+lr5lxq4O0Ps70ITmg1XurRV2PoQISMgoIlm5mUhcuz40PwliQPht0e2\n",
       "eXd9ei/KYv7h1J+l6xEf7sxmO/M1xOe64vBW9xAwA1iGV+mszuA1290m0ac0jlG/DFVin73dcHpH\n",
       "6xOlJVPE9qHTEWeQ9WM2jldJgYfdc8gBUgsCrNHeqmwpQU3zWrAZMttr24N7cNEeR7iYdJnehv0w\n",
       "lA7hTVf9Tp44dK8N/fIRHQBUyMRsrA7WaeTyKuNsmzHYqSz6CZShXs/tiokIOGyIMKI1ddRHLPq+\n",
       "EOq+4f3ndfqJyLAG7nxVsUmkuUBaiGMb6bwTWOtHhi7uD2vdVtkjPsRzpFmhh7/EgijO1X/dzOvp\n",
       "pQfN6yJXdT/mkzWCF2Wqd1ikO5IXxBxeEAgReGN9P7k2m1/zwP6ei+f/Qkf0lA0GTTcmmj7JUhKs\n",
       "2D++OigbBTVHoc5ZJJoGZ1irBjCI2Af4tqnSkITIJr4O9TJaMC0NRpDxGAAggP5Q1jXN6O54hC00\n",
       "+XbctdOz1Xc33b4rn1IWl4q9BKpSLr7B4ysSRMwnKTBpy5U8wnBxLTfD+XTkeKZ89ZBiatzzM4Em\n",
       "zb9+Go2a7hhyNnkCHqQq4CZQoM4UR/WN0qE2XE+fnX9UaR8Yy/nEDTebMANSAAAE20GfDEUVLDv/\n",
       "AAAKmYpuV7QM/T4m76nE9FyAFZ10MCuTuhuQAAB52AH19ewv7XJS6zFdKvNxkJwRz/1kpUxHrWou\n",
       "blnkyFEzl07fszF/RZ9cikGaPR72lAW8I64z2JAjA+PijGyHr+bnUGSxj8rLJg1Fc2zCv6jZWSEC\n",
       "2MAZOe4dnsPkeKhujsO49qM7lFE28OJ4tlhncoH+5/sk7bm5m48LdPfKOKKNlAbgaN0nlr/lRKUj\n",
       "+9pNcX/78DW5eDEodE8s5ArziqADsaSXvd+kHkP04cOz5ifMj6GVHQ8SIxaMvA7deLOmIVDeaKWB\n",
       "3j41KkfK0+bJxmPjR8/S8/6YvxWv2/jD/viLU9ynrEU9+ac2/bTvoQht784z2r2HTZ/91Uvy2nc1\n",
       "Lv+iB78O1JZZ6o2rJQgo2v4aBGqxeKEyZHWiY3F9gf2rYvANW9KfPg6yAc3b6x3qNaNlqM2vF/JX\n",
       "ksO+HGN5rc8wrIPu8+IeIaFl5kjs9LhcRdXg2PeHeADjGWPyDD3AHcFFCJIx1hZZcVd2sIyF2y97\n",
       "6EzDmd0gZURRVx0+Pqv2XohZFdNOJQV5yMBnXpOZbLDOL25PWr1T7mz77KLEyUIdhZaqwMphMh7b\n",
       "5sN6tp+6P9Y21Fouk4opLpvri9LCZI6obcuUXleGzhqP/f7XSl3H/1p3eNG7MQaCTcG8XaI+0gdU\n",
       "yEiIyyoSzIKQn0+d3SK3wo8uorrQzUK03ZBIku3y08OdcDDtRvrrbT9VpZJt+Wt6G4bBlCgUUCQV\n",
       "RnpGHT/xeclDR+GeVleAn55rjYElJBqbk98+cPr2F9l5wElqArBMXL+nLQnC1Z3lNUBfskSucso7\n",
       "gw1UPvhVcYWshgX7GiyI7pequ2MowTOusVpG0+w4qZqUNgjuwrifKRS7mefbZ5JJEnHMzepP/yKa\n",
       "SI2eSpT4FagWf9pv+mzksSQnDHIx0uo9/4sdADTLWbDf0zBXrna6rAyJpfEvtcKsLV9fxGWheeBO\n",
       "tb7hYAcOmyNooWwiUiGHzXzxOeeTgoYP0UDNfz06j83N0qLJRr8yy9qrafBZOYE0a++KcEAzM+as\n",
       "bex5oNCiCgaX3jAeVDQnu/MSsojpvXnOlW8UYr6JwV3MOz5PyTgOtdn40gZAQcU1HiPBvMe9gG5q\n",
       "m1RgqouUo2HP1+iZwZVHVaCZ32ud3U3enbQ4WBNVASLPOV0BP710inTOWufXXxd+GAcrO165XHRP\n",
       "NUjlrXz7rUyeCL1s9+jwEwv+5vkDJrxdYrRvS3vpf7AKd9EoLDCpeO9Vag6K4sBBajFIhxd4Q7Fq\n",
       "OxhKeV2ynUF6XpfmB9x2WbkberNxXzKdLG+IOTYecfL+APRD5NqWlN0H1lxR8wjpDOxbxvuWxI0v\n",
       "tCzuEkrcWcNAVO+oY6JPLaTdhYZlJbkweiWDxYx5e1KUTqbxHNg39GM2rjCGgJXHdns6B0AbJ90R\n",
       "Nj1LPLo99leMsk/Qpas3Ncd5APod0cg/c/l9hAIJcKX+VrQHJABiQieHgC5wyyCp3lzsFDicRMGT\n",
       "q8d5KZYXUeMQn+bKpaBxHGI9Z755hzbZbqOAz3UT8u3B8b+aFhWobpg33ptq6Y7T8IhKKwlBfS2A\n",
       "u8DVo7TKXWO6I5Qd5RvsBZSbo38eFvwCR+tm5Hv5swF+eS6ABxwAAAK9AZ8rdEN/AAAO1ptKqxai\n",
       "rP3lFth5yOnnqEAwPsLRZ94V1xADc/u7XKvvMHWsiOc6KCDHnVP3lBt8BHVTJzqrZM3W9II3jkfO\n",
       "kIxDAX+PBud3KdXSeEdwo0A1euXT+X1H8/Zh9vfBdO9rP8CETZW+YkCAv//wJzcGQWBHMyU2JBwV\n",
       "mPYQD50UNgFN/fIs59wt4BSkG8wP+uW1qzMcUj5iB700ZFl1CuLgHo5qhBT4dggBlI+w9DpVhadA\n",
       "gmbVJCiCP0M2JAw+p5lPou+RjF57OhcYWo31l66QaPg41TumyDYLGy+JMnlsN0N0SEX+rXOykgHo\n",
       "5SrrEsAghZON3cvDFIYkHTvtlPfKYQwnHoWjtnGewuU+eXBvuIdmP7SZ9fDeXJ7EDdrTPbZvnVbK\n",
       "qQmktZC9b4QDN9x/sVRZ88L5zitPWlBISd1dP+GPuLSoTykUHqBPcwH3yqIyaWsfJHMj1xtd7zFk\n",
       "dkjZbBBkE+mgmeLAUdtUbrS3fPCjauHoA8Lrdj4JN7Rq18g46XypPTWj3DpF53gHWhV/zAxMZv3F\n",
       "UVEmCuNA6huPma6WX389SxB4bLjs2BgOQGHaoFYmDjogLmdQFZfn6NbqNpZYnkx2JVUSj33LElk4\n",
       "rr2sam0fNfbgCOaxgWlsAXIuhZOwcB1y8kvgY9VF0uap/6z8Ze4y78Yg7lRJRFL26M2vhx22WaSr\n",
       "IoO/oeNQmrpnBR/hSwuX57cQqU7gluVmgIuTstfuK+/SQ01F8FYn5usP3qBlZTV2aQig/iMdkoF4\n",
       "TVMGs89bCtnTYJRge6Pi4x4oXpDiRvtTGCJjhUhL5/17FsQ0yMgkfaDOO4VW7LzIj+Op1xmzr7oU\n",
       "Q2YvfO5HsHiJQ4LKEPwwXNRJnPyo6rjE5JOnkfyFBIohzPL2+NCurkfT7XccxJTI5OF/uANb7e8A\n",
       "HLEAAAHPAZ8takN/AAAMkXYGZMxoPReGAgBsijpzHkpYmHYS/BAi9SY7li9bDJNQQMVR0ajw0MAj\n",
       "9sEz+4IJ8bDU3GeFYsCOVCMglKjfkvvQUjHBNGfMBFdjfgklW8HCXKdTVWSIAJUdO0lf0oOAxJR9\n",
       "ekMOZrbeCO1yeLOMCkptlbObHm/JW2rGR9KQsce4jgx6KEXr3dXI3Ipr5QlZsJoX03fYOhhR+rug\n",
       "Dp7pjL9ygZ0URM0X9PLL64UQf6Um+0390XNF5AJfxQCg0TqmqtYp2R38gKVJJStFJKWB8d5pC70Q\n",
       "TBt90wBlbGc5sNHvz6mF81DComXr9WpZ83dDKeo1BxIZNgmnt4B4rRIwuTzY3K7tXnadLo6l1+w1\n",
       "f3p6n3kGU4XeXBnMeOxcXU4OgRSANB8DPnnBzJLk0L9ArzaVKc+Zgn12953/v6Z48zd3SVZJhGWX\n",
       "nk8oIMp+uDJuJK+FCZAy+Iu8exGIP5RiIG+0kGzwIf4Y98qA7a6AVIV1mlnCtkUZ0H2IffhLjG9O\n",
       "5xHWPnpliyCYryLTh8O+aXEDD1ivAwPZZGCC0qFbJhs/UhgxWcWsf0QQctZwORztRtckk5c5YCBq\n",
       "Jnqgh2YAiYJSUQAccQAABdZBmy9JqEFsmUwIf//+qZYAAAMBGFm7RMNvMCsXgBVpcLAaiIpAqZgD\n",
       "YartAn2h34vr4dediX+Y3ebi6oWY//HsxuX+MlSVLIQmiV4ByaD17YEHKPXRhKw9jDDcu+08Obel\n",
       "bhx9ahrtbhduYKNcOpg9TeYy7613ji5EUthQnfPYR8GxbdT3K7Qbd0lJA/Dj0vmzu2K2Y2YNfotc\n",
       "eGThG+DPhWdwcMYRni7ZF/OrhtiYYhcuzkA84WxjgBjA5H6tPcOD1g61yPp9MnnTtZwSlm8e9d2X\n",
       "i7cyUtFdDSmW/LApU7BaYJ3zKmrk76G05WToU47Fiyv7vDshBEGCYHdRA2Mqp6qcM2+UjwOLYCaZ\n",
       "pVH2gfm0vLj6A1z+WlMQIDBREoD/to/12bQ+qLAttBf/uTNrg91WpQSV2PUIVzs3l/rg9AU1/FLT\n",
       "je3rb1+g0ye6uherpT0VP1rbnmXtn49Rf+968+rR0FNz/JMggGpCVsIRWFdTAVh68zdTK6CucF2X\n",
       "U5slBjAthJEW7ZE2yT9UO+47eESYLy6t+XLcjZmeh3sBJca1dXqU1+U4fM9FnAbjDlm7S0Gruihj\n",
       "8tbm8TyJjGs5Y1pQUh/LNCPQxHm9KR2uutXrdrX8FIiPyQdRpgmdpCkzFEUwypCfeUzgGzx/t/si\n",
       "UPMk9qNfG0/qB8cFVwxpyJeU4zoRuFdzPJl56Vbo09YH3qyBCzbuZIosKBbpXYklAQGQBcnFljVY\n",
       "wTgu2p4O27qiwLHMD22m5UiKnPpIh1FeLtsylFq0XrVdGWLUEoJzKFu8+O1zeK5DSEKI5kw7n3At\n",
       "z4C+93rAZvhUiqEgdB55fTTRynOdNJBQ7pbuxgD07CP4yO8Zfe69bszvxskrgcAMAPOTX623pit3\n",
       "wagX/P+IfIDf3ddKdDHnZpKT8I33gjRdL8RXdTw724BUGZqQZ4PMNMlOB42tBOEItwsv51zbEXvG\n",
       "HMg2KuYVVxfjv8+apso+R7BtC3/OXr1hC49Oy7IJWB8nQDDf64BKbD2nQDqZjv7RJrkGAlyC5XpZ\n",
       "VXZCTWw+AaAWji3x7gfXUutILbPYwa2UDjR6LlJGo28ohY9Iq93TY5nS9NkkyEut2It4Xny9aCWA\n",
       "EYXaUSIAZX5PdY6K4owrcJ2FjyKDKNMbaCA8Y0p5xtqL54sIjPEj7VWR26da8eFRCDjcTCMqWun9\n",
       "K2Fv1iQ13QXrI2mVYM4lNREXSAAPCxKkGlcmPO5uoaza0kV2L8SK4xCF6HL8wO80dB6w0nwmFp52\n",
       "6uwgsJTvFbth0xe+GKg5Yq7gYWLLszHsGhja9Cj1igDPlQVFN18i9PDZ7yeT2o3ZrWvjD4xR0daT\n",
       "KpB392p1+miVIGY/EyFI5zfskh1zwg5LI0qCOteG6hQ89z374uwGAe4N+IHZNUGuK0K73PLAb8PI\n",
       "/SSBd0ysLCbO98pMd2Cu747qhP/RlDr/G0QoIuunOIVofl/MSkmG0mQhF0dkU2bQ2duytxjZRNwI\n",
       "seCH8Z+sngCGfyoliqw75XBq2bR1wdbZyuxBvgTaYU4/LRAXO0tLU9xiERuz0Kbv0huI23evN82M\n",
       "MS506vGR7x2SjOlvn5CDOlYnfxIzGRgp2DlLnXyvhFKU8lrbaPUpZEmuMGnX/aZeUcr2bibABVNi\n",
       "C4DlMsIspJ52sJ1qfqIWruWiLzVwphXPK6xquLFd+oTqheu/avT9sTif7hYLOZaRxtv+0hSRJnVB\n",
       "ntK0qz7f8Kkl4KgtGNYgjGsrHjDrXs8jhDhz0HOo733NSxVlFCm8iRX6nd41++tQap1TVKATfVTm\n",
       "K69HpJ40bNrJLJYjCS65BkrQ9Up2LsaXoV2dEWr2GEaGvDupaRUulxXHDZlDKPedh4dsmSrmmHmu\n",
       "3SoILqkF2LNKF5Ua89QCoPPJtraYAEciEbcY+INKx+l05rLQmucmaJPvWSmezIQAhNgYCFqkjQYr\n",
       "yx8IgWl5UoSlKtQzWYVTe74hVqfgccXbvwaAIeEAAAI0QZtQSeEKUmUwIf/+qZYAAAMAMpL3wAbl\n",
       "fBCfvCgnZOckvTcBWCxspjWZpKbPF146KGA5XP1MZIPgbhj93oUZuZ+DWp7cro4gjAOzE+WGoBk/\n",
       "AskN+REsAtT/HpUXfANjSD8/rMC+8/dEMEiRNFaf6mNAQpByRtJjpbl9HsxtdS/h+dqIKELhy2tB\n",
       "wrBErvfTo+VJQnt1aAvrR4gFW1EhTG48oHYsxVh8bSeeSjjWhRx3Ozxap85dOgu4rmNZxOmlP5kW\n",
       "Jeix2df1YfUD6d8vMMP40OYear0F5JIylAAS79scyq2fTu4qqt4S4Dmhqs3z1YAPhll2jXZyDd6r\n",
       "mTPY4AqpOz4ZdcA/lMASQwSh94IkXdHG+hJ1AnxmfwEhdv0Nb9YWt68zj7KFRXBmekDsibf1buoo\n",
       "UCAzQrTBOXw5UjUKGrNszTa8TLi6MFhsZaWsVwK6yyY5byzzAAS2WGZsvqnUlrve6GIPt8FQcxsr\n",
       "6/pJQc9xajVAVWWRKZGIQSGZ5+aBUuXtBoHLDJPV9rv/eIBOO8g+6KTLydNBQ2y8OlKxmRBL3KwQ\n",
       "Bp44lhy/ji10PLySamwxTfNfI4JUzGdHmFMVmtkWUrmfBu/FmJ3xabjTyfI+0Lurz1gGCijKmqB2\n",
       "rh9XgzyMLWjIQ8GZn+JWLXAJOG9VWPe/0tvHkPQokDZflDLB+lM74IJWqKmmGC7KEZyuQ9Jl3Z/h\n",
       "1R613eOIUcJdaderdNQFVyQ4gvDINyfEiAGLAAAHN0Gbc0nhDomUwIb//qeEAAADAnvLmgAEqnxk\n",
       "a0D92LWgGVbUf3qk9SjsSxQciCvJ34USnh/kkGXLRjV0g7chvRGOdLZV/ic5Sz4B+GQ3oe7FgMKM\n",
       "qp9G1pKVNTOLGzP+orghH4JslSbmesASv+E4ZMzE1x5OKhivKm/nhAd8m2JRgDYKbjiDn7LsOtyG\n",
       "YGDFBvmaIg8zZ5qsWozUNLswtM5lLhaaR7x0NBmKEN7qnNbS/Ask+Yp2+WVpveGQtIourvPARTMe\n",
       "UNkTDAmT2AixOFRlsTGg0gjVnRP8f8oNAN1bUg/dnYDDOMCK/U9fGmfNC7XGIRM4ADLoregFUR6t\n",
       "c1VvCuqhHjXIYKqKigJyIlqRhR22HnUTu2BhvuUxhv6g6/x59+vNIjjXf9SIYE3Ns4cdizmOiumY\n",
       "2XRkXQVh1PQkHVk4c4/z1NqWFYzi55978dUwn0h16sTtqSO9npmpV7OwnDKAmoLiB480GUcPbdDC\n",
       "FvnQKwkxs9CteOOHgPNsZl2eJtM0xe4QqAp/r+JcFixEbuU+rgIjRRDOcAx8ZrN9VFZWJqGy90uY\n",
       "T1QYQBtqJQBMEsJIyLpxmEMf8Oc/ttlgrMfp7yHIZuPH1v8dd1OThTSWqG+I+OgjcaI/NtAdK741\n",
       "6KH4s3suNwZ5hGo1BCnQ/3oWqql+vOeNd3Qcsed1ZuopddLCpAIxSokz9bb1SUJEtX2UHaXEikhf\n",
       "ThhhLPNk/iKBakbiemwHE25f1wjT9f0EdkPQU6kPbvNqKNTNoDQZia209/DFiMHYm7KAIXfytBkN\n",
       "omb8dDzrgVDsCGAIGBzmH21OZWHEhSUO/9xEtMPgQZEgmlvvZ9IgELtSBRiGeZ4COQpgeJrX3NDe\n",
       "Du6W3IqM1zbisA3zFRe16xJQjGADJkkl6F0QR3w0xhKLRetk9zwzhUJ31Nph9DgKDl3hSKupTH20\n",
       "oQUjDRNrKDYfdn9V8sVWwLDzmx/KftgvhwSRzf8WFtx7LSdcfsSR+YYDxmfZB4EiGK3arenpkBLL\n",
       "dF7zFH2punupGyqB3NLvC3SW1j24VuC/Y2Y8bGQNSRQ1Bb7tV6xzYJJQm/QvXmgjkbVtVn/SE5rw\n",
       "5/8IR11usY48nrbUHZZ/HE5w4+JSnfLV8UvTrhTST30SHpKjPX0fFdcUmdrXCEooLWNZ/1fVcg7S\n",
       "KWvehh7i0POlo/NwvS7ZE+vECyfKVYf3Mkn0SOhELhhP3o7w7VuxAl7B0e3Lt/53H5woOayna+0M\n",
       "xY4F4SUXZXyptVNygbbrj8DaIKWinlRrrxeBW1oDEWM3bL5FegwO67fcYf90sjlzaKqG1guYsDc4\n",
       "z9QW+HYDJPSRgeIcBzig6Bjj/9C9vzMEKKM1w9rNRmdKvODRiXnl9TBLde2G4T7DcduNEcPjX1m3\n",
       "CqsTlXtLJZPKJiHWDgf2ZnUzzrD5bl1muQOyEq5Ll6YCvyTvThhm6aFLo3USmdu+5Ze/lWKkny/N\n",
       "V+HLFdcYAuQIg5gEP1MoZqmbQgRPvyS4TW89pvpSnea31YW32jbrv7vuSVpfjEZDtavjmWsvB0Xe\n",
       "niPupQbK2JaxwyEtqV7v3LmaEqIn2bRh2jaGI9pu/5aN4fyzBfseleO3fru+RK6+c03QFyW5pUeP\n",
       "ypsH5g+g80BU/AWmg1IqaNCdNtz4fKk3JScsJfk6kDPV33XdKfjVwQnRVbesWjsqIhiX4GHKpj3E\n",
       "NQ7mAADrIueJCepTbSaVP54+ePHySF+b0S5cpk2FKkyjxTLp5flcT3WqYEIY431tCBZiqSATwgam\n",
       "px++V/nHLo2/ZfwHGtpnlXbhjESs+/oI6/nt+sHpuKeQDmDi1qxmpLvgj55iDt7xjE9LpBwsYFTk\n",
       "DXukpod+UzwXlIyj/Wv5KPc7k5mww3Uxuh3e1IHkaFamvwvoOXpaqZ2rEkHHa2SIOTrn+I4juE9Q\n",
       "siou/2YX6hY6Xp8uKjIZE14wb2jozejTf9R1xpC94DdX+zcQYM2LDiS+X7Y0RK1F+V2WZeH1ym3f\n",
       "mXtVkKnLr5v7Ntq1OtIt1S9lX+E1WECoOsCmHjQlAdAvtGeQBZZOFNN9V2sXukWj5k0OB7BLAJJM\n",
       "X9FjLOqYSfYpdljA93XIwhA8gkczWF2poHy5Dzk0PxJZ5aovyz65VLovhLMNmixhle2couxjypuk\n",
       "jfMFO28cOXzMEz6E69V7pNVA7G0pPYVnpOGlYeOB17K55XPRqa1nNJCsHd7b0Sy2he3f6gkODwfw\n",
       "qr2I5/4NVrKxyLnE9LtCnOszVJ95XYkr6xqiMdAOPak/slI3uIlOX6mzobBcAjwRj+5rBFqpfgCe\n",
       "eDFa0Im1x1U1r5QK5bTHhmBHtx2iLSJw1WhGyazvGAp8ur6E1lT44HgnjVJmIbwL2XIwGy8OWbom\n",
       "hRlgInnhJ30y8e8SRa2p54MtwdBzIAGPffyf+VonTRdy6aCM4CRIp+m2iiyFORkAGMlOeAEDAAAB\n",
       "E0GfkUURPDf/AAAMkhGEdwnH6zOQYkYsnDUWAAADAA2EBdqVYAeV5JIqO9Xmr8e2rUn1RLi+UhH2\n",
       "IaDerGEAQ/ry865P6fvRwVy/nBI6WfJgWzXdpdt3jUCKtxgLDiRIVoakvrfls/Ruakxn3HXRftEJ\n",
       "b6JXNlQkw6rb4TuYh9YecCLWWgFabMbN2qKkzFp07TFrX04msc4i57lxnY2fE8hFmRb0gWWqT/Zk\n",
       "DRx6twQ2a6/0OL335648ypUcanM3d0g/cB3ePRlYNhtjxcOtnQVA6aIVmEyy14jcOY7/lbwb7FLD\n",
       "fiV8EvaLvE0/bSAHZxu6NpIhT1rs2PbSiu60E6dh9HLv0Kbe91eXsnwXXpA0AB4xAAABxwGfsmpD\n",
       "fwAADJF2CWu4e/MNa6XiAGrgSte+XiS2AUUAgtpW/CewT6YGb9R7amDf9AnIUoGvQONOgAW3hTEM\n",
       "UiauK7LnNkH11nQsQ2if5bl5naz1bMZao/GEqNAF0TlsjakoJ6+os12Owj175aFyjwCvK4sx3H8f\n",
       "TaCGfn1nLLY4pXugptJmFOKu7CxI/1zma1WDYB3uNC4Vp5a3jk3fQGTNCEwSEiikJ/DlSGAEr7Bw\n",
       "c1gMOTh8j+jBLCaySZdLhWeG1AsMW3niX4xC3HP/ufT1zCB2k0+5AcZsB3TUB0H5P3mhUF5pfrjI\n",
       "/syHUeesF6ilmyvkjTEO5xMLURx5BifDQbAxhdITlLkSa6uGlKjYzSozUVH/wsvC8erSHe92lreS\n",
       "pRkVi3AqX+gz+cv0iqpdUBY4pMFEFY1wxihyswnSnbAdkYerqE01c0eGapXMeXbt+oHULX1iDCwy\n",
       "hA7lFMWJuoJCR9NxZsTGaS8J/dCRJA2H9jFETFabiHa5GRxY/B0kpRY+sjW3VqJYZbcUozO+JJU8\n",
       "jit2uq4g3veog89n5udsM2LIG+7k5cb3Dht8+kqswbKuFZJ4Yo7xfKZ7l3wEU+UvgAmYAAAEAm1v\n",
       "b3YAAABsbXZoZAAAAAAAAAAAAAAAAAAAA+gAAAfQAAEAAAEAAAAAAAAAAAAAAAABAAAAAAAAAAAA\n",
       "AAAAAAAAAQAAAAAAAAAAAAAAAAAAQAAAAAAAAAAAAAAAAAAAAAAAAAAAAAAAAAAAAAAAAAIAAAMs\n",
       "dHJhawAAAFx0a2hkAAAAAwAAAAAAAAAAAAAAAQAAAAAAAAfQAAAAAAAAAAAAAAAAAAAAAAABAAAA\n",
       "AAAAAAAAAAAAAAAAAQAAAAAAAAAAAAAAAAAAQAAAAAJAAAACQAAAAAAAJGVkdHMAAAAcZWxzdAAA\n",
       "AAAAAAABAAAH0AAACAAAAQAAAAACpG1kaWEAAAAgbWRoZAAAAAAAAAAAAAAAAAAAKAAAAFAAVcQA\n",
       "AAAAAC1oZGxyAAAAAAAAAAB2aWRlAAAAAAAAAAAAAAAAVmlkZW9IYW5kbGVyAAAAAk9taW5mAAAA\n",
       "FHZtaGQAAAABAAAAAAAAAAAAAAAkZGluZgAAABxkcmVmAAAAAAAAAAEAAAAMdXJsIAAAAAEAAAIP\n",
       "c3RibAAAALdzdHNkAAAAAAAAAAEAAACnYXZjMQAAAAAAAAABAAAAAAAAAAAAAAAAAAAAAAJAAkAA\n",
       "SAAAAEgAAAAAAAAAAQAAAAAAAAAAAAAAAAAAAAAAAAAAAAAAAAAAAAAAAAAAABj//wAAADVhdmND\n",
       "AWQAFv/hABhnZAAWrNlAkBJoQAAAAwBAAAAFA8WLZYABAAZo6+PLIsD9+PgAAAAAHHV1aWRraEDy\n",
       "XyRPxbo5pRvPAyPzAAAAAAAAABhzdHRzAAAAAAAAAAEAAAAUAAAEAAAAABRzdHNzAAAAAAAAAAEA\n",
       "AAABAAAAkGN0dHMAAAAAAAAAEAAAAAEAAAgAAAAAAQAAEAAAAAACAAAEAAAAAAEAABAAAAAAAgAA\n",
       "BAAAAAABAAAUAAAAAAEAAAgAAAAAAQAAAAAAAAABAAAEAAAAAAEAABQAAAAAAQAACAAAAAABAAAA\n",
       "AAAAAAEAAAQAAAAAAgAACAAAAAABAAAQAAAAAAIAAAQAAAAAHHN0c2MAAAAAAAAAAQAAAAEAAAAU\n",
       "AAAAAQAAAGRzdHN6AAAAAAAAAAAAAAAUAAA4WgAACloAAAB9AAACkwAADigAAAEhAAAAhwAAEqAA\n",
       "AAITAAABjQAAAb0AABJzAAAE3wAAAsEAAAHTAAAF2gAAAjgAAAc7AAABFwAAAcsAAAAUc3RjbwAA\n",
       "AAAAAAABAAAAMAAAAGJ1ZHRhAAAAWm1ldGEAAAAAAAAAIWhkbHIAAAAAAAAAAG1kaXJhcHBsAAAA\n",
       "AAAAAAAAAAAALWlsc3QAAAAlqXRvbwAAAB1kYXRhAAAAAQAAAABMYXZmNTguNzcuMTAw\n",
       "\">\n",
       "  Your browser does not support the video tag.\n",
       "</video>"
      ],
      "text/plain": [
       "<IPython.core.display.HTML object>"
      ]
     },
     "execution_count": 96,
     "metadata": {},
     "output_type": "execute_result"
    }
   ],
   "source": [
    "HTML(anim.to_html5_video())"
   ]
  },
  {
   "cell_type": "code",
   "execution_count": 225,
   "metadata": {},
   "outputs": [
    {
     "data": {
      "text/plain": [
       "8"
      ]
     },
     "execution_count": 225,
     "metadata": {},
     "output_type": "execute_result"
    },
    {
     "data": {
      "image/png": "[encoded data removed]",
      "text/plain": [
       "<Figure size 432x432 with 1 Axes>"
      ]
     },
     "metadata": {},
     "output_type": "display_data"
    }
   ],
   "source": [
    "from queue import Queue\n",
    "\n",
    "shape = (image_array[0].shape[0], image_array[0].shape[1])\n",
    "categorize_matrix = np.full(shape, -1)\n",
    "\n",
    "def get_adjacent(x, y, shape):\n",
    "    result = []\n",
    "    if x-1 >= 0:\n",
    "        result.append((x-1,y))\n",
    "    if x+1 < shape[0]:\n",
    "        result.append((x+1,y))\n",
    "    if y-1 >= 0:\n",
    "        result.append((x,y-1))\n",
    "    if y+1 < shape[1]:\n",
    "        result.append((x,y+1))\n",
    "    return result\n",
    "\n",
    "\n",
    "def bfs_fill(start_x, start_y, cat_matrix, heat_mask, cat_value):\n",
    "    q = Queue()\n",
    "    value = heat_mask[start_x][start_y]\n",
    "    cat_matrix[start_x][start_y] = cat_value\n",
    "    q.put((start_x, start_y))\n",
    "    \n",
    "    while not q.empty():\n",
    "        (x,y) = q.get()\n",
    "        adjacent_array = get_adjacent(x, y, cat_matrix.shape)\n",
    "        for (ad_x, ad_y) in adjacent_array:\n",
    "            if cat_matrix[ad_x][ad_y] == -1 and heat_mask[ad_x][ad_y] == value:\n",
    "                cat_matrix[ad_x][ad_y] = cat_value\n",
    "                q.put((ad_x, ad_y))\n",
    "    \n",
    "cat_value = 0\n",
    "for x in range(shape[0]):\n",
    "    for y in range(shape[1]):\n",
    "        if categorize_matrix[x][y] == -1:\n",
    "            bfs_fill(x, y, categorize_matrix, line_data, cat_value)\n",
    "            cat_value += 1\n",
    "            \n",
    "categorize_matrix = categorize_matrix.astype(int)\n",
    "\n",
    "x = [x for (x,y) in visual_stimulus_data_matrix[0][0]]\n",
    "y = [y for (x,y) in visual_stimulus_data_matrix[0][0]]\n",
    "\n",
    "cats = [int(categorize_matrix[y,x]) for (x,y) in visual_stimulus_data_matrix[0][0]]\n",
    "classes = [str(idx) for idx in range(cat_value)]\n",
    "classes = [classes[idx] for idx in cats]\n",
    "\n",
    "val = [str(idx) for idx in range(cat_value)]\n",
    "for value in classes:\n",
    "    val.append(value)\n",
    "classes = val\n",
    "\n",
    "df_classes = pd.DataFrame(classes, columns=[\"aois\"])\n",
    "incremental_step = float(df_classes['aois'].value_counts().max() - 1)/float(len(cats) -1)\n",
    "\n",
    "y_val = [1+i*incremental_step for i in range(len(cats))]\n",
    "x_val = cats\n",
    "\n",
    "fig, ax1 = plt.subplots(figsize=(6,6))\n",
    "\n",
    "sns.countplot(x=\"aois\", data=df_classes, ax=ax1);\n",
    "ax1.plot(x_val, y_val, '-o', linewidth=2, color='black');\n",
    "\n",
    "bars = [r for r in ax1.get_children() if type(r)==Rectangle]\n",
    "colors = [c.get_facecolor() for c in bars[:-1]]\n",
    "colors = [[r,g,b] for (r,g,b,a) in colors]\n",
    "colors = np.array(colors).astype(np.float32)"
   ]
  },
  {
   "cell_type": "code",
   "execution_count": 180,
   "metadata": {},
   "outputs": [
    {
     "ename": "IndexError",
     "evalue": "index 12 is out of bounds for axis 0 with size 12",
     "output_type": "error",
     "traceback": [
      "\u001b[1;31m---------------------------------------------------------------------------\u001b[0m",
      "\u001b[1;31mIndexError\u001b[0m                                Traceback (most recent call last)",
      "\u001b[1;32m<ipython-input-180-89f2989b5378>\u001b[0m in \u001b[0;36m<module>\u001b[1;34m\u001b[0m\n\u001b[0;32m      5\u001b[0m \u001b[1;32mfor\u001b[0m \u001b[0mheight\u001b[0m \u001b[1;32min\u001b[0m \u001b[0mrange\u001b[0m\u001b[1;33m(\u001b[0m\u001b[0mim\u001b[0m\u001b[1;33m.\u001b[0m\u001b[0mshape\u001b[0m\u001b[1;33m[\u001b[0m\u001b[1;36m0\u001b[0m\u001b[1;33m]\u001b[0m\u001b[1;33m)\u001b[0m\u001b[1;33m:\u001b[0m\u001b[1;33m\u001b[0m\u001b[1;33m\u001b[0m\u001b[0m\n\u001b[0;32m      6\u001b[0m     \u001b[1;32mfor\u001b[0m \u001b[0mwidth\u001b[0m \u001b[1;32min\u001b[0m \u001b[0mrange\u001b[0m\u001b[1;33m(\u001b[0m\u001b[0mim\u001b[0m\u001b[1;33m.\u001b[0m\u001b[0mshape\u001b[0m\u001b[1;33m[\u001b[0m\u001b[1;36m1\u001b[0m\u001b[1;33m]\u001b[0m\u001b[1;33m)\u001b[0m\u001b[1;33m:\u001b[0m\u001b[1;33m\u001b[0m\u001b[1;33m\u001b[0m\u001b[0m\n\u001b[1;32m----> 7\u001b[1;33m         \u001b[0mim\u001b[0m\u001b[1;33m[\u001b[0m\u001b[0mheight\u001b[0m\u001b[1;33m,\u001b[0m \u001b[0mwidth\u001b[0m\u001b[1;33m]\u001b[0m \u001b[1;33m=\u001b[0m \u001b[1;36m0.4\u001b[0m \u001b[1;33m*\u001b[0m \u001b[0mim\u001b[0m\u001b[1;33m[\u001b[0m\u001b[0mheight\u001b[0m\u001b[1;33m,\u001b[0m \u001b[0mwidth\u001b[0m\u001b[1;33m]\u001b[0m \u001b[1;33m+\u001b[0m \u001b[1;36m0.6\u001b[0m \u001b[1;33m*\u001b[0m \u001b[0mcolors\u001b[0m\u001b[1;33m[\u001b[0m\u001b[0mcategorize_matrix\u001b[0m\u001b[1;33m[\u001b[0m\u001b[0mheight\u001b[0m\u001b[1;33m,\u001b[0m \u001b[0mwidth\u001b[0m\u001b[1;33m]\u001b[0m\u001b[1;33m]\u001b[0m\u001b[1;33m\u001b[0m\u001b[1;33m\u001b[0m\u001b[0m\n\u001b[0m\u001b[0;32m      8\u001b[0m \u001b[1;33m\u001b[0m\u001b[0m\n\u001b[0;32m      9\u001b[0m \u001b[0max\u001b[0m\u001b[1;33m.\u001b[0m\u001b[0mimshow\u001b[0m\u001b[1;33m(\u001b[0m\u001b[0mim\u001b[0m\u001b[1;33m)\u001b[0m\u001b[1;33m\u001b[0m\u001b[1;33m\u001b[0m\u001b[0m\n",
      "\u001b[1;31mIndexError\u001b[0m: index 12 is out of bounds for axis 0 with size 12"
     ]
    },
    {
     "data": {
      "image/png": "[encoded data removed]",
      "text/plain": [
       "<Figure size 576x576 with 1 Axes>"
      ]
     },
     "metadata": {},
     "output_type": "display_data"
    }
   ],
   "source": [
    "fig, ax = plt.subplots(figsize=(8,8))\n",
    "\n",
    "im = image_array[0].copy()\n",
    "\n",
    "for height in range(im.shape[0]):\n",
    "    for width in range(im.shape[1]):\n",
    "        im[height, width] = 0.4 * im[height, width] + 0.6 * colors[categorize_matrix[height, width]]\n",
    "\n",
    "ax.imshow(im)\n",
    "ax.plot(x, y, ':', linewidth=2, color='black');"
   ]
  },
  {
   "cell_type": "code",
   "execution_count": null,
   "metadata": {},
   "outputs": [],
   "source": []
  }
 ],
 "metadata": {
  "kernelspec": {
   "display_name": "Python 3",
   "language": "python",
   "name": "python3"
  },
  "language_info": {
   "codemirror_mode": {
    "name": "ipython",
    "version": 3
   },
   "file_extension": ".py",
   "mimetype": "text/x-python",
   "name": "python",
   "nbconvert_exporter": "python",
   "pygments_lexer": "ipython3",
   "version": "3.7.4"
  }
 },
 "nbformat": 4,
 "nbformat_minor": 4
}
