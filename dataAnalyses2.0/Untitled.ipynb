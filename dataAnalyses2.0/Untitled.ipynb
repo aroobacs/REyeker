{
 "cells": [
  {
   "cell_type": "code",
   "execution_count": 53,
   "metadata": {},
   "outputs": [],
   "source": [
    "from ipycanvas import Canvas, hold_canvas\n",
    "from time import sleep\n",
    "\n",
    "def get_canvas(x, y, size):\n",
    "    canvas = Canvas(width=x*size, height=y*size)\n",
    "    canvas.fill_style = '#ffcccc'\n",
    "    canvas.fill_rect(0, 0, x*size, y*size)\n",
    "    canvas.pixel_size = size\n",
    "    canvas.x = x\n",
    "    canvas.y = y\n",
    "    return canvas\n",
    "\n",
    "def draw_rect(canvas, x, y, color='black'):\n",
    "    canvas.fill_style = color\n",
    "    size = canvas.pixel_size\n",
    "    canvas.fill_rect(x*size, y*size, size, size)\n",
    "    \n",
    "def clear(canvas):\n",
    "    canvas.fill_style = 'white'\n",
    "    canvas.fill_rect(0, 0, canvas.x*canvas.pixel_size, canvas.y*canvas.pixel_size)\n",
    "      "
   ]
  },
  {
   "cell_type": "code",
   "execution_count": 13,
   "metadata": {},
   "outputs": [
    {
     "data": {
      "application/vnd.jupyter.widget-view+json": {
       "model_id": "bc301f903923445c8afe14562bdc4d8d",
       "version_major": 2,
       "version_minor": 0
      },
      "text/plain": [
       "Canvas(height=120, width=120)"
      ]
     },
     "metadata": {},
     "output_type": "display_data"
    }
   ],
   "source": [
    "canvas = get_canvas(8,8,15)\n",
    "display(canvas)\n",
    "x = 0\n",
    "\n",
    "for i in range(0,20):\n",
    "    with hold_canvas(canvas):\n",
    "        # Clear the old animation step\n",
    "        clear(canvas)\n",
    "        draw_rect(canvas, x, 1)\n",
    "        x= x+1\n",
    "\n",
    "    sleep(1.0)"
   ]
  },
  {
   "cell_type": "code",
   "execution_count": 58,
   "metadata": {},
   "outputs": [
    {
     "data": {
      "application/vnd.jupyter.widget-view+json": {
       "model_id": "fca4db8edade49848dd47728976db5ae",
       "version_major": 2,
       "version_minor": 0
      },
      "text/plain": [
       "Canvas(height=80, width=80)"
      ]
     },
     "metadata": {},
     "output_type": "display_data"
    }
   ],
   "source": [
    "understood = True\n",
    "canvas = get_canvas(8,8,10)\n",
    "for i in range(3,5):\n",
    "    draw_rect(canvas, i, 6)\n",
    "if understood:    \n",
    "    draw_rect(canvas, 2, 5)\n",
    "    draw_rect(canvas, 5, 5) \n",
    "else:\n",
    "    draw_rect(canvas, 2, 7)\n",
    "    draw_rect(canvas, 5, 7)\n",
    "draw_rect(canvas, 2, 2, \"brown\")\n",
    "draw_rect(canvas, 5, 2, \"brown\")\n",
    "draw_rect(canvas, 5, 6, \"red\")\n",
    "display(canvas)"
   ]
  },
  {
   "cell_type": "code",
   "execution_count": 2,
   "metadata": {},
   "outputs": [
    {
     "name": "stdout",
     "output_type": "stream",
     "text": [
      "144\n",
      "23\n",
      "1\n",
      "132\n",
      "1.0909090909090908\n",
      "743008370688\n",
      "1\n"
     ]
    },
    {
     "name": "stdin",
     "output_type": "stream",
     "text": [
      "wie soll x sein  23\n"
     ]
    },
    {
     "name": "stdout",
     "output_type": "stream",
     "text": [
      "92.0\n"
     ]
    }
   ],
   "source": [
    "def f(x):\n",
    "    return x**2\n",
    "\n",
    "x = 12\n",
    "y = 11\n",
    "\n",
    "print(f(x))\n",
    "\n",
    "print(x+y)\n",
    "print(x-y)\n",
    "print(x*y)\n",
    "print(x/y)\n",
    "print(x**y)\n",
    "print(x%y)\n",
    "\n",
    "Eingabe = input(\"wie soll x sein \")\n",
    "Eingabe = float(Eingabe)\n",
    "\n",
    "print(Eingabe*4)"
   ]
  },
  {
   "cell_type": "code",
   "execution_count": 3,
   "metadata": {},
   "outputs": [
    {
     "name": "stdout",
     "output_type": "stream",
     "text": [
      "7.0\n",
      "9\n",
      "-5\n"
     ]
    }
   ],
   "source": [
    "x = 42\n",
    "y = 6\n",
    "\n",
    "print(x/y)\n",
    "\n",
    "def j(a, b):\n",
    "    return a+2-b\n",
    "\n",
    "def binom_1(x, y):\n",
    "    return (x+y)**2\n",
    "\n",
    "print(binom_1(1,2))\n",
    "\n",
    "def binom_3(a,b):\n",
    "    return (a+b)*(a-b)\n",
    "\n",
    "print(binom_3(2,3))"
   ]
  },
  {
   "cell_type": "code",
   "execution_count": 6,
   "metadata": {},
   "outputs": [
    {
     "name": "stdin",
     "output_type": "stream",
     "text": [
      "Bitte gib eine Zahl ein 1\n",
      "Bitte gib eine andere Zahl ein 2\n"
     ]
    },
    {
     "ename": "NameError",
     "evalue": "name 'binom_3' is not defined",
     "output_type": "error",
     "traceback": [
      "\u001b[1;31m---------------------------------------------------------------------------\u001b[0m",
      "\u001b[1;31mNameError\u001b[0m                                 Traceback (most recent call last)",
      "\u001b[1;32m<ipython-input-6-702c577b7a4b>\u001b[0m in \u001b[0;36m<module>\u001b[1;34m\u001b[0m\n\u001b[0;32m      5\u001b[0m \u001b[0my\u001b[0m \u001b[1;33m=\u001b[0m \u001b[0mfloat\u001b[0m\u001b[1;33m(\u001b[0m\u001b[0mEingabe2\u001b[0m\u001b[1;33m)\u001b[0m\u001b[1;33m\u001b[0m\u001b[1;33m\u001b[0m\u001b[0m\n\u001b[0;32m      6\u001b[0m \u001b[1;33m\u001b[0m\u001b[0m\n\u001b[1;32m----> 7\u001b[1;33m \u001b[0mprint\u001b[0m\u001b[1;33m(\u001b[0m\u001b[0mbinom_3\u001b[0m\u001b[1;33m(\u001b[0m\u001b[0mx\u001b[0m\u001b[1;33m,\u001b[0m\u001b[0my\u001b[0m\u001b[1;33m)\u001b[0m\u001b[1;33m)\u001b[0m\u001b[1;33m\u001b[0m\u001b[1;33m\u001b[0m\u001b[0m\n\u001b[0m",
      "\u001b[1;31mNameError\u001b[0m: name 'binom_3' is not defined"
     ]
    }
   ],
   "source": [
    "Eingabe1 = input(\"Bitte gib eine Zahl ein\")\n",
    "x = float(Eingabe1)\n",
    "\n",
    "Eingabe2 = input(\"Bitte gib eine andere Zahl ein\")\n",
    "y = float(Eingabe2)\n",
    "\n",
    "print(binom_3(x,y))"
   ]
  },
  {
   "cell_type": "code",
   "execution_count": 17,
   "metadata": {},
   "outputs": [
    {
     "name": "stdout",
     "output_type": "stream",
     "text": [
      " zu 0 gehört 0\n",
      " zu 1 gehört 1\n",
      " zu 2 gehört 2\n",
      " zu 3 gehört 3\n",
      " zu 4 gehört 4\n",
      " zu 5 gehört 5\n",
      " zu 6 gehört 6\n",
      " zu 7 gehört 7\n",
      " zu 8 gehört 8\n",
      " zu 9 gehört 9\n"
     ]
    }
   ],
   "source": [
    "for i in range(0,10):\n",
    "    print ( \" zu \" + str(i) + \" gehört \"+ str(i))"
   ]
  },
  {
   "cell_type": "code",
   "execution_count": 23,
   "metadata": {},
   "outputs": [
    {
     "name": "stdout",
     "output_type": "stream",
     "text": [
      " zu -10 gehört 100\n",
      " zu -9 gehört 81\n",
      " zu -8 gehört 64\n",
      " zu -7 gehört 49\n",
      " zu -6 gehört 36\n",
      " zu -5 gehört 25\n",
      " zu -4 gehört 16\n",
      " zu -3 gehört 9\n",
      " zu -2 gehört 4\n",
      " zu -1 gehört 1\n",
      " zu 0 gehört 0\n",
      " zu 1 gehört 1\n",
      " zu 2 gehört 4\n",
      " zu 3 gehört 9\n",
      " zu 4 gehört 16\n",
      " zu 5 gehört 25\n",
      " zu 6 gehört 36\n",
      " zu 7 gehört 49\n",
      " zu 8 gehört 64\n",
      " zu 9 gehört 81\n",
      " zu 10 gehört 100\n"
     ]
    }
   ],
   "source": [
    "for m in range(-10,11):\n",
    "    n = m**2\n",
    "    print ( \" zu \" + str(m) + \" gehört \" + str(n))"
   ]
  },
  {
   "cell_type": "code",
   "execution_count": null,
   "metadata": {},
   "outputs": [],
   "source": []
  },
  {
   "cell_type": "code",
   "execution_count": 59,
   "metadata": {},
   "outputs": [
    {
     "name": "stdout",
     "output_type": "stream",
     "text": [
      "False\n",
      "True\n",
      "False\n",
      "Glücklich\n",
      "False\n",
      "True\n",
      "False\n",
      "It's a kind of Magic\n"
     ]
    }
   ],
   "source": [
    "Pizza = True\n",
    "Fischstäbchen = False\n",
    "\n",
    "print(not Pizza)\n",
    "print(Pizza or Fischstäbchen)\n",
    "print(Pizza and Fischstäbchen)\n",
    "\n",
    "if Pizza or Fischstäbchen:\n",
    "    print(\"Glücklich\")\n",
    "else:\n",
    "    print(\"Döner\")\n",
    "    \n",
    "Informatiker = True\n",
    "Laie = False\n",
    "\n",
    "print(not Informatiker)\n",
    "print(Informatiker or Laie)\n",
    "print(Informatiker and Laie)\n",
    "\n",
    "if Informatiker and Laie:\n",
    "    print(\"Mission impossible\")\n",
    "else:\n",
    "    print(\"It's a kind of Magic\")"
   ]
  },
  {
   "cell_type": "code",
   "execution_count": null,
   "metadata": {},
   "outputs": [],
   "source": []
  },
  {
   "cell_type": "code",
   "execution_count": 99,
   "metadata": {},
   "outputs": [
    {
     "data": {
      "image/png": "[encoded data removed]",
      "text/plain": [
       "<Figure size 432x288 with 1 Axes>"
      ]
     },
     "metadata": {
      "needs_background": "light"
     },
     "output_type": "display_data"
    }
   ],
   "source": [
    "import matplotlib.pyplot as plt\n",
    "import numpy as np\n",
    "\n",
    "x = []\n",
    "y = []\n",
    "\n",
    "for i in np.arange(-5.0,5.0, 0.1):\n",
    "    x.append(i)\n",
    "    y.append(i**3-i**2)\n",
    "    \n",
    "plt.plot(x, y)\n",
    "plt.show()    "
   ]
  },
  {
   "cell_type": "code",
   "execution_count": null,
   "metadata": {},
   "outputs": [],
   "source": []
  }
 ],
 "metadata": {
  "kernelspec": {
   "display_name": "Python 3",
   "language": "python",
   "name": "python3"
  },
  "language_info": {
   "codemirror_mode": {
    "name": "ipython",
    "version": 3
   },
   "file_extension": ".py",
   "mimetype": "text/x-python",
   "name": "python",
   "nbconvert_exporter": "python",
   "pygments_lexer": "ipython3",
   "version": "3.8.5"
  }
 },
 "nbformat": 4,
 "nbformat_minor": 4
}
